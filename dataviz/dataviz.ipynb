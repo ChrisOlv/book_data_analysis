{
 "cells": [
  {
   "cell_type": "code",
   "execution_count": 10,
   "metadata": {},
   "outputs": [
    {
     "name": "stdout",
     "output_type": "stream",
     "text": [
      "Collecting plotly\n",
      "  Using cached plotly-5.24.1-py3-none-any.whl.metadata (7.3 kB)\n",
      "Requirement already satisfied: tenacity>=6.2.0 in d:\\6.dev\\book_data_analysis\\.venv\\lib\\site-packages (from plotly) (8.5.0)\n",
      "Requirement already satisfied: packaging in d:\\6.dev\\book_data_analysis\\.venv\\lib\\site-packages (from plotly) (24.1)\n",
      "Using cached plotly-5.24.1-py3-none-any.whl (19.1 MB)\n",
      "Installing collected packages: plotly\n",
      "Successfully installed plotly-5.24.1\n"
     ]
    },
    {
     "name": "stderr",
     "output_type": "stream",
     "text": [
      "\n",
      "[notice] A new release of pip is available: 24.2 -> 24.3.1\n",
      "[notice] To update, run: python.exe -m pip install --upgrade pip\n"
     ]
    }
   ],
   "source": [
    "# ! pip install streamlit\n",
    "! pip install plotly"
   ]
  },
  {
   "cell_type": "code",
   "execution_count": 2,
   "metadata": {},
   "outputs": [],
   "source": [
    "import pandas as pd\n",
    "import seaborn as sns\n",
    "import matplotlib.pyplot as plt\n",
    "import matplotlib.dates as mdates\n",
    "import warnings\n",
    "from datetime import timedelta\n",
    "import plotly.express as px\n",
    "\n",
    "pd.set_option('display.max_columns', 40)\n",
    "# display max rows 75\n",
    "pd.set_option('display.max_rows', 75)"
   ]
  },
  {
   "cell_type": "markdown",
   "metadata": {},
   "source": [
    "Pour reprendre en route, possible de récupérer directement la verion du dataset depuis les fichiers parquets"
   ]
  },
  {
   "cell_type": "code",
   "execution_count": 3,
   "metadata": {},
   "outputs": [],
   "source": [
    "# df_book = pd.read_parquet('df_book.parquet')\n",
    "df_book_updated = pd.read_parquet('df_book_updated.parquet')\n",
    "df_book_streamlit = pd.read_parquet(\"df_book_streamlit.parquet\")\n",
    "df_stat = pd.read_parquet('../data_sources_from_python/stats_lecture.parquet')\n"
   ]
  },
  {
   "cell_type": "markdown",
   "metadata": {},
   "source": [
    "# fichiers source\n",
    "Attention aux noms des tables et des variables.\n",
    "Attention aux noms des fichiers générés\n",
    "\n",
    "* df_book --> df_book_updated --> df_book_streamlit\n",
    "* df_stat"
   ]
  },
  {
   "cell_type": "code",
   "execution_count": 2,
   "metadata": {},
   "outputs": [
    {
     "data": {
      "text/html": [
       "<div>\n",
       "<style scoped>\n",
       "    .dataframe tbody tr th:only-of-type {\n",
       "        vertical-align: middle;\n",
       "    }\n",
       "\n",
       "    .dataframe tbody tr th {\n",
       "        vertical-align: top;\n",
       "    }\n",
       "\n",
       "    .dataframe thead th {\n",
       "        text-align: right;\n",
       "    }\n",
       "</style>\n",
       "<table border=\"1\" class=\"dataframe\">\n",
       "  <thead>\n",
       "    <tr style=\"text-align: right;\">\n",
       "      <th></th>\n",
       "      <th>id</th>\n",
       "      <th>Titre</th>\n",
       "      <th>Auteurs</th>\n",
       "      <th>notes</th>\n",
       "      <th>Date dernière ouverture</th>\n",
       "      <th>page</th>\n",
       "      <th>Série</th>\n",
       "      <th>Langue</th>\n",
       "      <th>total_read_time</th>\n",
       "      <th>total Nbr de pages lues</th>\n",
       "      <th>oeuvre</th>\n",
       "      <th>id long</th>\n",
       "      <th>Auteurs courts</th>\n",
       "      <th>format</th>\n",
       "      <th>First published date</th>\n",
       "      <th>categorie</th>\n",
       "    </tr>\n",
       "  </thead>\n",
       "  <tbody>\n",
       "    <tr>\n",
       "      <th>0</th>\n",
       "      <td>2</td>\n",
       "      <td>Le crime de l'Orient-Express</td>\n",
       "      <td>Christie, Agatha</td>\n",
       "      <td>0</td>\n",
       "      <td>2023-11-27</td>\n",
       "      <td>349</td>\n",
       "      <td>l'Orient #1</td>\n",
       "      <td>fr</td>\n",
       "      <td>13191</td>\n",
       "      <td>330</td>\n",
       "      <td>Le crime de l'Orient-Express - Christie, Agatha</td>\n",
       "      <td>00002</td>\n",
       "      <td>Christie Agatha</td>\n",
       "      <td>ebook</td>\n",
       "      <td>1934</td>\n",
       "      <td>fiction/SF</td>\n",
       "    </tr>\n",
       "    <tr>\n",
       "      <th>1</th>\n",
       "      <td>3</td>\n",
       "      <td>Let's Get Together</td>\n",
       "      <td>Isaac Asimov</td>\n",
       "      <td>0</td>\n",
       "      <td>2023-11-27</td>\n",
       "      <td>68</td>\n",
       "      <td>N/A</td>\n",
       "      <td>en</td>\n",
       "      <td>388</td>\n",
       "      <td>8</td>\n",
       "      <td>Let's Get Together - Isaac Asimov</td>\n",
       "      <td>00003</td>\n",
       "      <td>Isaac Asimov</td>\n",
       "      <td>ebook</td>\n",
       "      <td>1957</td>\n",
       "      <td>fiction/SF</td>\n",
       "    </tr>\n",
       "    <tr>\n",
       "      <th>2</th>\n",
       "      <td>4</td>\n",
       "      <td>La nuit des temps</td>\n",
       "      <td>Barjavel,René</td>\n",
       "      <td>0</td>\n",
       "      <td>2024-01-08</td>\n",
       "      <td>449</td>\n",
       "      <td>N/A</td>\n",
       "      <td>und</td>\n",
       "      <td>12240</td>\n",
       "      <td>289</td>\n",
       "      <td>La nuit des temps - Barjavel,René</td>\n",
       "      <td>00004</td>\n",
       "      <td>Barjavel René</td>\n",
       "      <td>ebook</td>\n",
       "      <td>1968</td>\n",
       "      <td>fiction/SF</td>\n",
       "    </tr>\n",
       "    <tr>\n",
       "      <th>3</th>\n",
       "      <td>5</td>\n",
       "      <td>Chasseur, cueilleur, parent: les cultures ance...</td>\n",
       "      <td>Michaeleen Doucleff</td>\n",
       "      <td>0</td>\n",
       "      <td>2024-01-09</td>\n",
       "      <td>675</td>\n",
       "      <td>N/A</td>\n",
       "      <td>fr</td>\n",
       "      <td>18029</td>\n",
       "      <td>418</td>\n",
       "      <td>Chasseur, cueilleur, parent: les cultures ance...</td>\n",
       "      <td>00005</td>\n",
       "      <td>Michaeleen Doucleff</td>\n",
       "      <td>ebook</td>\n",
       "      <td>2021</td>\n",
       "      <td>non-fiction/parenting</td>\n",
       "    </tr>\n",
       "    <tr>\n",
       "      <th>4</th>\n",
       "      <td>11</td>\n",
       "      <td>La faune de l'espace</td>\n",
       "      <td>Van Vogt,Alfred E</td>\n",
       "      <td>0</td>\n",
       "      <td>2024-01-08</td>\n",
       "      <td>809</td>\n",
       "      <td>N/A</td>\n",
       "      <td>fr</td>\n",
       "      <td>22</td>\n",
       "      <td>2</td>\n",
       "      <td>La faune de l'espace - Van Vogt,Alfred E</td>\n",
       "      <td>00011</td>\n",
       "      <td>Van Vogt</td>\n",
       "      <td>ebook</td>\n",
       "      <td>1950</td>\n",
       "      <td>fiction/SF</td>\n",
       "    </tr>\n",
       "  </tbody>\n",
       "</table>\n",
       "</div>"
      ],
      "text/plain": [
       "   id                                              Titre              Auteurs  \\\n",
       "0   2                       Le crime de l'Orient-Express     Christie, Agatha   \n",
       "1   3                                 Let's Get Together         Isaac Asimov   \n",
       "2   4                                  La nuit des temps        Barjavel,René   \n",
       "3   5  Chasseur, cueilleur, parent: les cultures ance...  Michaeleen Doucleff   \n",
       "4  11                               La faune de l'espace    Van Vogt,Alfred E   \n",
       "\n",
       "   notes Date dernière ouverture  page        Série Langue  total_read_time  \\\n",
       "0      0              2023-11-27   349  l'Orient #1     fr            13191   \n",
       "1      0              2023-11-27    68          N/A     en              388   \n",
       "2      0              2024-01-08   449          N/A    und            12240   \n",
       "3      0              2024-01-09   675          N/A     fr            18029   \n",
       "4      0              2024-01-08   809          N/A     fr               22   \n",
       "\n",
       "   total Nbr de pages lues                                             oeuvre  \\\n",
       "0                      330    Le crime de l'Orient-Express - Christie, Agatha   \n",
       "1                        8                  Let's Get Together - Isaac Asimov   \n",
       "2                      289                  La nuit des temps - Barjavel,René   \n",
       "3                      418  Chasseur, cueilleur, parent: les cultures ance...   \n",
       "4                        2           La faune de l'espace - Van Vogt,Alfred E   \n",
       "\n",
       "  id long       Auteurs courts format First published date  \\\n",
       "0   00002      Christie Agatha  ebook                 1934   \n",
       "1   00003         Isaac Asimov  ebook                 1957   \n",
       "2   00004        Barjavel René  ebook                 1968   \n",
       "3   00005  Michaeleen Doucleff  ebook                 2021   \n",
       "4   00011             Van Vogt  ebook                 1950   \n",
       "\n",
       "               categorie  \n",
       "0             fiction/SF  \n",
       "1             fiction/SF  \n",
       "2             fiction/SF  \n",
       "3  non-fiction/parenting  \n",
       "4             fiction/SF  "
      ]
     },
     "execution_count": 2,
     "metadata": {},
     "output_type": "execute_result"
    }
   ],
   "source": [
    "df_book = pd.read_parquet('../data_sources_from_python/df_book.parquet')\n",
    "df_book.to_excel(\"df_book.xlsx\", index=False)\n",
    "df_book.head(5)"
   ]
  },
  {
   "cell_type": "code",
   "execution_count": 4,
   "metadata": {},
   "outputs": [
    {
     "data": {
      "text/plain": [
       "Index(['id_book', 'page', 'heure de début',\n",
       "       'Temps passé sur la page en seconde', 'total_pages', 'id_long',\n",
       "       'Temps de lecture en minute', 'Temps de lecture en heure',\n",
       "       'date lecture', 'Heure de début de lecture', 'Heure',\n",
       "       'Heure en décimal', 'Jour Précédent', 'Est Consécutif',\n",
       "       'date de fin de lecture'],\n",
       "      dtype='object')"
      ]
     },
     "execution_count": 4,
     "metadata": {},
     "output_type": "execute_result"
    }
   ],
   "source": [
    "df_stat = pd.read_parquet('../data_sources_from_python/stats_lecture.parquet')\n",
    "# df_stat.to_excel(\"df_stat.xlsx\", index=False)\n",
    "df_stat.columns"
   ]
  },
  {
   "cell_type": "code",
   "execution_count": 78,
   "metadata": {},
   "outputs": [
    {
     "name": "stdout",
     "output_type": "stream",
     "text": [
      "<class 'pandas.core.frame.DataFrame'>\n",
      "RangeIndex: 19032 entries, 0 to 19031\n",
      "Data columns (total 15 columns):\n",
      " #   Column                              Non-Null Count  Dtype         \n",
      "---  ------                              --------------  -----         \n",
      " 0   id_book                             19032 non-null  int64         \n",
      " 1   page                                19032 non-null  int64         \n",
      " 2   heure de début                      19032 non-null  datetime64[ns]\n",
      " 3   Temps passé sur la page en seconde  19032 non-null  int64         \n",
      " 4   total_pages                         19032 non-null  int64         \n",
      " 5   id_long                             19032 non-null  object        \n",
      " 6   Temps de lecture en minute          19032 non-null  float64       \n",
      " 7   Temps de lecture en heure           19032 non-null  float64       \n",
      " 8   date lecture                        19032 non-null  object        \n",
      " 9   Heure de début de lecture           19032 non-null  object        \n",
      " 10  Heure                               19032 non-null  int32         \n",
      " 11  Heure en décimal                    19032 non-null  float64       \n",
      " 12  Jour Précédent                      19032 non-null  object        \n",
      " 13  Est Consécutif                      19032 non-null  bool          \n",
      " 14  date de fin de lecture              19032 non-null  object        \n",
      "dtypes: bool(1), datetime64[ns](1), float64(3), int32(1), int64(4), object(5)\n",
      "memory usage: 2.0+ MB\n"
     ]
    }
   ],
   "source": [
    "df_stat.info()"
   ]
  },
  {
   "cell_type": "markdown",
   "metadata": {},
   "source": []
  },
  {
   "cell_type": "code",
   "execution_count": 79,
   "metadata": {},
   "outputs": [
    {
     "data": {
      "text/html": [
       "<div>\n",
       "<style scoped>\n",
       "    .dataframe tbody tr th:only-of-type {\n",
       "        vertical-align: middle;\n",
       "    }\n",
       "\n",
       "    .dataframe tbody tr th {\n",
       "        vertical-align: top;\n",
       "    }\n",
       "\n",
       "    .dataframe thead th {\n",
       "        text-align: right;\n",
       "    }\n",
       "</style>\n",
       "<table border=\"1\" class=\"dataframe\">\n",
       "  <thead>\n",
       "    <tr style=\"text-align: right;\">\n",
       "      <th></th>\n",
       "      <th>id_book</th>\n",
       "      <th>page</th>\n",
       "      <th>heure de début</th>\n",
       "      <th>Temps passé sur la page en seconde</th>\n",
       "      <th>total_pages</th>\n",
       "      <th>id_long</th>\n",
       "      <th>Temps de lecture en minute</th>\n",
       "      <th>Temps de lecture en heure</th>\n",
       "      <th>date lecture</th>\n",
       "      <th>Heure de début de lecture</th>\n",
       "      <th>Heure</th>\n",
       "      <th>Heure en décimal</th>\n",
       "      <th>Jour Précédent</th>\n",
       "      <th>Est Consécutif</th>\n",
       "      <th>date de fin de lecture</th>\n",
       "    </tr>\n",
       "  </thead>\n",
       "  <tbody>\n",
       "    <tr>\n",
       "      <th>19031</th>\n",
       "      <td>73</td>\n",
       "      <td>133</td>\n",
       "      <td>2024-11-06 13:20:05</td>\n",
       "      <td>69</td>\n",
       "      <td>636</td>\n",
       "      <td>00073</td>\n",
       "      <td>1.150000</td>\n",
       "      <td>0.019167</td>\n",
       "      <td>2024-11-06</td>\n",
       "      <td>13:20:05</td>\n",
       "      <td>13</td>\n",
       "      <td>13.333333</td>\n",
       "      <td>2024-11-05</td>\n",
       "      <td>True</td>\n",
       "      <td>2024-11-06</td>\n",
       "    </tr>\n",
       "    <tr>\n",
       "      <th>19019</th>\n",
       "      <td>73</td>\n",
       "      <td>132</td>\n",
       "      <td>2024-11-06 11:53:42</td>\n",
       "      <td>41</td>\n",
       "      <td>636</td>\n",
       "      <td>00073</td>\n",
       "      <td>0.683333</td>\n",
       "      <td>0.011389</td>\n",
       "      <td>2024-11-06</td>\n",
       "      <td>11:53:42</td>\n",
       "      <td>11</td>\n",
       "      <td>11.883333</td>\n",
       "      <td>2024-11-05</td>\n",
       "      <td>True</td>\n",
       "      <td>2024-11-06</td>\n",
       "    </tr>\n",
       "    <tr>\n",
       "      <th>19021</th>\n",
       "      <td>73</td>\n",
       "      <td>131</td>\n",
       "      <td>2024-11-06 11:53:19</td>\n",
       "      <td>23</td>\n",
       "      <td>636</td>\n",
       "      <td>00073</td>\n",
       "      <td>0.383333</td>\n",
       "      <td>0.006389</td>\n",
       "      <td>2024-11-06</td>\n",
       "      <td>11:53:19</td>\n",
       "      <td>11</td>\n",
       "      <td>11.883333</td>\n",
       "      <td>2024-11-05</td>\n",
       "      <td>True</td>\n",
       "      <td>2024-11-06</td>\n",
       "    </tr>\n",
       "    <tr>\n",
       "      <th>19028</th>\n",
       "      <td>73</td>\n",
       "      <td>130</td>\n",
       "      <td>2024-11-06 11:52:49</td>\n",
       "      <td>30</td>\n",
       "      <td>636</td>\n",
       "      <td>00073</td>\n",
       "      <td>0.500000</td>\n",
       "      <td>0.008333</td>\n",
       "      <td>2024-11-06</td>\n",
       "      <td>11:52:49</td>\n",
       "      <td>11</td>\n",
       "      <td>11.866667</td>\n",
       "      <td>2024-11-05</td>\n",
       "      <td>True</td>\n",
       "      <td>2024-11-06</td>\n",
       "    </tr>\n",
       "    <tr>\n",
       "      <th>19025</th>\n",
       "      <td>73</td>\n",
       "      <td>129</td>\n",
       "      <td>2024-11-06 11:52:35</td>\n",
       "      <td>14</td>\n",
       "      <td>636</td>\n",
       "      <td>00073</td>\n",
       "      <td>0.233333</td>\n",
       "      <td>0.003889</td>\n",
       "      <td>2024-11-06</td>\n",
       "      <td>11:52:35</td>\n",
       "      <td>11</td>\n",
       "      <td>11.866667</td>\n",
       "      <td>2024-11-05</td>\n",
       "      <td>True</td>\n",
       "      <td>2024-11-06</td>\n",
       "    </tr>\n",
       "    <tr>\n",
       "      <th>19027</th>\n",
       "      <td>73</td>\n",
       "      <td>127</td>\n",
       "      <td>2024-11-06 11:52:13</td>\n",
       "      <td>21</td>\n",
       "      <td>636</td>\n",
       "      <td>00073</td>\n",
       "      <td>0.350000</td>\n",
       "      <td>0.005833</td>\n",
       "      <td>2024-11-06</td>\n",
       "      <td>11:52:13</td>\n",
       "      <td>11</td>\n",
       "      <td>11.866667</td>\n",
       "      <td>2024-11-05</td>\n",
       "      <td>True</td>\n",
       "      <td>2024-11-06</td>\n",
       "    </tr>\n",
       "    <tr>\n",
       "      <th>19022</th>\n",
       "      <td>73</td>\n",
       "      <td>126</td>\n",
       "      <td>2024-11-06 11:51:50</td>\n",
       "      <td>23</td>\n",
       "      <td>636</td>\n",
       "      <td>00073</td>\n",
       "      <td>0.383333</td>\n",
       "      <td>0.006389</td>\n",
       "      <td>2024-11-06</td>\n",
       "      <td>11:51:50</td>\n",
       "      <td>11</td>\n",
       "      <td>11.850000</td>\n",
       "      <td>2024-11-05</td>\n",
       "      <td>True</td>\n",
       "      <td>2024-11-06</td>\n",
       "    </tr>\n",
       "    <tr>\n",
       "      <th>19029</th>\n",
       "      <td>73</td>\n",
       "      <td>125</td>\n",
       "      <td>2024-11-06 11:51:30</td>\n",
       "      <td>20</td>\n",
       "      <td>636</td>\n",
       "      <td>00073</td>\n",
       "      <td>0.333333</td>\n",
       "      <td>0.005556</td>\n",
       "      <td>2024-11-06</td>\n",
       "      <td>11:51:30</td>\n",
       "      <td>11</td>\n",
       "      <td>11.850000</td>\n",
       "      <td>2024-11-05</td>\n",
       "      <td>True</td>\n",
       "      <td>2024-11-06</td>\n",
       "    </tr>\n",
       "    <tr>\n",
       "      <th>19026</th>\n",
       "      <td>73</td>\n",
       "      <td>124</td>\n",
       "      <td>2024-11-06 11:51:00</td>\n",
       "      <td>30</td>\n",
       "      <td>636</td>\n",
       "      <td>00073</td>\n",
       "      <td>0.500000</td>\n",
       "      <td>0.008333</td>\n",
       "      <td>2024-11-06</td>\n",
       "      <td>11:51:00</td>\n",
       "      <td>11</td>\n",
       "      <td>11.850000</td>\n",
       "      <td>2024-11-05</td>\n",
       "      <td>True</td>\n",
       "      <td>2024-11-06</td>\n",
       "    </tr>\n",
       "    <tr>\n",
       "      <th>19023</th>\n",
       "      <td>73</td>\n",
       "      <td>123</td>\n",
       "      <td>2024-11-06 11:50:40</td>\n",
       "      <td>20</td>\n",
       "      <td>636</td>\n",
       "      <td>00073</td>\n",
       "      <td>0.333333</td>\n",
       "      <td>0.005556</td>\n",
       "      <td>2024-11-06</td>\n",
       "      <td>11:50:40</td>\n",
       "      <td>11</td>\n",
       "      <td>11.833333</td>\n",
       "      <td>2024-11-05</td>\n",
       "      <td>True</td>\n",
       "      <td>2024-11-06</td>\n",
       "    </tr>\n",
       "  </tbody>\n",
       "</table>\n",
       "</div>"
      ],
      "text/plain": [
       "       id_book  page      heure de début  Temps passé sur la page en seconde  \\\n",
       "19031       73   133 2024-11-06 13:20:05                                  69   \n",
       "19019       73   132 2024-11-06 11:53:42                                  41   \n",
       "19021       73   131 2024-11-06 11:53:19                                  23   \n",
       "19028       73   130 2024-11-06 11:52:49                                  30   \n",
       "19025       73   129 2024-11-06 11:52:35                                  14   \n",
       "19027       73   127 2024-11-06 11:52:13                                  21   \n",
       "19022       73   126 2024-11-06 11:51:50                                  23   \n",
       "19029       73   125 2024-11-06 11:51:30                                  20   \n",
       "19026       73   124 2024-11-06 11:51:00                                  30   \n",
       "19023       73   123 2024-11-06 11:50:40                                  20   \n",
       "\n",
       "       total_pages id_long  Temps de lecture en minute  \\\n",
       "19031          636   00073                    1.150000   \n",
       "19019          636   00073                    0.683333   \n",
       "19021          636   00073                    0.383333   \n",
       "19028          636   00073                    0.500000   \n",
       "19025          636   00073                    0.233333   \n",
       "19027          636   00073                    0.350000   \n",
       "19022          636   00073                    0.383333   \n",
       "19029          636   00073                    0.333333   \n",
       "19026          636   00073                    0.500000   \n",
       "19023          636   00073                    0.333333   \n",
       "\n",
       "       Temps de lecture en heure date lecture Heure de début de lecture  \\\n",
       "19031                   0.019167   2024-11-06                  13:20:05   \n",
       "19019                   0.011389   2024-11-06                  11:53:42   \n",
       "19021                   0.006389   2024-11-06                  11:53:19   \n",
       "19028                   0.008333   2024-11-06                  11:52:49   \n",
       "19025                   0.003889   2024-11-06                  11:52:35   \n",
       "19027                   0.005833   2024-11-06                  11:52:13   \n",
       "19022                   0.006389   2024-11-06                  11:51:50   \n",
       "19029                   0.005556   2024-11-06                  11:51:30   \n",
       "19026                   0.008333   2024-11-06                  11:51:00   \n",
       "19023                   0.005556   2024-11-06                  11:50:40   \n",
       "\n",
       "       Heure  Heure en décimal Jour Précédent  Est Consécutif  \\\n",
       "19031     13         13.333333     2024-11-05            True   \n",
       "19019     11         11.883333     2024-11-05            True   \n",
       "19021     11         11.883333     2024-11-05            True   \n",
       "19028     11         11.866667     2024-11-05            True   \n",
       "19025     11         11.866667     2024-11-05            True   \n",
       "19027     11         11.866667     2024-11-05            True   \n",
       "19022     11         11.850000     2024-11-05            True   \n",
       "19029     11         11.850000     2024-11-05            True   \n",
       "19026     11         11.850000     2024-11-05            True   \n",
       "19023     11         11.833333     2024-11-05            True   \n",
       "\n",
       "      date de fin de lecture  \n",
       "19031             2024-11-06  \n",
       "19019             2024-11-06  \n",
       "19021             2024-11-06  \n",
       "19028             2024-11-06  \n",
       "19025             2024-11-06  \n",
       "19027             2024-11-06  \n",
       "19022             2024-11-06  \n",
       "19029             2024-11-06  \n",
       "19026             2024-11-06  \n",
       "19023             2024-11-06  "
      ]
     },
     "execution_count": 79,
     "metadata": {},
     "output_type": "execute_result"
    }
   ],
   "source": [
    "# faire un head de df stat trié par heure de début desc\n",
    "# \n",
    "df_stat.sort_values(by='heure de début', ascending=False).head(10)"
   ]
  },
  {
   "cell_type": "markdown",
   "metadata": {},
   "source": [
    "# visuel 1 : table avec la liste des livres lus dans l'année. --> DONE\n",
    "## step 1 : easy\n",
    "* trié du plus récent au plus ancien \n",
    "* uniquement les livres lus en entier\n",
    "\n",
    "## step 2 : \n",
    "* Récupérer le nombre de jour de lecture pour chaque livre \n",
    "* calculer le nombre de pages lues par jour de lecture\n",
    "* calculer le nombre d'heures de lecture par jour de lecture\n",
    "* calculer la vitesse de lecture : page /min"
   ]
  },
  {
   "cell_type": "code",
   "execution_count": 8,
   "metadata": {},
   "outputs": [],
   "source": [
    "# Ignorer les avertissements\n",
    "warnings.filterwarnings('ignore')\n",
    "\n",
    "# Assurez-vous que la colonne \"date lecture\" est bien de type datetime\n",
    "df_stat['date lecture'] = pd.to_datetime(df_stat['date lecture'])\n",
    "\n",
    "# Grouper df_stat par 'id_book' et calculer les valeurs souhaitées\n",
    "df_stat_grouped = df_stat.groupby('id_book').agg({\n",
    "    'Temps passé sur la page en seconde': 'sum',\n",
    "    'date lecture': ['nunique', 'min', 'max']\n",
    "}).reset_index()\n",
    "\n",
    "# Aplatir les colonnes multi-niveaux résultantes après l'aggrégation\n",
    "df_stat_grouped.columns = ['id', 'total_temps_sur_page_seconde', 'nb_dates_lecture_distinctes', 'start_date', 'end_date']\n",
    "\n",
    "# Calculer la durée de l'intervalle de lecture\n",
    "df_stat_grouped['intervalle_lecture_en_jour'] = 1 +(df_stat_grouped['end_date'] - df_stat_grouped['start_date']).dt.days\n",
    "\n",
    "# Fusionner les résultats avec df_book\n",
    "df_book_updated = df_book.merge(df_stat_grouped, how='left', on='id')\n",
    "\n",
    "# Remplacer les valeurs NaN pour les colonnes nouvellement calculées, si nécessaire\n",
    "df_book_updated['total_temps_sur_page_seconde'].fillna(0, inplace=True)\n",
    "df_book_updated['nb_dates_lecture_distinctes'].fillna(0, inplace=True)\n",
    "df_book_updated['intervalle_lecture_en_jour'].fillna(0, inplace=True)\n",
    "\n",
    "# nombre de page lue par jour de lecture (total Nbr de pages lues / nb_dates_lecture_distinctes), arrondi à 2 chiffres après la virgule\n",
    "\n",
    "df_book_updated['nb_pages_lues_par_jour_de_lecture'] = (df_book_updated['total Nbr de pages lues'] / df_book_updated['nb_dates_lecture_distinctes']).round(1)\n",
    "\n",
    "# heure de lecure par jour de lecture\n",
    "df_book_updated['heure_lecture_par_jour_de_lecture'] = (df_book_updated['total_temps_sur_page_seconde'] / df_book_updated['nb_dates_lecture_distinctes'] / 3600).round(2)\n",
    "df_book_updated['minutes_lecture_par_jour_de_lecture'] = (df_book_updated['total_temps_sur_page_seconde'] / df_book_updated['nb_dates_lecture_distinctes'] / 60).round(1)\n",
    "\n",
    "# Remplacer les valeurs NaN dans la colonne 'heure_lecture_par_jour_de_lecture' par 0\n",
    "df_book_updated['heure_lecture_par_jour_de_lecture'].fillna(0, inplace=True)\n",
    "\n",
    "# Convertir les heures de lecture en durée formatée (HH:MM:SS)\n",
    "df_book_updated['temps_lecture_par_jour_de_lecture_formatee(hh:mm:ss)'] = df_book_updated['heure_lecture_par_jour_de_lecture'].apply(\n",
    "    lambda x: str(timedelta(hours=x))\n",
    ")\n",
    "\n",
    "# passer temps_lecture_par_jour_de_lecture_formatee en hh:mm\n",
    "df_book_updated['temps_lecture_par_jour_de_lecture_formatee(hh:mm:ss)'] = df_book_updated['temps_lecture_par_jour_de_lecture_formatee(hh:mm:ss)'].str[:4]\n",
    "\n",
    "df_book_updated[\"total_temps_de_lecture_(hh:mm:ss)\"] = df_book_updated[\"total_temps_sur_page_seconde\"].apply(\n",
    "    lambda x: str(timedelta(seconds=x))\n",
    ")\n",
    "\n",
    "# drop les lignes ou \"nb_dates_lecture_distinctes\" est égale à 0\n",
    "df_book_updated = df_book_updated[df_book_updated['nb_dates_lecture_distinctes'] != 0]\n",
    "\n",
    "# order by \"Date dernière ouverture\"\n",
    "df_book_updated = df_book_updated.sort_values(by='Date dernière ouverture', ascending=False)\n",
    "\n",
    "# ajoute une colonne \"pourcent_lu\" : \"total Nbr de pages lues du livre\" / \"page\"\n",
    "df_book_updated['pourcent_lu'] = (df_book_updated['total Nbr de pages lues'] / df_book_updated['page'] * 100).round(0)\n",
    "\n",
    "df_book_updated[\"temps passé sur le livre en minute\"] = (df_book_updated[\"total_temps_sur_page_seconde\"] / 60).round(2)\n",
    "df_book_updated[\"temps passé sur le livre en heure\"] = (df_book_updated[\"total_temps_sur_page_seconde\"] / 3600).round(2)\n",
    "\n",
    "# rename colonnes page en page total livre\n",
    "df_book_updated.rename(columns={\n",
    "    'page': 'total Nbr de pages du livre',\n",
    "    \"total_temps_sur_page_seconde\":\"temps passé sur le livre en seconde\"\n",
    "\n",
    "    }, inplace=True)\n",
    "\n",
    "\n",
    "# diviser la colonne série en 2 : série et numéro de série, en utilisant \"#\" comme séparateur\n",
    "df_book_updated[['série', 'numéro_série']] = df_book_updated['Série'].str.split('#', expand=True)\n",
    "\n",
    "# changer le format de start_date et end_date en yyyy-mm-dd\n",
    "df_book_updated['start_date'] = df_book_updated['start_date'].dt.strftime('%Y-%m-%d')\n",
    "df_book_updated['end_date'] = df_book_updated['end_date'].dt.strftime('%Y-%m-%d')\n",
    "\n",
    "# pourcent lu en pourcentage avec 0 chiffre après la virgule\n",
    "df_book_updated['pourcent_lu'] = df_book_updated['pourcent_lu'].astype(int)\n",
    "df_book_updated['intervalle_lecture_en_jour'] = df_book_updated['intervalle_lecture_en_jour'].astype(int)\n",
    "df_book_updated['nb_dates_lecture_distinctes'] = df_book_updated['nb_dates_lecture_distinctes'].astype(int)\n",
    "\n",
    "# si pourcent_lu est supérieur à 92, le mettre à 100\n",
    "df_book_updated.loc[df_book_updated['pourcent_lu'] > 92, 'pourcent_lu'] = 100\n",
    "\n",
    "# drop colonnes\n",
    "df_book_updated.drop(columns=[\n",
    "    'total_read_time', \n",
    "    'id long',\n",
    "    \"notes\",\n",
    "    \"Série\",\n",
    "    \"format\"\n",
    "    ], inplace=True)\n",
    "\n",
    "df_book_updated[\"pages lues à la minute\"] = df_book_updated[\"total Nbr de pages lues\"] / df_book_updated[\"temps passé sur le livre en minute\"]\n",
    "\n",
    "# remettre les colonnes dans l'odre : \n",
    "\n",
    "ordered_columns = [\n",
    "    'id', 'Titre', 'Auteurs', 'Auteurs courts', 'Langue', \n",
    "    'categorie', 'série', 'numéro_série', 'oeuvre', 'First published date', \n",
    "    'Date dernière ouverture', 'total Nbr de pages du livre', 'total Nbr de pages lues',\"pages lues à la minute\", \n",
    "    'pourcent_lu', 'start_date', 'end_date', 'intervalle_lecture_en_jour', \n",
    "    'nb_dates_lecture_distinctes', 'nb_pages_lues_par_jour_de_lecture', \n",
    "    'temps passé sur le livre en seconde', 'temps passé sur le livre en minute', \n",
    "    'temps passé sur le livre en heure', 'heure_lecture_par_jour_de_lecture', \n",
    "    'minutes_lecture_par_jour_de_lecture', 'temps_lecture_par_jour_de_lecture_formatee(hh:mm:ss)', \n",
    "    'total_temps_de_lecture_(hh:mm:ss)'\n",
    "]\n",
    "\n",
    "# Réorganiser les colonnes dans le DataFrame\n",
    "df_book_updated = df_book_updated[ordered_columns]\n",
    "\n",
    "\n",
    "df_book_updated.to_parquet('df_book_updated.parquet', engine='pyarrow',index=False)\n",
    "df_book_updated.to_excel('df_book_updated.xlsx', index=False)\n",
    "\n",
    "# formatage pour STREAMLIT\n",
    "# redrop des colonnes : id, auteurs, Langue, oeuvre,\n",
    "df_book_streamlit = df_book_updated.drop(columns=[\n",
    "    'id',\n",
    "    'Auteurs',\n",
    "    'Langue',\n",
    "    'oeuvre',\n",
    "    \"temps passé sur le livre en seconde\",\n",
    "    \"temps passé sur le livre en minute\",\n",
    "    \"heure_lecture_par_jour_de_lecture\"\n",
    "    ])\n",
    "\n",
    "\n",
    "# renaming des colonnes : auteurs courts en Auteurs\n",
    "df_book_streamlit.rename(columns={\n",
    "    'Auteurs courts': 'Auteurs',\n",
    "    \"série\":\"Série\",\n",
    "    \"categorie\":\"Catégorie\",\n",
    "    \"numéro_série\":\"#\",\n",
    "    \"First published date\":\"Année publication\",\n",
    "    \"Date dernière ouverture\":\"Date de lecture\",\n",
    "    \"total Nbr de pages du livre\":\"# pages\",\n",
    "    \"total Nbr de pages lues\":\"# pages lues\",\n",
    "    \"pourcent_lu\":\"% lu\",\n",
    "    \"start_date\":\"Commencé\",\n",
    "    \"end_date\":\"Terminé\",\n",
    "    \"intervalle_lecture_en_jour\":\"Durée lecture (j)\",\n",
    "    \"nb_dates_lecture_distinctes\":\"jours de lecture effectifs (jl)\",\n",
    "    \"nb_pages_lues_par_jour_de_lecture\":\"# pages lues/jl\",\t\n",
    "    \"total_temps_de_lecture_(hh:mm:ss)\": \"Temps de lecture total (hh:mm:ss)\",\n",
    "    \"minutes_lecture_par_jour_de_lecture\":\"minutes de lecture/jl\",\n",
    "    \"temps_lecture_par_jour_de_lecture_formatee(hh:mm:ss)\": \"Temps de lecture h:m/jl\",\n",
    "    \"Temps de lecture total (hh:mm:ss)\": \"Temps de lecture total\"\n",
    "\n",
    "    }, inplace=True)\n",
    "\n",
    "\n",
    "# export en parquet sans la colonne index\n",
    "df_book_streamlit.to_parquet('df_book_streamlit.parquet', engine='pyarrow',index=False)\n",
    "# export en excel\n",
    "df_book_streamlit.to_excel('df_book_streamlit.xlsx', index=False)\n"
   ]
  },
  {
   "cell_type": "code",
   "execution_count": 5,
   "metadata": {},
   "outputs": [
    {
     "name": "stdout",
     "output_type": "stream",
     "text": [
      "<class 'pandas.core.frame.DataFrame'>\n",
      "RangeIndex: 56 entries, 0 to 55\n",
      "Data columns (total 20 columns):\n",
      " #   Column                             Non-Null Count  Dtype  \n",
      "---  ------                             --------------  -----  \n",
      " 0   Titre                              56 non-null     object \n",
      " 1   Auteurs                            56 non-null     object \n",
      " 2   Catégorie                          56 non-null     object \n",
      " 3   Série                              56 non-null     object \n",
      " 4   #                                  20 non-null     object \n",
      " 5   Année publication                  56 non-null     object \n",
      " 6   Date de lecture                    56 non-null     object \n",
      " 7   # pages                            56 non-null     int64  \n",
      " 8   # pages lues                       56 non-null     int64  \n",
      " 9   pages lues à la minute             56 non-null     float64\n",
      " 10  % lu                               56 non-null     int64  \n",
      " 11  Commencé                           56 non-null     object \n",
      " 12  Terminé                            56 non-null     object \n",
      " 13  Durée lecture (j)                  56 non-null     int64  \n",
      " 14  jours de lecture effectifs (jl)    56 non-null     int64  \n",
      " 15  # pages lues/jl                    56 non-null     float64\n",
      " 16  temps passé sur le livre en heure  56 non-null     float64\n",
      " 17  minutes de lecture/jl              56 non-null     float64\n",
      " 18  Temps de lecture h:m/jl            56 non-null     object \n",
      " 19  Temps de lecture total (hh:mm:ss)  56 non-null     object \n",
      "dtypes: float64(4), int64(5), object(11)\n",
      "memory usage: 8.9+ KB\n",
      "None\n",
      "<class 'pandas.core.frame.DataFrame'>\n",
      "RangeIndex: 56 entries, 0 to 55\n",
      "Data columns (total 27 columns):\n",
      " #   Column                                                Non-Null Count  Dtype  \n",
      "---  ------                                                --------------  -----  \n",
      " 0   id                                                    56 non-null     int64  \n",
      " 1   Titre                                                 56 non-null     object \n",
      " 2   Auteurs                                               56 non-null     object \n",
      " 3   Auteurs courts                                        56 non-null     object \n",
      " 4   Langue                                                56 non-null     object \n",
      " 5   categorie                                             56 non-null     object \n",
      " 6   série                                                 56 non-null     object \n",
      " 7   numéro_série                                          20 non-null     object \n",
      " 8   oeuvre                                                56 non-null     object \n",
      " 9   First published date                                  56 non-null     object \n",
      " 10  Date dernière ouverture                               56 non-null     object \n",
      " 11  total Nbr de pages du livre                           56 non-null     int64  \n",
      " 12  total Nbr de pages lues                               56 non-null     int64  \n",
      " 13  pages lues à la minute                                56 non-null     float64\n",
      " 14  pourcent_lu                                           56 non-null     int64  \n",
      " 15  start_date                                            56 non-null     object \n",
      " 16  end_date                                              56 non-null     object \n",
      " 17  intervalle_lecture_en_jour                            56 non-null     int64  \n",
      " 18  nb_dates_lecture_distinctes                           56 non-null     int64  \n",
      " 19  nb_pages_lues_par_jour_de_lecture                     56 non-null     float64\n",
      " 20  temps passé sur le livre en seconde                   56 non-null     int64  \n",
      " 21  temps passé sur le livre en minute                    56 non-null     float64\n",
      " 22  temps passé sur le livre en heure                     56 non-null     float64\n",
      " 23  heure_lecture_par_jour_de_lecture                     56 non-null     float64\n",
      " 24  minutes_lecture_par_jour_de_lecture                   56 non-null     float64\n",
      " 25  temps_lecture_par_jour_de_lecture_formatee(hh:mm:ss)  56 non-null     object \n",
      " 26  total_temps_de_lecture_(hh:mm:ss)                     56 non-null     object \n",
      "dtypes: float64(6), int64(7), object(14)\n",
      "memory usage: 11.9+ KB\n",
      "None\n"
     ]
    }
   ],
   "source": [
    "print(df_book_streamlit.info())\n",
    "print(df_book_updated.info())"
   ]
  },
  {
   "cell_type": "code",
   "execution_count": 6,
   "metadata": {},
   "outputs": [
    {
     "data": {
      "image/png": "[encoded data removed]",
      "text/plain": [
       "<Figure size 1200x600 with 1 Axes>"
      ]
     },
     "metadata": {},
     "output_type": "display_data"
    }
   ],
   "source": [
    "# plot avec seaborn en bar chhat le nombre de livre par categorie\n",
    "\n",
    "#TODO 1 couleur par categorie principale \"fiction\" ou \"non-fiction\"\n",
    "\n",
    "\n",
    "sns.set_theme(style=\"whitegrid\")\n",
    "plt.figure(figsize=(12, 6))\n",
    "ax = sns.countplot(y='Catégorie', data=df_book_streamlit, order=df_book_streamlit['Catégorie'].value_counts().index)\n",
    "plt.title('Nombre de livres par catégorie')\n",
    "plt.xlabel('Nombre de livres')\n",
    "plt.ylabel('Catégorie')\n",
    "plt.show()"
   ]
  },
  {
   "cell_type": "code",
   "execution_count": 7,
   "metadata": {},
   "outputs": [
    {
     "ename": "ValueError",
     "evalue": "Mime type rendering requires nbformat>=4.2.0 but it is not installed",
     "output_type": "error",
     "traceback": [
      "\u001b[1;31m---------------------------------------------------------------------------\u001b[0m",
      "\u001b[1;31mValueError\u001b[0m                                Traceback (most recent call last)",
      "Cell \u001b[1;32mIn[7], line 14\u001b[0m\n\u001b[0;32m      6\u001b[0m fig \u001b[38;5;241m=\u001b[39m px\u001b[38;5;241m.\u001b[39mbar(category_counts,\n\u001b[0;32m      7\u001b[0m              x\u001b[38;5;241m=\u001b[39m\u001b[38;5;124m'\u001b[39m\u001b[38;5;124mnombre de livre\u001b[39m\u001b[38;5;124m'\u001b[39m, \n\u001b[0;32m      8\u001b[0m              y\u001b[38;5;241m=\u001b[39m\u001b[38;5;124m'\u001b[39m\u001b[38;5;124mCatégorie\u001b[39m\u001b[38;5;124m'\u001b[39m,\n\u001b[0;32m      9\u001b[0m              orientation\u001b[38;5;241m=\u001b[39m\u001b[38;5;124m'\u001b[39m\u001b[38;5;124mh\u001b[39m\u001b[38;5;124m'\u001b[39m,  \u001b[38;5;66;03m# 'h' indique un bar chart horizontal\u001b[39;00m\n\u001b[0;32m     10\u001b[0m              title\u001b[38;5;241m=\u001b[39m\u001b[38;5;124m'\u001b[39m\u001b[38;5;124mNombre de livres par catégorie\u001b[39m\u001b[38;5;124m'\u001b[39m,\n\u001b[0;32m     11\u001b[0m              labels\u001b[38;5;241m=\u001b[39m{\u001b[38;5;124m'\u001b[39m\u001b[38;5;124mnombre de livre\u001b[39m\u001b[38;5;124m'\u001b[39m: \u001b[38;5;124m'\u001b[39m\u001b[38;5;124mNombre de livres\u001b[39m\u001b[38;5;124m'\u001b[39m, \u001b[38;5;124m'\u001b[39m\u001b[38;5;124mCatégorie\u001b[39m\u001b[38;5;124m'\u001b[39m: \u001b[38;5;124m'\u001b[39m\u001b[38;5;124mCatégories\u001b[39m\u001b[38;5;124m'\u001b[39m})\n\u001b[0;32m     13\u001b[0m \u001b[38;5;66;03m# Afficher le graphique\u001b[39;00m\n\u001b[1;32m---> 14\u001b[0m \u001b[43mfig\u001b[49m\u001b[38;5;241;43m.\u001b[39;49m\u001b[43mshow\u001b[49m\u001b[43m(\u001b[49m\u001b[43m)\u001b[49m\n",
      "File \u001b[1;32mc:\\1dev_projects\\book_data_analysis\\.venv\\Lib\\site-packages\\plotly\\basedatatypes.py:3410\u001b[0m, in \u001b[0;36mBaseFigure.show\u001b[1;34m(self, *args, **kwargs)\u001b[0m\n\u001b[0;32m   3377\u001b[0m \u001b[38;5;250m\u001b[39m\u001b[38;5;124;03m\"\"\"\u001b[39;00m\n\u001b[0;32m   3378\u001b[0m \u001b[38;5;124;03mShow a figure using either the default renderer(s) or the renderer(s)\u001b[39;00m\n\u001b[0;32m   3379\u001b[0m \u001b[38;5;124;03mspecified by the renderer argument\u001b[39;00m\n\u001b[1;32m   (...)\u001b[0m\n\u001b[0;32m   3406\u001b[0m \u001b[38;5;124;03mNone\u001b[39;00m\n\u001b[0;32m   3407\u001b[0m \u001b[38;5;124;03m\"\"\"\u001b[39;00m\n\u001b[0;32m   3408\u001b[0m \u001b[38;5;28;01mimport\u001b[39;00m \u001b[38;5;21;01mplotly\u001b[39;00m\u001b[38;5;21;01m.\u001b[39;00m\u001b[38;5;21;01mio\u001b[39;00m \u001b[38;5;28;01mas\u001b[39;00m \u001b[38;5;21;01mpio\u001b[39;00m\n\u001b[1;32m-> 3410\u001b[0m \u001b[38;5;28;01mreturn\u001b[39;00m \u001b[43mpio\u001b[49m\u001b[38;5;241;43m.\u001b[39;49m\u001b[43mshow\u001b[49m\u001b[43m(\u001b[49m\u001b[38;5;28;43mself\u001b[39;49m\u001b[43m,\u001b[49m\u001b[43m \u001b[49m\u001b[38;5;241;43m*\u001b[39;49m\u001b[43margs\u001b[49m\u001b[43m,\u001b[49m\u001b[43m \u001b[49m\u001b[38;5;241;43m*\u001b[39;49m\u001b[38;5;241;43m*\u001b[39;49m\u001b[43mkwargs\u001b[49m\u001b[43m)\u001b[49m\n",
      "File \u001b[1;32mc:\\1dev_projects\\book_data_analysis\\.venv\\Lib\\site-packages\\plotly\\io\\_renderers.py:394\u001b[0m, in \u001b[0;36mshow\u001b[1;34m(fig, renderer, validate, **kwargs)\u001b[0m\n\u001b[0;32m    389\u001b[0m         \u001b[38;5;28;01mraise\u001b[39;00m \u001b[38;5;167;01mValueError\u001b[39;00m(\n\u001b[0;32m    390\u001b[0m             \u001b[38;5;124m\"\u001b[39m\u001b[38;5;124mMime type rendering requires ipython but it is not installed\u001b[39m\u001b[38;5;124m\"\u001b[39m\n\u001b[0;32m    391\u001b[0m         )\n\u001b[0;32m    393\u001b[0m     \u001b[38;5;28;01mif\u001b[39;00m \u001b[38;5;129;01mnot\u001b[39;00m nbformat \u001b[38;5;129;01mor\u001b[39;00m Version(nbformat\u001b[38;5;241m.\u001b[39m__version__) \u001b[38;5;241m<\u001b[39m Version(\u001b[38;5;124m\"\u001b[39m\u001b[38;5;124m4.2.0\u001b[39m\u001b[38;5;124m\"\u001b[39m):\n\u001b[1;32m--> 394\u001b[0m         \u001b[38;5;28;01mraise\u001b[39;00m \u001b[38;5;167;01mValueError\u001b[39;00m(\n\u001b[0;32m    395\u001b[0m             \u001b[38;5;124m\"\u001b[39m\u001b[38;5;124mMime type rendering requires nbformat>=4.2.0 but it is not installed\u001b[39m\u001b[38;5;124m\"\u001b[39m\n\u001b[0;32m    396\u001b[0m         )\n\u001b[0;32m    398\u001b[0m     ipython_display\u001b[38;5;241m.\u001b[39mdisplay(bundle, raw\u001b[38;5;241m=\u001b[39m\u001b[38;5;28;01mTrue\u001b[39;00m)\n\u001b[0;32m    400\u001b[0m \u001b[38;5;66;03m# external renderers\u001b[39;00m\n",
      "\u001b[1;31mValueError\u001b[0m: Mime type rendering requires nbformat>=4.2.0 but it is not installed"
     ]
    }
   ],
   "source": [
    "# Calculer le nombre de livres par catégorie\n",
    "category_counts = df_book_streamlit['Catégorie'].value_counts().reset_index()\n",
    "category_counts.columns = ['Catégorie', 'nombre de livre']\n",
    "\n",
    "# Créer un graphique à barres horizontal\n",
    "fig = px.bar(category_counts,\n",
    "             x='nombre de livre', \n",
    "             y='Catégorie',\n",
    "             orientation='h',  # 'h' indique un bar chart horizontal\n",
    "             title='Nombre de livres par catégorie',\n",
    "             labels={'nombre de livre': 'Nombre de livres', 'Catégorie': 'Catégories'})\n",
    "\n",
    "# Afficher le graphique\n",
    "fig.show()"
   ]
  },
  {
   "cell_type": "markdown",
   "metadata": {},
   "source": [
    "# visuel 2\n",
    "heatmap heure de lecture et calendrier\n",
    "https://plotly.com/python/heatmaps/\n",
    "A retravailler mais on est pas loin"
   ]
  },
  {
   "cell_type": "code",
   "execution_count": 47,
   "metadata": {},
   "outputs": [
    {
     "data": {
      "application/vnd.plotly.v1+json": {
       "config": {
        "plotlyServerURL": "https://plot.ly"
       },
       "data": [
        {
         "coloraxis": "coloraxis",
         "hovertemplate": "Jour d'octobre: %{x}<br>Heure: %{y}<br>Pages lues: %{z}<extra></extra>",
         "name": "0",
         "type": "heatmap",
         "x": [
          1,
          2,
          3,
          4,
          6,
          7,
          8,
          9,
          10,
          12,
          13,
          14,
          15,
          16,
          18,
          19,
          21,
          22,
          23,
          24,
          25,
          26,
          27,
          31
         ],
         "xaxis": "x",
         "y": [
          0,
          6,
          7,
          8,
          10,
          11,
          12,
          13,
          15,
          17,
          18,
          19,
          20,
          21,
          22,
          23
         ],
         "yaxis": "y",
         "z": [
          [
           0,
           0,
           0,
           0,
           0,
           0,
           0,
           0,
           0,
           0,
           0,
           0,
           0,
           2187,
           3496,
           0,
           0,
           0,
           1706,
           0,
           0,
           0,
           8385,
           0
          ],
          [
           3294,
           0,
           0,
           1027,
           0,
           1683,
           0,
           0,
           0,
           0,
           0,
           0,
           579,
           1654,
           0,
           0,
           0,
           0,
           0,
           0,
           1740,
           0,
           0,
           0
          ],
          [
           5991,
           0,
           22884,
           0,
           0,
           1780,
           0,
           0,
           471,
           0,
           0,
           0,
           0,
           0,
           0,
           0,
           0,
           0,
           0,
           0,
           0,
           0,
           0,
           0
          ],
          [
           0,
           0,
           0,
           0,
           0,
           0,
           0,
           0,
           0,
           0,
           0,
           0,
           0,
           0,
           0,
           0,
           0,
           0,
           0,
           0,
           0,
           0,
           0,
           446
          ],
          [
           0,
           0,
           0,
           0,
           0,
           0,
           7110,
           0,
           0,
           0,
           0,
           0,
           0,
           0,
           0,
           0,
           0,
           0,
           0,
           0,
           0,
           0,
           0,
           1183
          ],
          [
           0,
           0,
           0,
           0,
           0,
           0,
           1257,
           0,
           0,
           0,
           1321,
           0,
           0,
           0,
           0,
           0,
           0,
           0,
           0,
           0,
           0,
           0,
           0,
           59
          ],
          [
           0,
           0,
           0,
           0,
           0,
           0,
           0,
           0,
           0,
           0,
           617,
           0,
           0,
           0,
           0,
           0,
           0,
           0,
           0,
           0,
           0,
           0,
           0,
           0
          ],
          [
           0,
           0,
           0,
           0,
           0,
           0,
           0,
           0,
           0,
           0,
           0,
           0,
           0,
           0,
           0,
           0,
           0,
           0,
           0,
           0,
           0,
           0,
           5404,
           0
          ],
          [
           0,
           0,
           740,
           0,
           0,
           2590,
           0,
           0,
           0,
           0,
           0,
           0,
           0,
           0,
           0,
           0,
           0,
           0,
           0,
           0,
           0,
           0,
           0,
           0
          ],
          [
           284,
           0,
           0,
           0,
           0,
           0,
           0,
           0,
           0,
           0,
           0,
           0,
           0,
           0,
           0,
           0,
           0,
           0,
           0,
           0,
           0,
           0,
           0,
           0
          ],
          [
           5273,
           0,
           0,
           0,
           133,
           0,
           239,
           0,
           0,
           0,
           0,
           3116,
           193,
           0,
           0,
           0,
           0,
           0,
           0,
           0,
           0,
           0,
           0,
           0
          ],
          [
           0,
           0,
           0,
           0,
           68,
           0,
           0,
           444,
           0,
           0,
           0,
           8558,
           193,
           0,
           0,
           0,
           0,
           425,
           0,
           0,
           0,
           0,
           0,
           0
          ],
          [
           0,
           32239,
           0,
           0,
           1306,
           0,
           0,
           0,
           0,
           0,
           0,
           0,
           0,
           0,
           0,
           239,
           7587,
           0,
           0,
           0,
           0,
           0,
           0,
           0
          ],
          [
           0,
           18533,
           0,
           0,
           0,
           855,
           0,
           0,
           0,
           496,
           0,
           0,
           0,
           0,
           0,
           17098,
           29471,
           0,
           6248,
           0,
           0,
           0,
           0,
           0
          ],
          [
           4968,
           0,
           98,
           0,
           0,
           3780,
           242,
           609,
           0,
           605,
           3038,
           0,
           0,
           0,
           0,
           0,
           6670,
           0,
           871,
           2489,
           8484,
           0,
           63,
           0
          ],
          [
           0,
           0,
           0,
           872,
           0,
           0,
           0,
           0,
           357,
           0,
           0,
           0,
           194,
           0,
           3006,
           0,
           0,
           0,
           0,
           2208,
           0,
           3164,
           0,
           0
          ]
         ]
        }
       ],
       "layout": {
        "coloraxis": {
         "colorbar": {
          "title": {
           "text": "Pages lues"
          }
         },
         "colorscale": [
          [
           0,
           "#440154"
          ],
          [
           0.1111111111111111,
           "#482878"
          ],
          [
           0.2222222222222222,
           "#3e4989"
          ],
          [
           0.3333333333333333,
           "#31688e"
          ],
          [
           0.4444444444444444,
           "#26828e"
          ],
          [
           0.5555555555555556,
           "#1f9e89"
          ],
          [
           0.6666666666666666,
           "#35b779"
          ],
          [
           0.7777777777777778,
           "#6ece58"
          ],
          [
           0.8888888888888888,
           "#b5de2b"
          ],
          [
           1,
           "#fde725"
          ]
         ]
        },
        "font": {
         "size": 14
        },
        "height": 800,
        "template": {
         "data": {
          "bar": [
           {
            "error_x": {
             "color": "#2a3f5f"
            },
            "error_y": {
             "color": "#2a3f5f"
            },
            "marker": {
             "line": {
              "color": "#E5ECF6",
              "width": 0.5
             },
             "pattern": {
              "fillmode": "overlay",
              "size": 10,
              "solidity": 0.2
             }
            },
            "type": "bar"
           }
          ],
          "barpolar": [
           {
            "marker": {
             "line": {
              "color": "#E5ECF6",
              "width": 0.5
             },
             "pattern": {
              "fillmode": "overlay",
              "size": 10,
              "solidity": 0.2
             }
            },
            "type": "barpolar"
           }
          ],
          "carpet": [
           {
            "aaxis": {
             "endlinecolor": "#2a3f5f",
             "gridcolor": "white",
             "linecolor": "white",
             "minorgridcolor": "white",
             "startlinecolor": "#2a3f5f"
            },
            "baxis": {
             "endlinecolor": "#2a3f5f",
             "gridcolor": "white",
             "linecolor": "white",
             "minorgridcolor": "white",
             "startlinecolor": "#2a3f5f"
            },
            "type": "carpet"
           }
          ],
          "choropleth": [
           {
            "colorbar": {
             "outlinewidth": 0,
             "ticks": ""
            },
            "type": "choropleth"
           }
          ],
          "contour": [
           {
            "colorbar": {
             "outlinewidth": 0,
             "ticks": ""
            },
            "colorscale": [
             [
              0,
              "#0d0887"
             ],
             [
              0.1111111111111111,
              "#46039f"
             ],
             [
              0.2222222222222222,
              "#7201a8"
             ],
             [
              0.3333333333333333,
              "#9c179e"
             ],
             [
              0.4444444444444444,
              "#bd3786"
             ],
             [
              0.5555555555555556,
              "#d8576b"
             ],
             [
              0.6666666666666666,
              "#ed7953"
             ],
             [
              0.7777777777777778,
              "#fb9f3a"
             ],
             [
              0.8888888888888888,
              "#fdca26"
             ],
             [
              1,
              "#f0f921"
             ]
            ],
            "type": "contour"
           }
          ],
          "contourcarpet": [
           {
            "colorbar": {
             "outlinewidth": 0,
             "ticks": ""
            },
            "type": "contourcarpet"
           }
          ],
          "heatmap": [
           {
            "colorbar": {
             "outlinewidth": 0,
             "ticks": ""
            },
            "colorscale": [
             [
              0,
              "#0d0887"
             ],
             [
              0.1111111111111111,
              "#46039f"
             ],
             [
              0.2222222222222222,
              "#7201a8"
             ],
             [
              0.3333333333333333,
              "#9c179e"
             ],
             [
              0.4444444444444444,
              "#bd3786"
             ],
             [
              0.5555555555555556,
              "#d8576b"
             ],
             [
              0.6666666666666666,
              "#ed7953"
             ],
             [
              0.7777777777777778,
              "#fb9f3a"
             ],
             [
              0.8888888888888888,
              "#fdca26"
             ],
             [
              1,
              "#f0f921"
             ]
            ],
            "type": "heatmap"
           }
          ],
          "heatmapgl": [
           {
            "colorbar": {
             "outlinewidth": 0,
             "ticks": ""
            },
            "colorscale": [
             [
              0,
              "#0d0887"
             ],
             [
              0.1111111111111111,
              "#46039f"
             ],
             [
              0.2222222222222222,
              "#7201a8"
             ],
             [
              0.3333333333333333,
              "#9c179e"
             ],
             [
              0.4444444444444444,
              "#bd3786"
             ],
             [
              0.5555555555555556,
              "#d8576b"
             ],
             [
              0.6666666666666666,
              "#ed7953"
             ],
             [
              0.7777777777777778,
              "#fb9f3a"
             ],
             [
              0.8888888888888888,
              "#fdca26"
             ],
             [
              1,
              "#f0f921"
             ]
            ],
            "type": "heatmapgl"
           }
          ],
          "histogram": [
           {
            "marker": {
             "pattern": {
              "fillmode": "overlay",
              "size": 10,
              "solidity": 0.2
             }
            },
            "type": "histogram"
           }
          ],
          "histogram2d": [
           {
            "colorbar": {
             "outlinewidth": 0,
             "ticks": ""
            },
            "colorscale": [
             [
              0,
              "#0d0887"
             ],
             [
              0.1111111111111111,
              "#46039f"
             ],
             [
              0.2222222222222222,
              "#7201a8"
             ],
             [
              0.3333333333333333,
              "#9c179e"
             ],
             [
              0.4444444444444444,
              "#bd3786"
             ],
             [
              0.5555555555555556,
              "#d8576b"
             ],
             [
              0.6666666666666666,
              "#ed7953"
             ],
             [
              0.7777777777777778,
              "#fb9f3a"
             ],
             [
              0.8888888888888888,
              "#fdca26"
             ],
             [
              1,
              "#f0f921"
             ]
            ],
            "type": "histogram2d"
           }
          ],
          "histogram2dcontour": [
           {
            "colorbar": {
             "outlinewidth": 0,
             "ticks": ""
            },
            "colorscale": [
             [
              0,
              "#0d0887"
             ],
             [
              0.1111111111111111,
              "#46039f"
             ],
             [
              0.2222222222222222,
              "#7201a8"
             ],
             [
              0.3333333333333333,
              "#9c179e"
             ],
             [
              0.4444444444444444,
              "#bd3786"
             ],
             [
              0.5555555555555556,
              "#d8576b"
             ],
             [
              0.6666666666666666,
              "#ed7953"
             ],
             [
              0.7777777777777778,
              "#fb9f3a"
             ],
             [
              0.8888888888888888,
              "#fdca26"
             ],
             [
              1,
              "#f0f921"
             ]
            ],
            "type": "histogram2dcontour"
           }
          ],
          "mesh3d": [
           {
            "colorbar": {
             "outlinewidth": 0,
             "ticks": ""
            },
            "type": "mesh3d"
           }
          ],
          "parcoords": [
           {
            "line": {
             "colorbar": {
              "outlinewidth": 0,
              "ticks": ""
             }
            },
            "type": "parcoords"
           }
          ],
          "pie": [
           {
            "automargin": true,
            "type": "pie"
           }
          ],
          "scatter": [
           {
            "fillpattern": {
             "fillmode": "overlay",
             "size": 10,
             "solidity": 0.2
            },
            "type": "scatter"
           }
          ],
          "scatter3d": [
           {
            "line": {
             "colorbar": {
              "outlinewidth": 0,
              "ticks": ""
             }
            },
            "marker": {
             "colorbar": {
              "outlinewidth": 0,
              "ticks": ""
             }
            },
            "type": "scatter3d"
           }
          ],
          "scattercarpet": [
           {
            "marker": {
             "colorbar": {
              "outlinewidth": 0,
              "ticks": ""
             }
            },
            "type": "scattercarpet"
           }
          ],
          "scattergeo": [
           {
            "marker": {
             "colorbar": {
              "outlinewidth": 0,
              "ticks": ""
             }
            },
            "type": "scattergeo"
           }
          ],
          "scattergl": [
           {
            "marker": {
             "colorbar": {
              "outlinewidth": 0,
              "ticks": ""
             }
            },
            "type": "scattergl"
           }
          ],
          "scattermapbox": [
           {
            "marker": {
             "colorbar": {
              "outlinewidth": 0,
              "ticks": ""
             }
            },
            "type": "scattermapbox"
           }
          ],
          "scatterpolar": [
           {
            "marker": {
             "colorbar": {
              "outlinewidth": 0,
              "ticks": ""
             }
            },
            "type": "scatterpolar"
           }
          ],
          "scatterpolargl": [
           {
            "marker": {
             "colorbar": {
              "outlinewidth": 0,
              "ticks": ""
             }
            },
            "type": "scatterpolargl"
           }
          ],
          "scatterternary": [
           {
            "marker": {
             "colorbar": {
              "outlinewidth": 0,
              "ticks": ""
             }
            },
            "type": "scatterternary"
           }
          ],
          "surface": [
           {
            "colorbar": {
             "outlinewidth": 0,
             "ticks": ""
            },
            "colorscale": [
             [
              0,
              "#0d0887"
             ],
             [
              0.1111111111111111,
              "#46039f"
             ],
             [
              0.2222222222222222,
              "#7201a8"
             ],
             [
              0.3333333333333333,
              "#9c179e"
             ],
             [
              0.4444444444444444,
              "#bd3786"
             ],
             [
              0.5555555555555556,
              "#d8576b"
             ],
             [
              0.6666666666666666,
              "#ed7953"
             ],
             [
              0.7777777777777778,
              "#fb9f3a"
             ],
             [
              0.8888888888888888,
              "#fdca26"
             ],
             [
              1,
              "#f0f921"
             ]
            ],
            "type": "surface"
           }
          ],
          "table": [
           {
            "cells": {
             "fill": {
              "color": "#EBF0F8"
             },
             "line": {
              "color": "white"
             }
            },
            "header": {
             "fill": {
              "color": "#C8D4E3"
             },
             "line": {
              "color": "white"
             }
            },
            "type": "table"
           }
          ]
         },
         "layout": {
          "annotationdefaults": {
           "arrowcolor": "#2a3f5f",
           "arrowhead": 0,
           "arrowwidth": 1
          },
          "autotypenumbers": "strict",
          "coloraxis": {
           "colorbar": {
            "outlinewidth": 0,
            "ticks": ""
           }
          },
          "colorscale": {
           "diverging": [
            [
             0,
             "#8e0152"
            ],
            [
             0.1,
             "#c51b7d"
            ],
            [
             0.2,
             "#de77ae"
            ],
            [
             0.3,
             "#f1b6da"
            ],
            [
             0.4,
             "#fde0ef"
            ],
            [
             0.5,
             "#f7f7f7"
            ],
            [
             0.6,
             "#e6f5d0"
            ],
            [
             0.7,
             "#b8e186"
            ],
            [
             0.8,
             "#7fbc41"
            ],
            [
             0.9,
             "#4d9221"
            ],
            [
             1,
             "#276419"
            ]
           ],
           "sequential": [
            [
             0,
             "#0d0887"
            ],
            [
             0.1111111111111111,
             "#46039f"
            ],
            [
             0.2222222222222222,
             "#7201a8"
            ],
            [
             0.3333333333333333,
             "#9c179e"
            ],
            [
             0.4444444444444444,
             "#bd3786"
            ],
            [
             0.5555555555555556,
             "#d8576b"
            ],
            [
             0.6666666666666666,
             "#ed7953"
            ],
            [
             0.7777777777777778,
             "#fb9f3a"
            ],
            [
             0.8888888888888888,
             "#fdca26"
            ],
            [
             1,
             "#f0f921"
            ]
           ],
           "sequentialminus": [
            [
             0,
             "#0d0887"
            ],
            [
             0.1111111111111111,
             "#46039f"
            ],
            [
             0.2222222222222222,
             "#7201a8"
            ],
            [
             0.3333333333333333,
             "#9c179e"
            ],
            [
             0.4444444444444444,
             "#bd3786"
            ],
            [
             0.5555555555555556,
             "#d8576b"
            ],
            [
             0.6666666666666666,
             "#ed7953"
            ],
            [
             0.7777777777777778,
             "#fb9f3a"
            ],
            [
             0.8888888888888888,
             "#fdca26"
            ],
            [
             1,
             "#f0f921"
            ]
           ]
          },
          "colorway": [
           "#636efa",
           "#EF553B",
           "#00cc96",
           "#ab63fa",
           "#FFA15A",
           "#19d3f3",
           "#FF6692",
           "#B6E880",
           "#FF97FF",
           "#FECB52"
          ],
          "font": {
           "color": "#2a3f5f"
          },
          "geo": {
           "bgcolor": "white",
           "lakecolor": "white",
           "landcolor": "#E5ECF6",
           "showlakes": true,
           "showland": true,
           "subunitcolor": "white"
          },
          "hoverlabel": {
           "align": "left"
          },
          "hovermode": "closest",
          "mapbox": {
           "style": "light"
          },
          "paper_bgcolor": "white",
          "plot_bgcolor": "#E5ECF6",
          "polar": {
           "angularaxis": {
            "gridcolor": "white",
            "linecolor": "white",
            "ticks": ""
           },
           "bgcolor": "#E5ECF6",
           "radialaxis": {
            "gridcolor": "white",
            "linecolor": "white",
            "ticks": ""
           }
          },
          "scene": {
           "xaxis": {
            "backgroundcolor": "#E5ECF6",
            "gridcolor": "white",
            "gridwidth": 2,
            "linecolor": "white",
            "showbackground": true,
            "ticks": "",
            "zerolinecolor": "white"
           },
           "yaxis": {
            "backgroundcolor": "#E5ECF6",
            "gridcolor": "white",
            "gridwidth": 2,
            "linecolor": "white",
            "showbackground": true,
            "ticks": "",
            "zerolinecolor": "white"
           },
           "zaxis": {
            "backgroundcolor": "#E5ECF6",
            "gridcolor": "white",
            "gridwidth": 2,
            "linecolor": "white",
            "showbackground": true,
            "ticks": "",
            "zerolinecolor": "white"
           }
          },
          "shapedefaults": {
           "line": {
            "color": "#2a3f5f"
           }
          },
          "ternary": {
           "aaxis": {
            "gridcolor": "white",
            "linecolor": "white",
            "ticks": ""
           },
           "baxis": {
            "gridcolor": "white",
            "linecolor": "white",
            "ticks": ""
           },
           "bgcolor": "#E5ECF6",
           "caxis": {
            "gridcolor": "white",
            "linecolor": "white",
            "ticks": ""
           }
          },
          "title": {
           "x": 0.05
          },
          "xaxis": {
           "automargin": true,
           "gridcolor": "white",
           "linecolor": "white",
           "ticks": "",
           "title": {
            "standoff": 15
           },
           "zerolinecolor": "white",
           "zerolinewidth": 2
          },
          "yaxis": {
           "automargin": true,
           "gridcolor": "white",
           "linecolor": "white",
           "ticks": "",
           "title": {
            "standoff": 15
           },
           "zerolinecolor": "white",
           "zerolinewidth": 2
          }
         }
        },
        "title": {
         "text": "Heatmap des pages lues par heure et par jour en octobre 2024",
         "x": 0.5
        },
        "width": 1200,
        "xaxis": {
         "anchor": "y",
         "constrain": "domain",
         "domain": [
          0,
          1
         ],
         "scaleanchor": "y",
         "title": {
          "text": "Jour d'octobre"
         }
        },
        "yaxis": {
         "anchor": "x",
         "autorange": "reversed",
         "constrain": "domain",
         "domain": [
          0,
          1
         ],
         "title": {
          "text": "Heure"
         }
        }
       }
      }
     },
     "metadata": {},
     "output_type": "display_data"
    }
   ],
   "source": [
    "# Convertir la colonne 'date lecture' en datetime\n",
    "df_stat['date lecture'] = pd.to_datetime(df_stat['date lecture'], format='%Y-%m-%d')\n",
    "\n",
    "# Filtrer les données pour le mois d'octobre 2024\n",
    "df_stat_octobre_2024 = df_stat[(df_stat['date lecture'].dt.year == 2024) & (df_stat['date lecture'].dt.month == 10)]\n",
    "\n",
    "# Assurer que la colonne Heure est en forme entière si ce n'est pas le cas\n",
    "if 'Heure' not in df_stat_octobre_2024.columns:\n",
    "    df_stat_octobre_2024['Heure'] = df_stat_octobre_2024['heure de début'].apply(lambda x: pd.to_datetime(x).hour)\n",
    "\n",
    "# Agréger le nombre de pages lues par jour et par heure\n",
    "agg_data = df_stat_octobre_2024.groupby([df_stat_octobre_2024['date lecture'].dt.day, 'Heure'])['page'].sum().reset_index()\n",
    "\n",
    "# Renommer les colonnes pour plus de clarté\n",
    "agg_data.columns = ['Jour', 'Heure', 'Pages lues']\n",
    "\n",
    "# Créer une table pivot pour la heatmap\n",
    "pivot_table = agg_data.pivot(index='Heure', columns='Jour', values='Pages lues').fillna(0)\n",
    "\n",
    "# Trier l'axe y de la heatmap du plus petit au plus grand\n",
    "pivot_table = pivot_table.sort_index(ascending=True)\n",
    "\n",
    "# Créer la heatmap avec Plotly\n",
    "fig = px.imshow(pivot_table,\n",
    "                labels=dict(x='Jour d\\'octobre', y='Heure', color='Pages lues'),\n",
    "                x=list(pivot_table.columns),\n",
    "                y=list(pivot_table.index),\n",
    "                color_continuous_scale='Viridis',\n",
    "                title='Heatmap des pages lues par heure et par jour en octobre 2024',\n",
    "                width=1200,  # Largeur de la heatmap\n",
    "                height=800  # Hauteur de la heatmap\n",
    "               )\n",
    "\n",
    "# Personnalisation de l'apparence de la heatmap\n",
    "fig.update_layout(\n",
    "    xaxis_title='Jour d\\'octobre',\n",
    "    yaxis_title='Heure',\n",
    "    title_x=0.5,\n",
    "    font=dict(size=14),\n",
    "    yaxis=dict(\n",
    "        autorange=\"reversed\"  # Inverser l'ordre des valeurs de l'axe y\n",
    "    )\n",
    ")\n",
    "\n",
    "# Afficher la heatmap\n",
    "fig.show()"
   ]
  },
  {
   "cell_type": "markdown",
   "metadata": {},
   "source": [
    "# 3 score card\n",
    "* plus longue lecture : heure de lecture max\n",
    "* le plus régulier : jour de lecture = intervalle de lecture\n",
    "* plus rapide : page lues à la minute\n",
    "* plus addictif : pages lues par jour"
   ]
  },
  {
   "cell_type": "markdown",
   "metadata": {},
   "source": [
    "## plus longue lecture"
   ]
  },
  {
   "cell_type": "code",
   "execution_count": 9,
   "metadata": {},
   "outputs": [
    {
     "name": "stdout",
     "output_type": "stream",
     "text": [
      "Livre le plus long à lire : La Chute d'Hypérion: Le cycle d'Hypérion - Tome 2 de Dan Simmons : 13.3\n"
     ]
    }
   ],
   "source": [
    "# le temps de lecture max\n",
    "temps_maxi = df_book_streamlit[df_book_streamlit[\"temps passé sur le livre en heure\"] == df_book_streamlit[\"temps passé sur le livre en heure\"].max()]\n",
    "\n",
    "# prisme livre\n",
    "titre_max_temps_lecture = df_book_streamlit[df_book_streamlit[\"temps passé sur le livre en heure\"] == df_book_streamlit[\"temps passé sur le livre en heure\"].max()][\"Titre\"].values[0]\n",
    "auteur_max_temps_lecture = df_book_streamlit[df_book_streamlit[\"temps passé sur le livre en heure\"] == df_book_streamlit[\"temps passé sur le livre en heure\"].max()][\"Auteurs\"].values[0]\n",
    "temps_max_lecture = df_book_streamlit[\"temps passé sur le livre en heure\"].max()\n",
    "\n",
    "\n",
    "print(f\"Livre le plus long à lire : {titre_max_temps_lecture} de {auteur_max_temps_lecture} : {temps_max_lecture}\")\n"
   ]
  },
  {
   "cell_type": "markdown",
   "metadata": {},
   "source": [
    "## plus régulier\n",
    "Trop de livre dans cette liste"
   ]
  },
  {
   "cell_type": "code",
   "execution_count": 50,
   "metadata": {},
   "outputs": [
    {
     "name": "stdout",
     "output_type": "stream",
     "text": [
      "27 livres lus tous les jours, les 3 derniers : [\"Projet secret T2 : Manuel de Survie du Sorcier Frugal dans l'Angleterre médiévale\"\n",
      " 'Voyageur 2 : Libration'\n",
      " \"Blackwater 1 - La crue: L'épique saga de la famille Caskey\"]\n"
     ]
    }
   ],
   "source": [
    "# Afficher les livres ou la durée de lecture est égale à la durée de lecture effective\n",
    "# df_book_streamlit[df_book_streamlit[\"jours de lecture effectifs (jl)\"] == df_book_streamlit[\"Durée lecture (j)\"]][[\"Titre\", \"Durée lecture (j)\", \"jours de lecture effectifs (jl)\"]]\n",
    "\n",
    "# Compter le nombre de lignes où \"jours de lecture effectifs (jl)\" est égal à \"Durée lecture (j)\"\n",
    "count = df_book_streamlit[df_book_streamlit[\"jours de lecture effectifs (jl)\"] == df_book_streamlit[\"Durée lecture (j)\"]].shape[0]\n",
    "\n",
    "# affiche le dernier, puis l'avant dernier, puis l'avant avant dernier\n",
    "df_book_streamlit[df_book_streamlit[\"jours de lecture effectifs (jl)\"] == df_book_streamlit[\"Durée lecture (j)\"]].sort_values(by=\"Date de lecture\", ascending\n",
    "=False).head(3)[[\"Titre\", \"Durée lecture (j)\", \"jours de lecture effectifs (jl)\", \"Date de lecture\"]]\n",
    "# enregistre les 3 titres dans une liste\n",
    "liste_livres = df_book_streamlit[df_book_streamlit[\"jours de lecture effectifs (jl)\"] == df_book_streamlit[\"Durée lecture (j)\"]].sort_values(by=\"Date de lecture\", ascending   =False).head(3)[\"Titre\"].values\n",
    "\n",
    "\n",
    "print(f\"{count} livres lus tous les jours, les 3 derniers : {liste_livres}\")\n"
   ]
  },
  {
   "cell_type": "markdown",
   "metadata": {},
   "source": [
    "## le plus rapide\n",
    "Utiliser le df non filtré"
   ]
  },
  {
   "cell_type": "code",
   "execution_count": 55,
   "metadata": {},
   "outputs": [
    {
     "name": "stdout",
     "output_type": "stream",
     "text": [
      "Livre lu avec la vitessse max : la route de Cormac McCarthy à 2.0 pages à la minute\n"
     ]
    }
   ],
   "source": [
    "livre_rapide = df_book_updated[df_book_updated[\"temps passé sur le livre en minute\"] > 35]\n",
    "livre_rapide = livre_rapide[livre_rapide[\"pages lues à la minute\"] == livre_rapide[\"pages lues à la minute\"].max()]\n",
    "\n",
    "titre_livre_rapide = livre_rapide[livre_rapide[\"pages lues à la minute\"] == livre_rapide[\"pages lues à la minute\"].max()][\"Titre\"].values[0]\n",
    "auteur_livre_rapide =livre_rapide[livre_rapide[\"pages lues à la minute\"] == livre_rapide[\"pages lues à la minute\"].max()][\"Auteurs\"].values[0]\n",
    "vitesse_livre_rapide =livre_rapide[livre_rapide[\"pages lues à la minute\"] == livre_rapide[\"pages lues à la minute\"].max()][\"pages lues à la minute\"].values[0].round(1)\n",
    "\n",
    "\n",
    "# titre_max_temps_lecture = df_book_streamlit[df_book_streamlit[\"Temps de lecture total (hh:mm:ss)\"] == df_book_streamlit[\"Temps de lecture total (hh:mm:ss)\"].max()][\"Titre\"].values[0]\n",
    "# auteur_max_temps_lecture = df_book_streamlit[df_book_streamlit[\"Temps de lecture total (hh:mm:ss)\"] == df_book_streamlit[\"Temps de lecture total (hh:mm:ss)\"].max()][\"Auteurs\"].values[0]\n",
    "# temps_max_lecture = df_book_streamlit[\"Temps de lecture total (hh:mm:ss)\"].max()\n",
    "\n",
    "\n",
    "\n",
    "print(f\"Livre lu avec la vitessse max : {titre_livre_rapide} de {auteur_livre_rapide} à {vitesse_livre_rapide} pages à la minute\")\n",
    "\n"
   ]
  },
  {
   "cell_type": "markdown",
   "metadata": {},
   "source": [
    "## plus addictif : max moyenne pages lues par jour"
   ]
  },
  {
   "cell_type": "code",
   "execution_count": 56,
   "metadata": {},
   "outputs": [
    {
     "name": "stdout",
     "output_type": "stream",
     "text": [
      "Livre lu avec la moyenne de temps de lecture par jour la plus élevée : la route de Cormac McCarthy avec 93.7 minutes de lecture par jour\n"
     ]
    }
   ],
   "source": [
    "livre_addict = df_book_updated[df_book_updated[\"minutes_lecture_par_jour_de_lecture\"] == df_book_updated[\"minutes_lecture_par_jour_de_lecture\"].max()]\n",
    "titre_livre_addict = livre_addict[\"Titre\"].values[0]\n",
    "auteur_livre_addict = livre_addict[\"Auteurs\"].values[0]\n",
    "minutes_livre_addict = livre_addict[\"minutes_lecture_par_jour_de_lecture\"].values[0]\n",
    "\n",
    "print(f\"Livre lu avec la moyenne de temps de lecture par jour la plus élevée : {titre_livre_addict} de {auteur_livre_addict} avec {minutes_livre_addict} minutes de lecture par jour\")"
   ]
  },
  {
   "cell_type": "markdown",
   "metadata": {},
   "source": [
    "## les stats depuis le prisme inversé : pic de vitesse (date et livre), page lu en 1 journée (date et livre), heure de lecture max en 1 journée (date et livre)"
   ]
  },
  {
   "cell_type": "markdown",
   "metadata": {},
   "source": [
    "### 1. Heure de lecture max dans la journée"
   ]
  },
  {
   "cell_type": "markdown",
   "metadata": {},
   "source": [
    "Solution : \n",
    "\n",
    "Faire un group by, date lecture : \n",
    "* sum : temps passé sur la page\n",
    "* sum id_book\n",
    "* concatenate la liste des id_book de chaque ligne ? (ou les titres de livre directement)\n",
    "\n",
    "\n",
    "--> Permet d'identifier le jour avec le plus longtemps en lecture, et les livres identifiés"
   ]
  },
  {
   "cell_type": "code",
   "execution_count": 110,
   "metadata": {},
   "outputs": [
    {
     "name": "stdout",
     "output_type": "stream",
     "text": [
      "    date lecture  Temps de lecture en minute  Nombre de pages  \\\n",
      "0     2012-05-01                   36.900000               52   \n",
      "1     2023-11-21                   33.833333               40   \n",
      "2     2023-11-22                   21.166667               36   \n",
      "3     2023-11-23                   91.300000              160   \n",
      "4     2023-11-24                    9.500000               11   \n",
      "..           ...                         ...              ...   \n",
      "265   2024-11-02                   69.783333               92   \n",
      "266   2024-11-03                  175.100000              237   \n",
      "267   2024-11-04                   36.633333               69   \n",
      "268   2024-11-05                   22.150000               31   \n",
      "269   2024-11-06                    9.816667               15   \n",
      "\n",
      "     Nombre de livres                                              Books  \n",
      "0                   2  57 (Légendes et lattes), 58 (Roman secret 3 - ...  \n",
      "1                   2          1 (nan), 2 (Le crime de l'Orient-Express)  \n",
      "2                   1                   2 (Le crime de l'Orient-Express)  \n",
      "3                   1                   2 (Le crime de l'Orient-Express)  \n",
      "4                   1                   2 (Le crime de l'Orient-Express)  \n",
      "..                ...                                                ...  \n",
      "265                 2  71 (Blackwater 4 – La Guerre: L'épique saga de...  \n",
      "266                 1            72 (Voyageur 4 : La Galaxie vue du sol)  \n",
      "267                 2  72 (Voyageur 4 : La Galaxie vue du sol), 73 (P...  \n",
      "268                 1  73 (Projet secret T2 : Manuel de Survie du Sor...  \n",
      "269                 1  73 (Projet secret T2 : Manuel de Survie du Sor...  \n",
      "\n",
      "[270 rows x 5 columns]\n"
     ]
    },
    {
     "name": "stderr",
     "output_type": "stream",
     "text": [
      "C:\\Users\\chric\\AppData\\Local\\Temp\\ipykernel_21332\\33408628.py:15: DeprecationWarning:\n",
      "\n",
      "DataFrameGroupBy.apply operated on the grouping columns. This behavior is deprecated, and in a future version of pandas the grouping columns will be excluded from the operation. Either pass `include_groups=False` to exclude the groupings or explicitly select the grouping columns after groupby to silence this warning.\n",
      "\n"
     ]
    }
   ],
   "source": [
    "# Convertir la colonne 'date lecture' en datetime\n",
    "df_stat['date lecture'] = pd.to_datetime(df_stat['date lecture'], format='%Y-%m-%d')\n",
    "\n",
    "# Joindre df_stat avec df_book_updated pour inclure le nom des livres\n",
    "df_stat2 = df_stat.merge(df_book_updated, left_on='id_book', right_on='id', how='left')\n",
    "\n",
    "# Agréger les données par 'date lecture'\n",
    "agg_data = df_stat2.groupby('date lecture').agg({\n",
    "    'Temps de lecture en minute': 'sum',\n",
    "    'page': 'nunique',\n",
    "    'id_book': 'nunique'\n",
    "}).reset_index()\n",
    "\n",
    "# Ajouter la liste des id_book et des titres pour chaque date de lecture\n",
    "book_ids_titles_by_date = df_stat2.groupby('date lecture').apply(\n",
    "    lambda x: ', '.join(sorted(set(f\"{row['id_book']} ({row['Titre']})\" for _, row in x.iterrows())))\n",
    ").reset_index()\n",
    "\n",
    "# Fusionner les deux DataFrames\n",
    "merged_data = pd.merge(agg_data, book_ids_titles_by_date, on='date lecture')\n",
    "\n",
    "# Renommer pour plus de clarté\n",
    "merged_data.columns = ['date lecture', 'Temps de lecture en minute', 'Nombre de pages', 'Nombre de livres', 'Books']\n",
    "\n",
    "# Afficher le résultat\n",
    "print(merged_data)"
   ]
  },
  {
   "cell_type": "code",
   "execution_count": null,
   "metadata": {},
   "outputs": [
    {
     "ename": "NameError",
     "evalue": "name 'merged_data' is not defined",
     "output_type": "error",
     "traceback": [
      "\u001b[1;31m---------------------------------------------------------------------------\u001b[0m",
      "\u001b[1;31mNameError\u001b[0m                                 Traceback (most recent call last)",
      "Cell \u001b[1;32mIn[1], line 2\u001b[0m\n\u001b[0;32m      1\u001b[0m \u001b[38;5;66;03m# print les 10 premières lignes, triées par 'Temps de lecture en minute' de manière décroissante\u001b[39;00m\n\u001b[1;32m----> 2\u001b[0m \u001b[43mmerged_data\u001b[49m\u001b[38;5;241m.\u001b[39msort_values(\u001b[38;5;124m'\u001b[39m\u001b[38;5;124mTemps de lecture en minute\u001b[39m\u001b[38;5;124m'\u001b[39m, ascending\u001b[38;5;241m=\u001b[39m\u001b[38;5;28;01mFalse\u001b[39;00m)\u001b[38;5;241m.\u001b[39mhead(\u001b[38;5;241m3\u001b[39m)\n",
      "\u001b[1;31mNameError\u001b[0m: name 'merged_data' is not defined"
     ]
    }
   ],
   "source": [
    "# print les 10 premières lignes, triées par 'Temps de lecture en minute' de manière décroissante\n",
    "merged_data.sort_values('Temps de lecture en minute', ascending=False).head(3)"
   ]
  },
  {
   "cell_type": "markdown",
   "metadata": {},
   "source": [
    "### Pic de vitesse : "
   ]
  },
  {
   "cell_type": "markdown",
   "metadata": {},
   "source": [
    "Pic par heure et livres associés"
   ]
  },
  {
   "cell_type": "code",
   "execution_count": 114,
   "metadata": {},
   "outputs": [
    {
     "name": "stderr",
     "output_type": "stream",
     "text": [
      "C:\\Users\\chric\\AppData\\Local\\Temp\\ipykernel_21332\\2549705109.py:5: DeprecationWarning:\n",
      "\n",
      "DataFrameGroupBy.apply operated on the grouping columns. This behavior is deprecated, and in a future version of pandas the grouping columns will be excluded from the operation. Either pass `include_groups=False` to exclude the groupings or explicitly select the grouping columns after groupby to silence this warning.\n",
      "\n"
     ]
    }
   ],
   "source": [
    "# Ajouter les colonnes 'id_book' et 'Titre' avec valeurs uniques pour chaque groupe\n",
    "def concatenate_unique_values(series):\n",
    "    return ', '.join(sorted(set(map(str, series))))\n",
    "\n",
    "books_info = df_stat2.groupby(['date lecture', 'Heure']).apply(\n",
    "    lambda x: pd.Series({\n",
    "        'id_books': concatenate_unique_values(x['id_book']),\n",
    "        'Titres': concatenate_unique_values(x['Titre'])\n",
    "    })\n",
    ").reset_index()\n",
    "\n",
    "# Fusionner les deux DataFrames\n",
    "result = pd.merge(agg_data_pic_vitesse, books_info, on=['date lecture', 'Heure'])\n",
    "\n",
    "# Renommer les colonnes pour plus de clarté (si nécessaire)\n",
    "result.columns = ['date lecture', 'Heure', 'Nombre de pages', 'Temps passé sur la page en seconde', 'Temps de lecture en minute', 'id_books', 'Titres']\n",
    "\n",
    "# Afficher le ré"
   ]
  },
  {
   "cell_type": "code",
   "execution_count": null,
   "metadata": {},
   "outputs": [
    {
     "data": {
      "text/html": [
       "<div>\n",
       "<style scoped>\n",
       "    .dataframe tbody tr th:only-of-type {\n",
       "        vertical-align: middle;\n",
       "    }\n",
       "\n",
       "    .dataframe tbody tr th {\n",
       "        vertical-align: top;\n",
       "    }\n",
       "\n",
       "    .dataframe thead th {\n",
       "        text-align: right;\n",
       "    }\n",
       "</style>\n",
       "<table border=\"1\" class=\"dataframe\">\n",
       "  <thead>\n",
       "    <tr style=\"text-align: right;\">\n",
       "      <th></th>\n",
       "      <th>date lecture</th>\n",
       "      <th>Heure</th>\n",
       "      <th>Nombre de pages</th>\n",
       "      <th>Temps passé sur la page en seconde</th>\n",
       "      <th>Temps de lecture en minute</th>\n",
       "      <th>id_books</th>\n",
       "      <th>Titres</th>\n",
       "      <th>page à la minute</th>\n",
       "    </tr>\n",
       "  </thead>\n",
       "  <tbody>\n",
       "    <tr>\n",
       "      <th>240</th>\n",
       "      <td>2024-02-28</td>\n",
       "      <td>21</td>\n",
       "      <td>79</td>\n",
       "      <td>2123</td>\n",
       "      <td>35.383333</td>\n",
       "      <td>25</td>\n",
       "      <td>Le manuel de survie des parents</td>\n",
       "      <td>2.23</td>\n",
       "    </tr>\n",
       "    <tr>\n",
       "      <th>281</th>\n",
       "      <td>2024-03-19</td>\n",
       "      <td>0</td>\n",
       "      <td>100</td>\n",
       "      <td>2736</td>\n",
       "      <td>45.600000</td>\n",
       "      <td>32</td>\n",
       "      <td>la route</td>\n",
       "      <td>2.19</td>\n",
       "    </tr>\n",
       "    <tr>\n",
       "      <th>455</th>\n",
       "      <td>2024-05-21</td>\n",
       "      <td>16</td>\n",
       "      <td>73</td>\n",
       "      <td>2046</td>\n",
       "      <td>34.100000</td>\n",
       "      <td>39</td>\n",
       "      <td>Skyward T3 : Cytonique</td>\n",
       "      <td>2.14</td>\n",
       "    </tr>\n",
       "    <tr>\n",
       "      <th>451</th>\n",
       "      <td>2024-05-20</td>\n",
       "      <td>19</td>\n",
       "      <td>71</td>\n",
       "      <td>2037</td>\n",
       "      <td>33.950000</td>\n",
       "      <td>39</td>\n",
       "      <td>Skyward T3 : Cytonique</td>\n",
       "      <td>2.09</td>\n",
       "    </tr>\n",
       "    <tr>\n",
       "      <th>17</th>\n",
       "      <td>2023-11-23</td>\n",
       "      <td>12</td>\n",
       "      <td>63</td>\n",
       "      <td>1821</td>\n",
       "      <td>30.350000</td>\n",
       "      <td>2</td>\n",
       "      <td>Le crime de l'Orient-Express</td>\n",
       "      <td>2.08</td>\n",
       "    </tr>\n",
       "    <tr>\n",
       "      <th>599</th>\n",
       "      <td>2024-07-24</td>\n",
       "      <td>16</td>\n",
       "      <td>79</td>\n",
       "      <td>2336</td>\n",
       "      <td>38.933333</td>\n",
       "      <td>58</td>\n",
       "      <td>Roman secret 3 - Yumi et le peintre de cauchemars</td>\n",
       "      <td>2.03</td>\n",
       "    </tr>\n",
       "    <tr>\n",
       "      <th>612</th>\n",
       "      <td>2024-07-28</td>\n",
       "      <td>9</td>\n",
       "      <td>78</td>\n",
       "      <td>2306</td>\n",
       "      <td>38.433333</td>\n",
       "      <td>58</td>\n",
       "      <td>Roman secret 3 - Yumi et le peintre de cauchemars</td>\n",
       "      <td>2.03</td>\n",
       "    </tr>\n",
       "    <tr>\n",
       "      <th>608</th>\n",
       "      <td>2024-07-27</td>\n",
       "      <td>21</td>\n",
       "      <td>106</td>\n",
       "      <td>3166</td>\n",
       "      <td>52.766667</td>\n",
       "      <td>58</td>\n",
       "      <td>Roman secret 3 - Yumi et le peintre de cauchemars</td>\n",
       "      <td>2.01</td>\n",
       "    </tr>\n",
       "    <tr>\n",
       "      <th>280</th>\n",
       "      <td>2024-03-18</td>\n",
       "      <td>23</td>\n",
       "      <td>117</td>\n",
       "      <td>3593</td>\n",
       "      <td>59.883333</td>\n",
       "      <td>32</td>\n",
       "      <td>la route</td>\n",
       "      <td>1.95</td>\n",
       "    </tr>\n",
       "    <tr>\n",
       "      <th>772</th>\n",
       "      <td>2024-09-29</td>\n",
       "      <td>9</td>\n",
       "      <td>110</td>\n",
       "      <td>3407</td>\n",
       "      <td>56.783333</td>\n",
       "      <td>67</td>\n",
       "      <td>Voyageur 1 : L'Espace d'un an</td>\n",
       "      <td>1.94</td>\n",
       "    </tr>\n",
       "    <tr>\n",
       "      <th>452</th>\n",
       "      <td>2024-05-20</td>\n",
       "      <td>20</td>\n",
       "      <td>74</td>\n",
       "      <td>2302</td>\n",
       "      <td>38.366667</td>\n",
       "      <td>39</td>\n",
       "      <td>Skyward T3 : Cytonique</td>\n",
       "      <td>1.93</td>\n",
       "    </tr>\n",
       "    <tr>\n",
       "      <th>761</th>\n",
       "      <td>2024-09-23</td>\n",
       "      <td>21</td>\n",
       "      <td>69</td>\n",
       "      <td>2164</td>\n",
       "      <td>36.066667</td>\n",
       "      <td>67</td>\n",
       "      <td>Voyageur 1 : L'Espace d'un an</td>\n",
       "      <td>1.91</td>\n",
       "    </tr>\n",
       "    <tr>\n",
       "      <th>433</th>\n",
       "      <td>2024-05-15</td>\n",
       "      <td>7</td>\n",
       "      <td>87</td>\n",
       "      <td>2745</td>\n",
       "      <td>45.750000</td>\n",
       "      <td>38</td>\n",
       "      <td>Trois corps – 01 – Le problème à trois corps</td>\n",
       "      <td>1.90</td>\n",
       "    </tr>\n",
       "    <tr>\n",
       "      <th>238</th>\n",
       "      <td>2024-02-28</td>\n",
       "      <td>12</td>\n",
       "      <td>85</td>\n",
       "      <td>2685</td>\n",
       "      <td>44.750000</td>\n",
       "      <td>25</td>\n",
       "      <td>Le manuel de survie des parents</td>\n",
       "      <td>1.90</td>\n",
       "    </tr>\n",
       "    <tr>\n",
       "      <th>523</th>\n",
       "      <td>2024-06-15</td>\n",
       "      <td>6</td>\n",
       "      <td>83</td>\n",
       "      <td>2621</td>\n",
       "      <td>43.683333</td>\n",
       "      <td>50</td>\n",
       "      <td>Les Oiseaux du Temps</td>\n",
       "      <td>1.90</td>\n",
       "    </tr>\n",
       "    <tr>\n",
       "      <th>425</th>\n",
       "      <td>2024-05-13</td>\n",
       "      <td>16</td>\n",
       "      <td>77</td>\n",
       "      <td>2474</td>\n",
       "      <td>41.233333</td>\n",
       "      <td>38</td>\n",
       "      <td>Trois corps – 01 – Le problème à trois corps</td>\n",
       "      <td>1.87</td>\n",
       "    </tr>\n",
       "    <tr>\n",
       "      <th>619</th>\n",
       "      <td>2024-07-30</td>\n",
       "      <td>22</td>\n",
       "      <td>83</td>\n",
       "      <td>2679</td>\n",
       "      <td>44.650000</td>\n",
       "      <td>59</td>\n",
       "      <td>Les Variations Sebastian</td>\n",
       "      <td>1.86</td>\n",
       "    </tr>\n",
       "    <tr>\n",
       "      <th>624</th>\n",
       "      <td>2024-08-01</td>\n",
       "      <td>23</td>\n",
       "      <td>84</td>\n",
       "      <td>2744</td>\n",
       "      <td>45.733333</td>\n",
       "      <td>59</td>\n",
       "      <td>Les Variations Sebastian</td>\n",
       "      <td>1.84</td>\n",
       "    </tr>\n",
       "    <tr>\n",
       "      <th>205</th>\n",
       "      <td>2024-02-16</td>\n",
       "      <td>5</td>\n",
       "      <td>93</td>\n",
       "      <td>3034</td>\n",
       "      <td>50.566667</td>\n",
       "      <td>23</td>\n",
       "      <td>La Chute d'Hypérion: Le cycle d'Hypérion - Tome 2</td>\n",
       "      <td>1.84</td>\n",
       "    </tr>\n",
       "    <tr>\n",
       "      <th>468</th>\n",
       "      <td>2024-05-26</td>\n",
       "      <td>6</td>\n",
       "      <td>109</td>\n",
       "      <td>3596</td>\n",
       "      <td>59.933333</td>\n",
       "      <td>40</td>\n",
       "      <td>Des fleurs pour Algernon</td>\n",
       "      <td>1.82</td>\n",
       "    </tr>\n",
       "    <tr>\n",
       "      <th>518</th>\n",
       "      <td>2024-06-12</td>\n",
       "      <td>21</td>\n",
       "      <td>63</td>\n",
       "      <td>2088</td>\n",
       "      <td>34.800000</td>\n",
       "      <td>50</td>\n",
       "      <td>Les Oiseaux du Temps</td>\n",
       "      <td>1.81</td>\n",
       "    </tr>\n",
       "    <tr>\n",
       "      <th>214</th>\n",
       "      <td>2024-02-19</td>\n",
       "      <td>21</td>\n",
       "      <td>79</td>\n",
       "      <td>2681</td>\n",
       "      <td>44.683333</td>\n",
       "      <td>23</td>\n",
       "      <td>La Chute d'Hypérion: Le cycle d'Hypérion - Tome 2</td>\n",
       "      <td>1.77</td>\n",
       "    </tr>\n",
       "    <tr>\n",
       "      <th>620</th>\n",
       "      <td>2024-07-30</td>\n",
       "      <td>23</td>\n",
       "      <td>78</td>\n",
       "      <td>2654</td>\n",
       "      <td>44.233333</td>\n",
       "      <td>59</td>\n",
       "      <td>Les Variations Sebastian</td>\n",
       "      <td>1.76</td>\n",
       "    </tr>\n",
       "    <tr>\n",
       "      <th>793</th>\n",
       "      <td>2024-10-02</td>\n",
       "      <td>20</td>\n",
       "      <td>88</td>\n",
       "      <td>3025</td>\n",
       "      <td>50.416667</td>\n",
       "      <td>68</td>\n",
       "      <td>Voyageur 2 : Libration</td>\n",
       "      <td>1.75</td>\n",
       "    </tr>\n",
       "    <tr>\n",
       "      <th>434</th>\n",
       "      <td>2024-05-15</td>\n",
       "      <td>11</td>\n",
       "      <td>80</td>\n",
       "      <td>2815</td>\n",
       "      <td>46.916667</td>\n",
       "      <td>38</td>\n",
       "      <td>Trois corps – 01 – Le problème à trois corps</td>\n",
       "      <td>1.71</td>\n",
       "    </tr>\n",
       "    <tr>\n",
       "      <th>141</th>\n",
       "      <td>2024-01-21</td>\n",
       "      <td>22</td>\n",
       "      <td>69</td>\n",
       "      <td>2428</td>\n",
       "      <td>40.466667</td>\n",
       "      <td>20</td>\n",
       "      <td>Hypérion v1.1</td>\n",
       "      <td>1.71</td>\n",
       "    </tr>\n",
       "    <tr>\n",
       "      <th>172</th>\n",
       "      <td>2024-02-04</td>\n",
       "      <td>22</td>\n",
       "      <td>61</td>\n",
       "      <td>2149</td>\n",
       "      <td>35.816667</td>\n",
       "      <td>23</td>\n",
       "      <td>La Chute d'Hypérion: Le cycle d'Hypérion - Tome 2</td>\n",
       "      <td>1.70</td>\n",
       "    </tr>\n",
       "    <tr>\n",
       "      <th>206</th>\n",
       "      <td>2024-02-16</td>\n",
       "      <td>6</td>\n",
       "      <td>69</td>\n",
       "      <td>2435</td>\n",
       "      <td>40.583333</td>\n",
       "      <td>23</td>\n",
       "      <td>La Chute d'Hypérion: Le cycle d'Hypérion - Tome 2</td>\n",
       "      <td>1.70</td>\n",
       "    </tr>\n",
       "    <tr>\n",
       "      <th>486</th>\n",
       "      <td>2024-05-29</td>\n",
       "      <td>22</td>\n",
       "      <td>72</td>\n",
       "      <td>2556</td>\n",
       "      <td>42.600000</td>\n",
       "      <td>44</td>\n",
       "      <td>Station Eleven</td>\n",
       "      <td>1.69</td>\n",
       "    </tr>\n",
       "    <tr>\n",
       "      <th>546</th>\n",
       "      <td>2024-06-28</td>\n",
       "      <td>20</td>\n",
       "      <td>79</td>\n",
       "      <td>2820</td>\n",
       "      <td>47.000000</td>\n",
       "      <td>53</td>\n",
       "      <td>L'hôtel de verre</td>\n",
       "      <td>1.68</td>\n",
       "    </tr>\n",
       "    <tr>\n",
       "      <th>773</th>\n",
       "      <td>2024-09-29</td>\n",
       "      <td>10</td>\n",
       "      <td>88</td>\n",
       "      <td>3148</td>\n",
       "      <td>52.466667</td>\n",
       "      <td>67</td>\n",
       "      <td>Voyageur 1 : L'Espace d'un an</td>\n",
       "      <td>1.68</td>\n",
       "    </tr>\n",
       "    <tr>\n",
       "      <th>467</th>\n",
       "      <td>2024-05-26</td>\n",
       "      <td>5</td>\n",
       "      <td>77</td>\n",
       "      <td>2759</td>\n",
       "      <td>45.983333</td>\n",
       "      <td>40</td>\n",
       "      <td>Des fleurs pour Algernon</td>\n",
       "      <td>1.67</td>\n",
       "    </tr>\n",
       "    <tr>\n",
       "      <th>207</th>\n",
       "      <td>2024-02-16</td>\n",
       "      <td>20</td>\n",
       "      <td>73</td>\n",
       "      <td>2629</td>\n",
       "      <td>43.816667</td>\n",
       "      <td>23</td>\n",
       "      <td>La Chute d'Hypérion: Le cycle d'Hypérion - Tome 2</td>\n",
       "      <td>1.67</td>\n",
       "    </tr>\n",
       "    <tr>\n",
       "      <th>691</th>\n",
       "      <td>2024-08-14</td>\n",
       "      <td>22</td>\n",
       "      <td>97</td>\n",
       "      <td>3585</td>\n",
       "      <td>59.750000</td>\n",
       "      <td>63, 64</td>\n",
       "      <td>Blackwater 1 - La crue: L'épique saga de la fa...</td>\n",
       "      <td>1.62</td>\n",
       "    </tr>\n",
       "    <tr>\n",
       "      <th>533</th>\n",
       "      <td>2024-06-19</td>\n",
       "      <td>22</td>\n",
       "      <td>72</td>\n",
       "      <td>2681</td>\n",
       "      <td>44.683333</td>\n",
       "      <td>51</td>\n",
       "      <td>Un psaume pour les recyclés sauvages</td>\n",
       "      <td>1.61</td>\n",
       "    </tr>\n",
       "    <tr>\n",
       "      <th>366</th>\n",
       "      <td>2024-04-23</td>\n",
       "      <td>13</td>\n",
       "      <td>89</td>\n",
       "      <td>3346</td>\n",
       "      <td>55.766667</td>\n",
       "      <td>35</td>\n",
       "      <td>Marche ou crève</td>\n",
       "      <td>1.60</td>\n",
       "    </tr>\n",
       "    <tr>\n",
       "      <th>147</th>\n",
       "      <td>2024-01-26</td>\n",
       "      <td>21</td>\n",
       "      <td>62</td>\n",
       "      <td>2367</td>\n",
       "      <td>39.450000</td>\n",
       "      <td>20</td>\n",
       "      <td>Hypérion v1.1</td>\n",
       "      <td>1.57</td>\n",
       "    </tr>\n",
       "    <tr>\n",
       "      <th>155</th>\n",
       "      <td>2024-01-28</td>\n",
       "      <td>0</td>\n",
       "      <td>67</td>\n",
       "      <td>2601</td>\n",
       "      <td>43.350000</td>\n",
       "      <td>19, 20</td>\n",
       "      <td>Hypérion v1.1, Il n'y a pas de parent parfait</td>\n",
       "      <td>1.55</td>\n",
       "    </tr>\n",
       "    <tr>\n",
       "      <th>152</th>\n",
       "      <td>2024-01-27</td>\n",
       "      <td>10</td>\n",
       "      <td>67</td>\n",
       "      <td>2628</td>\n",
       "      <td>43.800000</td>\n",
       "      <td>20</td>\n",
       "      <td>Hypérion v1.1</td>\n",
       "      <td>1.53</td>\n",
       "    </tr>\n",
       "    <tr>\n",
       "      <th>220</th>\n",
       "      <td>2024-02-22</td>\n",
       "      <td>23</td>\n",
       "      <td>62</td>\n",
       "      <td>2497</td>\n",
       "      <td>41.616667</td>\n",
       "      <td>24</td>\n",
       "      <td>Red Rising</td>\n",
       "      <td>1.49</td>\n",
       "    </tr>\n",
       "    <tr>\n",
       "      <th>225</th>\n",
       "      <td>2024-02-25</td>\n",
       "      <td>23</td>\n",
       "      <td>89</td>\n",
       "      <td>3605</td>\n",
       "      <td>60.083333</td>\n",
       "      <td>24</td>\n",
       "      <td>Red Rising</td>\n",
       "      <td>1.48</td>\n",
       "    </tr>\n",
       "    <tr>\n",
       "      <th>360</th>\n",
       "      <td>2024-04-22</td>\n",
       "      <td>4</td>\n",
       "      <td>72</td>\n",
       "      <td>2946</td>\n",
       "      <td>49.100000</td>\n",
       "      <td>34</td>\n",
       "      <td>L'Enchanteur</td>\n",
       "      <td>1.47</td>\n",
       "    </tr>\n",
       "    <tr>\n",
       "      <th>226</th>\n",
       "      <td>2024-02-26</td>\n",
       "      <td>0</td>\n",
       "      <td>86</td>\n",
       "      <td>3584</td>\n",
       "      <td>59.733333</td>\n",
       "      <td>24</td>\n",
       "      <td>Red Rising</td>\n",
       "      <td>1.44</td>\n",
       "    </tr>\n",
       "    <tr>\n",
       "      <th>227</th>\n",
       "      <td>2024-02-26</td>\n",
       "      <td>1</td>\n",
       "      <td>86</td>\n",
       "      <td>3621</td>\n",
       "      <td>60.350000</td>\n",
       "      <td>24</td>\n",
       "      <td>Red Rising</td>\n",
       "      <td>1.43</td>\n",
       "    </tr>\n",
       "    <tr>\n",
       "      <th>864</th>\n",
       "      <td>2024-11-03</td>\n",
       "      <td>22</td>\n",
       "      <td>73</td>\n",
       "      <td>3203</td>\n",
       "      <td>53.383333</td>\n",
       "      <td>72</td>\n",
       "      <td>Voyageur 4 : La Galaxie vue du sol</td>\n",
       "      <td>1.37</td>\n",
       "    </tr>\n",
       "    <tr>\n",
       "      <th>259</th>\n",
       "      <td>2024-03-06</td>\n",
       "      <td>7</td>\n",
       "      <td>71</td>\n",
       "      <td>3109</td>\n",
       "      <td>51.816667</td>\n",
       "      <td>26</td>\n",
       "      <td>Le sorcier de Terremer</td>\n",
       "      <td>1.37</td>\n",
       "    </tr>\n",
       "    <tr>\n",
       "      <th>585</th>\n",
       "      <td>2024-07-14</td>\n",
       "      <td>20</td>\n",
       "      <td>63</td>\n",
       "      <td>2759</td>\n",
       "      <td>45.983333</td>\n",
       "      <td>57</td>\n",
       "      <td>Légendes et lattes</td>\n",
       "      <td>1.37</td>\n",
       "    </tr>\n",
       "    <tr>\n",
       "      <th>834</th>\n",
       "      <td>2024-10-21</td>\n",
       "      <td>21</td>\n",
       "      <td>79</td>\n",
       "      <td>3499</td>\n",
       "      <td>58.316667</td>\n",
       "      <td>70</td>\n",
       "      <td>Voyageur 3 : Archives de l'exode</td>\n",
       "      <td>1.35</td>\n",
       "    </tr>\n",
       "    <tr>\n",
       "      <th>201</th>\n",
       "      <td>2024-02-15</td>\n",
       "      <td>4</td>\n",
       "      <td>65</td>\n",
       "      <td>2954</td>\n",
       "      <td>49.233333</td>\n",
       "      <td>23</td>\n",
       "      <td>La Chute d'Hypérion: Le cycle d'Hypérion - Tome 2</td>\n",
       "      <td>1.32</td>\n",
       "    </tr>\n",
       "    <tr>\n",
       "      <th>692</th>\n",
       "      <td>2024-08-14</td>\n",
       "      <td>23</td>\n",
       "      <td>71</td>\n",
       "      <td>3256</td>\n",
       "      <td>54.266667</td>\n",
       "      <td>64</td>\n",
       "      <td>Blackwater 2 - La digue</td>\n",
       "      <td>1.31</td>\n",
       "    </tr>\n",
       "    <tr>\n",
       "      <th>832</th>\n",
       "      <td>2024-10-19</td>\n",
       "      <td>21</td>\n",
       "      <td>63</td>\n",
       "      <td>3147</td>\n",
       "      <td>52.450000</td>\n",
       "      <td>70</td>\n",
       "      <td>Voyageur 3 : Archives de l'exode</td>\n",
       "      <td>1.20</td>\n",
       "    </tr>\n",
       "  </tbody>\n",
       "</table>\n",
       "</div>"
      ],
      "text/plain": [
       "    date lecture  Heure  Nombre de pages  Temps passé sur la page en seconde  \\\n",
       "240   2024-02-28     21               79                                2123   \n",
       "281   2024-03-19      0              100                                2736   \n",
       "455   2024-05-21     16               73                                2046   \n",
       "451   2024-05-20     19               71                                2037   \n",
       "17    2023-11-23     12               63                                1821   \n",
       "599   2024-07-24     16               79                                2336   \n",
       "612   2024-07-28      9               78                                2306   \n",
       "608   2024-07-27     21              106                                3166   \n",
       "280   2024-03-18     23              117                                3593   \n",
       "772   2024-09-29      9              110                                3407   \n",
       "452   2024-05-20     20               74                                2302   \n",
       "761   2024-09-23     21               69                                2164   \n",
       "433   2024-05-15      7               87                                2745   \n",
       "238   2024-02-28     12               85                                2685   \n",
       "523   2024-06-15      6               83                                2621   \n",
       "425   2024-05-13     16               77                                2474   \n",
       "619   2024-07-30     22               83                                2679   \n",
       "624   2024-08-01     23               84                                2744   \n",
       "205   2024-02-16      5               93                                3034   \n",
       "468   2024-05-26      6              109                                3596   \n",
       "518   2024-06-12     21               63                                2088   \n",
       "214   2024-02-19     21               79                                2681   \n",
       "620   2024-07-30     23               78                                2654   \n",
       "793   2024-10-02     20               88                                3025   \n",
       "434   2024-05-15     11               80                                2815   \n",
       "141   2024-01-21     22               69                                2428   \n",
       "172   2024-02-04     22               61                                2149   \n",
       "206   2024-02-16      6               69                                2435   \n",
       "486   2024-05-29     22               72                                2556   \n",
       "546   2024-06-28     20               79                                2820   \n",
       "773   2024-09-29     10               88                                3148   \n",
       "467   2024-05-26      5               77                                2759   \n",
       "207   2024-02-16     20               73                                2629   \n",
       "691   2024-08-14     22               97                                3585   \n",
       "533   2024-06-19     22               72                                2681   \n",
       "366   2024-04-23     13               89                                3346   \n",
       "147   2024-01-26     21               62                                2367   \n",
       "155   2024-01-28      0               67                                2601   \n",
       "152   2024-01-27     10               67                                2628   \n",
       "220   2024-02-22     23               62                                2497   \n",
       "225   2024-02-25     23               89                                3605   \n",
       "360   2024-04-22      4               72                                2946   \n",
       "226   2024-02-26      0               86                                3584   \n",
       "227   2024-02-26      1               86                                3621   \n",
       "864   2024-11-03     22               73                                3203   \n",
       "259   2024-03-06      7               71                                3109   \n",
       "585   2024-07-14     20               63                                2759   \n",
       "834   2024-10-21     21               79                                3499   \n",
       "201   2024-02-15      4               65                                2954   \n",
       "692   2024-08-14     23               71                                3256   \n",
       "832   2024-10-19     21               63                                3147   \n",
       "\n",
       "     Temps de lecture en minute id_books  \\\n",
       "240                   35.383333       25   \n",
       "281                   45.600000       32   \n",
       "455                   34.100000       39   \n",
       "451                   33.950000       39   \n",
       "17                    30.350000        2   \n",
       "599                   38.933333       58   \n",
       "612                   38.433333       58   \n",
       "608                   52.766667       58   \n",
       "280                   59.883333       32   \n",
       "772                   56.783333       67   \n",
       "452                   38.366667       39   \n",
       "761                   36.066667       67   \n",
       "433                   45.750000       38   \n",
       "238                   44.750000       25   \n",
       "523                   43.683333       50   \n",
       "425                   41.233333       38   \n",
       "619                   44.650000       59   \n",
       "624                   45.733333       59   \n",
       "205                   50.566667       23   \n",
       "468                   59.933333       40   \n",
       "518                   34.800000       50   \n",
       "214                   44.683333       23   \n",
       "620                   44.233333       59   \n",
       "793                   50.416667       68   \n",
       "434                   46.916667       38   \n",
       "141                   40.466667       20   \n",
       "172                   35.816667       23   \n",
       "206                   40.583333       23   \n",
       "486                   42.600000       44   \n",
       "546                   47.000000       53   \n",
       "773                   52.466667       67   \n",
       "467                   45.983333       40   \n",
       "207                   43.816667       23   \n",
       "691                   59.750000   63, 64   \n",
       "533                   44.683333       51   \n",
       "366                   55.766667       35   \n",
       "147                   39.450000       20   \n",
       "155                   43.350000   19, 20   \n",
       "152                   43.800000       20   \n",
       "220                   41.616667       24   \n",
       "225                   60.083333       24   \n",
       "360                   49.100000       34   \n",
       "226                   59.733333       24   \n",
       "227                   60.350000       24   \n",
       "864                   53.383333       72   \n",
       "259                   51.816667       26   \n",
       "585                   45.983333       57   \n",
       "834                   58.316667       70   \n",
       "201                   49.233333       23   \n",
       "692                   54.266667       64   \n",
       "832                   52.450000       70   \n",
       "\n",
       "                                                Titres  page à la minute  \n",
       "240                    Le manuel de survie des parents              2.23  \n",
       "281                                           la route              2.19  \n",
       "455                             Skyward T3 : Cytonique              2.14  \n",
       "451                             Skyward T3 : Cytonique              2.09  \n",
       "17                        Le crime de l'Orient-Express              2.08  \n",
       "599  Roman secret 3 - Yumi et le peintre de cauchemars              2.03  \n",
       "612  Roman secret 3 - Yumi et le peintre de cauchemars              2.03  \n",
       "608  Roman secret 3 - Yumi et le peintre de cauchemars              2.01  \n",
       "280                                           la route              1.95  \n",
       "772                      Voyageur 1 : L'Espace d'un an              1.94  \n",
       "452                             Skyward T3 : Cytonique              1.93  \n",
       "761                      Voyageur 1 : L'Espace d'un an              1.91  \n",
       "433       Trois corps – 01 – Le problème à trois corps              1.90  \n",
       "238                    Le manuel de survie des parents              1.90  \n",
       "523                               Les Oiseaux du Temps              1.90  \n",
       "425       Trois corps – 01 – Le problème à trois corps              1.87  \n",
       "619                           Les Variations Sebastian              1.86  \n",
       "624                           Les Variations Sebastian              1.84  \n",
       "205  La Chute d'Hypérion: Le cycle d'Hypérion - Tome 2              1.84  \n",
       "468                           Des fleurs pour Algernon              1.82  \n",
       "518                               Les Oiseaux du Temps              1.81  \n",
       "214  La Chute d'Hypérion: Le cycle d'Hypérion - Tome 2              1.77  \n",
       "620                           Les Variations Sebastian              1.76  \n",
       "793                             Voyageur 2 : Libration              1.75  \n",
       "434       Trois corps – 01 – Le problème à trois corps              1.71  \n",
       "141                                      Hypérion v1.1              1.71  \n",
       "172  La Chute d'Hypérion: Le cycle d'Hypérion - Tome 2              1.70  \n",
       "206  La Chute d'Hypérion: Le cycle d'Hypérion - Tome 2              1.70  \n",
       "486                                     Station Eleven              1.69  \n",
       "546                                   L'hôtel de verre              1.68  \n",
       "773                      Voyageur 1 : L'Espace d'un an              1.68  \n",
       "467                           Des fleurs pour Algernon              1.67  \n",
       "207  La Chute d'Hypérion: Le cycle d'Hypérion - Tome 2              1.67  \n",
       "691  Blackwater 1 - La crue: L'épique saga de la fa...              1.62  \n",
       "533               Un psaume pour les recyclés sauvages              1.61  \n",
       "366                                    Marche ou crève              1.60  \n",
       "147                                      Hypérion v1.1              1.57  \n",
       "155      Hypérion v1.1, Il n'y a pas de parent parfait              1.55  \n",
       "152                                      Hypérion v1.1              1.53  \n",
       "220                                         Red Rising              1.49  \n",
       "225                                         Red Rising              1.48  \n",
       "360                                       L'Enchanteur              1.47  \n",
       "226                                         Red Rising              1.44  \n",
       "227                                         Red Rising              1.43  \n",
       "864                 Voyageur 4 : La Galaxie vue du sol              1.37  \n",
       "259                             Le sorcier de Terremer              1.37  \n",
       "585                                 Légendes et lattes              1.37  \n",
       "834                   Voyageur 3 : Archives de l'exode              1.35  \n",
       "201  La Chute d'Hypérion: Le cycle d'Hypérion - Tome 2              1.32  \n",
       "692                            Blackwater 2 - La digue              1.31  \n",
       "832                   Voyageur 3 : Archives de l'exode              1.20  "
      ]
     },
     "execution_count": 118,
     "metadata": {},
     "output_type": "execute_result"
    }
   ],
   "source": [
    "result[\"page à la minute\"] = (result[\"Nombre de pages\"] / (result[\"Temps de lecture en minute\"] )).round(2) \n",
    "\n",
    "# faire un head de result trié par page à la minute, uniquement quand page supérieur à 60\n",
    "result[result[\"Nombre de pages\"] > 60].sort_values(by='page à la minute', ascending=False).head(5)\n",
    "# result.sort_values(by='page', ascending=False).head(10)"
   ]
  },
  {
   "cell_type": "code",
   "execution_count": 119,
   "metadata": {},
   "outputs": [
    {
     "data": {
      "text/plain": [
       "<Axes: xlabel='Heure', ylabel='count'>"
      ]
     },
     "execution_count": 119,
     "metadata": {},
     "output_type": "execute_result"
    },
    {
     "data": {
      "image/png": "[encoded data removed]",
      "text/plain": [
       "<Figure size 640x480 with 1 Axes>"
      ]
     },
     "metadata": {},
     "output_type": "display_data"
    }
   ],
   "source": [
    "# plot le nombre de fois où chaque heure apparait pour \"result[result[\"Nombre de pages\"] > 60].sort_values(by='page à la minute', ascending=False).head(100)\"\n",
    "sns.countplot(x='Heure', data=result[result[\"Nombre de pages\"] > 60].sort_values(by='page à la minute', ascending=False).head(100))"
   ]
  },
  {
   "cell_type": "markdown",
   "metadata": {},
   "source": [
    "### nombre d'auteurs et nombres de livres lus"
   ]
  },
  {
   "cell_type": "code",
   "execution_count": 123,
   "metadata": {},
   "outputs": [
    {
     "name": "stdout",
     "output_type": "stream",
     "text": [
      "56 livres lus, de 38 auteurs différents\n"
     ]
    }
   ],
   "source": [
    "# print le nombre de lignes de df_book_updated\n",
    "nb_livres_lus = df_book_streamlit.shape[0]\n",
    "# print le nombre d'Auteurs lus de df_book_updated\n",
    "nb_auteurs_lus = df_book_streamlit[\"Auteurs\"].nunique()\n",
    "\n",
    "\n",
    "print(f\"{nb_livres_lus} livres lus, de {nb_auteurs_lus} auteurs différents\")"
   ]
  }
 ],
 "metadata": {
  "kernelspec": {
   "display_name": ".venv",
   "language": "python",
   "name": "python3"
  },
  "language_info": {
   "codemirror_mode": {
    "name": "ipython",
    "version": 3
   },
   "file_extension": ".py",
   "mimetype": "text/x-python",
   "name": "python",
   "nbconvert_exporter": "python",
   "pygments_lexer": "ipython3",
   "version": "3.12.7"
  }
 },
 "nbformat": 4,
 "nbformat_minor": 2
}
