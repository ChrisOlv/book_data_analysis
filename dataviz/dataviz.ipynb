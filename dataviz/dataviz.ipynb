{
 "cells": [
  {
   "cell_type": "code",
   "execution_count": 10,
   "metadata": {},
   "outputs": [
    {
     "name": "stdout",
     "output_type": "stream",
     "text": [
      "Collecting plotly\n",
      "  Using cached plotly-5.24.1-py3-none-any.whl.metadata (7.3 kB)\n",
      "Requirement already satisfied: tenacity>=6.2.0 in d:\\6.dev\\book_data_analysis\\.venv\\lib\\site-packages (from plotly) (8.5.0)\n",
      "Requirement already satisfied: packaging in d:\\6.dev\\book_data_analysis\\.venv\\lib\\site-packages (from plotly) (24.1)\n",
      "Using cached plotly-5.24.1-py3-none-any.whl (19.1 MB)\n",
      "Installing collected packages: plotly\n",
      "Successfully installed plotly-5.24.1\n"
     ]
    },
    {
     "name": "stderr",
     "output_type": "stream",
     "text": [
      "\n",
      "[notice] A new release of pip is available: 24.2 -> 24.3.1\n",
      "[notice] To update, run: python.exe -m pip install --upgrade pip\n"
     ]
    }
   ],
   "source": [
    "# ! pip install streamlit\n",
    "! pip install plotly"
   ]
  },
  {
   "cell_type": "code",
   "execution_count": null,
   "metadata": {},
   "outputs": [],
   "source": [
    "import pandas as pd\n",
    "import seaborn as sns\n",
    "import matplotlib.pyplot as plt\n",
    "import matplotlib.dates as mdates\n",
    "import warnings\n",
    "from datetime import timedelta\n",
    "import plotly.express as px\n",
    "\n",
    "pd.set_option('display.max_columns', 40)\n",
    "# display max rows 75\n",
    "pd.set_option('display.max_rows', 75)"
   ]
  },
  {
   "cell_type": "markdown",
   "metadata": {},
   "source": [
    "Pour reprendre en route, possible de récupérer directement la verion du dataset depuis les fichiers parquets"
   ]
  },
  {
   "cell_type": "code",
   "execution_count": 54,
   "metadata": {},
   "outputs": [],
   "source": [
    "# df_book = pd.read_parquet('df_book.parquet')\n",
    "df_book_updated = pd.read_parquet('df_book_updated.parquet')\n",
    "df_book_streamlit = pd.read_parquet(\"df_book_streamlit.parquet\")\n",
    "df_stat = pd.read_parquet('../data_sources_from_python/stats_lecture.parquet')\n"
   ]
  },
  {
   "cell_type": "markdown",
   "metadata": {},
   "source": [
    "# fichiers source\n",
    "Attention aux noms des tables et des variables.\n",
    "Attention aux noms des fichiers générés\n",
    "\n",
    "* df_book --> df_book_updated --> df_book_streamlit\n",
    "* df_stat"
   ]
  },
  {
   "cell_type": "code",
   "execution_count": 2,
   "metadata": {},
   "outputs": [
    {
     "data": {
      "text/html": [
       "<div>\n",
       "<style scoped>\n",
       "    .dataframe tbody tr th:only-of-type {\n",
       "        vertical-align: middle;\n",
       "    }\n",
       "\n",
       "    .dataframe tbody tr th {\n",
       "        vertical-align: top;\n",
       "    }\n",
       "\n",
       "    .dataframe thead th {\n",
       "        text-align: right;\n",
       "    }\n",
       "</style>\n",
       "<table border=\"1\" class=\"dataframe\">\n",
       "  <thead>\n",
       "    <tr style=\"text-align: right;\">\n",
       "      <th></th>\n",
       "      <th>id</th>\n",
       "      <th>Titre</th>\n",
       "      <th>Auteurs</th>\n",
       "      <th>notes</th>\n",
       "      <th>Date dernière ouverture</th>\n",
       "      <th>page</th>\n",
       "      <th>Série</th>\n",
       "      <th>Langue</th>\n",
       "      <th>total_read_time</th>\n",
       "      <th>total Nbr de pages lues</th>\n",
       "      <th>oeuvre</th>\n",
       "      <th>id long</th>\n",
       "      <th>Auteurs courts</th>\n",
       "      <th>format</th>\n",
       "      <th>First published date</th>\n",
       "      <th>categorie</th>\n",
       "    </tr>\n",
       "  </thead>\n",
       "  <tbody>\n",
       "    <tr>\n",
       "      <th>0</th>\n",
       "      <td>2</td>\n",
       "      <td>Le crime de l'Orient-Express</td>\n",
       "      <td>Christie, Agatha</td>\n",
       "      <td>0</td>\n",
       "      <td>2023-11-27</td>\n",
       "      <td>349</td>\n",
       "      <td>l'Orient #1</td>\n",
       "      <td>fr</td>\n",
       "      <td>13191</td>\n",
       "      <td>330</td>\n",
       "      <td>Le crime de l'Orient-Express - Christie, Agatha</td>\n",
       "      <td>00002</td>\n",
       "      <td>Christie Agatha</td>\n",
       "      <td>ebook</td>\n",
       "      <td>1934</td>\n",
       "      <td>fiction/SF</td>\n",
       "    </tr>\n",
       "    <tr>\n",
       "      <th>1</th>\n",
       "      <td>3</td>\n",
       "      <td>Let's Get Together</td>\n",
       "      <td>Isaac Asimov</td>\n",
       "      <td>0</td>\n",
       "      <td>2023-11-27</td>\n",
       "      <td>68</td>\n",
       "      <td>N/A</td>\n",
       "      <td>en</td>\n",
       "      <td>388</td>\n",
       "      <td>8</td>\n",
       "      <td>Let's Get Together - Isaac Asimov</td>\n",
       "      <td>00003</td>\n",
       "      <td>Isaac Asimov</td>\n",
       "      <td>ebook</td>\n",
       "      <td>1957</td>\n",
       "      <td>fiction/SF</td>\n",
       "    </tr>\n",
       "    <tr>\n",
       "      <th>2</th>\n",
       "      <td>4</td>\n",
       "      <td>La nuit des temps</td>\n",
       "      <td>Barjavel,René</td>\n",
       "      <td>0</td>\n",
       "      <td>2024-01-08</td>\n",
       "      <td>449</td>\n",
       "      <td>N/A</td>\n",
       "      <td>und</td>\n",
       "      <td>12240</td>\n",
       "      <td>289</td>\n",
       "      <td>La nuit des temps - Barjavel,René</td>\n",
       "      <td>00004</td>\n",
       "      <td>Barjavel René</td>\n",
       "      <td>ebook</td>\n",
       "      <td>1968</td>\n",
       "      <td>fiction/SF</td>\n",
       "    </tr>\n",
       "    <tr>\n",
       "      <th>3</th>\n",
       "      <td>5</td>\n",
       "      <td>Chasseur, cueilleur, parent: les cultures ance...</td>\n",
       "      <td>Michaeleen Doucleff</td>\n",
       "      <td>0</td>\n",
       "      <td>2024-01-09</td>\n",
       "      <td>675</td>\n",
       "      <td>N/A</td>\n",
       "      <td>fr</td>\n",
       "      <td>18029</td>\n",
       "      <td>418</td>\n",
       "      <td>Chasseur, cueilleur, parent: les cultures ance...</td>\n",
       "      <td>00005</td>\n",
       "      <td>Michaeleen Doucleff</td>\n",
       "      <td>ebook</td>\n",
       "      <td>2021</td>\n",
       "      <td>non-fiction/parenting</td>\n",
       "    </tr>\n",
       "    <tr>\n",
       "      <th>4</th>\n",
       "      <td>11</td>\n",
       "      <td>La faune de l'espace</td>\n",
       "      <td>Van Vogt,Alfred E</td>\n",
       "      <td>0</td>\n",
       "      <td>2024-01-08</td>\n",
       "      <td>809</td>\n",
       "      <td>N/A</td>\n",
       "      <td>fr</td>\n",
       "      <td>22</td>\n",
       "      <td>2</td>\n",
       "      <td>La faune de l'espace - Van Vogt,Alfred E</td>\n",
       "      <td>00011</td>\n",
       "      <td>Van Vogt</td>\n",
       "      <td>ebook</td>\n",
       "      <td>1950</td>\n",
       "      <td>fiction/SF</td>\n",
       "    </tr>\n",
       "  </tbody>\n",
       "</table>\n",
       "</div>"
      ],
      "text/plain": [
       "   id                                              Titre              Auteurs  \\\n",
       "0   2                       Le crime de l'Orient-Express     Christie, Agatha   \n",
       "1   3                                 Let's Get Together         Isaac Asimov   \n",
       "2   4                                  La nuit des temps        Barjavel,René   \n",
       "3   5  Chasseur, cueilleur, parent: les cultures ance...  Michaeleen Doucleff   \n",
       "4  11                               La faune de l'espace    Van Vogt,Alfred E   \n",
       "\n",
       "   notes Date dernière ouverture  page        Série Langue  total_read_time  \\\n",
       "0      0              2023-11-27   349  l'Orient #1     fr            13191   \n",
       "1      0              2023-11-27    68          N/A     en              388   \n",
       "2      0              2024-01-08   449          N/A    und            12240   \n",
       "3      0              2024-01-09   675          N/A     fr            18029   \n",
       "4      0              2024-01-08   809          N/A     fr               22   \n",
       "\n",
       "   total Nbr de pages lues                                             oeuvre  \\\n",
       "0                      330    Le crime de l'Orient-Express - Christie, Agatha   \n",
       "1                        8                  Let's Get Together - Isaac Asimov   \n",
       "2                      289                  La nuit des temps - Barjavel,René   \n",
       "3                      418  Chasseur, cueilleur, parent: les cultures ance...   \n",
       "4                        2           La faune de l'espace - Van Vogt,Alfred E   \n",
       "\n",
       "  id long       Auteurs courts format First published date  \\\n",
       "0   00002      Christie Agatha  ebook                 1934   \n",
       "1   00003         Isaac Asimov  ebook                 1957   \n",
       "2   00004        Barjavel René  ebook                 1968   \n",
       "3   00005  Michaeleen Doucleff  ebook                 2021   \n",
       "4   00011             Van Vogt  ebook                 1950   \n",
       "\n",
       "               categorie  \n",
       "0             fiction/SF  \n",
       "1             fiction/SF  \n",
       "2             fiction/SF  \n",
       "3  non-fiction/parenting  \n",
       "4             fiction/SF  "
      ]
     },
     "execution_count": 2,
     "metadata": {},
     "output_type": "execute_result"
    }
   ],
   "source": [
    "df_book = pd.read_parquet('../data_sources_from_python/df_book.parquet')\n",
    "df_book.to_excel(\"df_book.xlsx\", index=False)\n",
    "df_book.head(5)"
   ]
  },
  {
   "cell_type": "code",
   "execution_count": 29,
   "metadata": {},
   "outputs": [
    {
     "data": {
      "text/plain": [
       "Index(['id_book', 'page', 'heure de début',\n",
       "       'Temps passé sur la page en seconde', 'total_pages', 'id_long',\n",
       "       'Temps de lecture en minute', 'Temps de lecture en heure',\n",
       "       'date lecture', 'Heure de début de lecture', 'Heure',\n",
       "       'Heure en décimal', 'Jour Précédent', 'Est Consécutif',\n",
       "       'date de fin de lecture'],\n",
       "      dtype='object')"
      ]
     },
     "execution_count": 29,
     "metadata": {},
     "output_type": "execute_result"
    }
   ],
   "source": [
    "df_stat = pd.read_parquet('../data_sources_from_python/stats_lecture.parquet')\n",
    "df_stat.to_excel(\"df_stat.xlsx\", index=False)\n",
    "df_stat.columns"
   ]
  },
  {
   "cell_type": "code",
   "execution_count": 43,
   "metadata": {},
   "outputs": [
    {
     "data": {
      "text/html": [
       "<div>\n",
       "<style scoped>\n",
       "    .dataframe tbody tr th:only-of-type {\n",
       "        vertical-align: middle;\n",
       "    }\n",
       "\n",
       "    .dataframe tbody tr th {\n",
       "        vertical-align: top;\n",
       "    }\n",
       "\n",
       "    .dataframe thead th {\n",
       "        text-align: right;\n",
       "    }\n",
       "</style>\n",
       "<table border=\"1\" class=\"dataframe\">\n",
       "  <thead>\n",
       "    <tr style=\"text-align: right;\">\n",
       "      <th></th>\n",
       "      <th>id_book</th>\n",
       "      <th>page</th>\n",
       "      <th>heure de début</th>\n",
       "      <th>Temps passé sur la page en seconde</th>\n",
       "      <th>total_pages</th>\n",
       "      <th>id_long</th>\n",
       "      <th>Temps de lecture en minute</th>\n",
       "      <th>Temps de lecture en heure</th>\n",
       "      <th>date lecture</th>\n",
       "      <th>Heure de début de lecture</th>\n",
       "      <th>Heure</th>\n",
       "      <th>Heure en décimal</th>\n",
       "      <th>Jour Précédent</th>\n",
       "      <th>Est Consécutif</th>\n",
       "      <th>date de fin de lecture</th>\n",
       "    </tr>\n",
       "  </thead>\n",
       "  <tbody>\n",
       "    <tr>\n",
       "      <th>0</th>\n",
       "      <td>1</td>\n",
       "      <td>1</td>\n",
       "      <td>2023-11-21 20:26:32</td>\n",
       "      <td>14</td>\n",
       "      <td>8</td>\n",
       "      <td>00001</td>\n",
       "      <td>0.233333</td>\n",
       "      <td>0.003889</td>\n",
       "      <td>2023-11-21</td>\n",
       "      <td>20</td>\n",
       "      <td>20</td>\n",
       "      <td>20.433333</td>\n",
       "      <td>2023-11-20</td>\n",
       "      <td>False</td>\n",
       "      <td>2023-11-21</td>\n",
       "    </tr>\n",
       "    <tr>\n",
       "      <th>1</th>\n",
       "      <td>1</td>\n",
       "      <td>6</td>\n",
       "      <td>2023-11-21 20:26:46</td>\n",
       "      <td>21</td>\n",
       "      <td>8</td>\n",
       "      <td>00001</td>\n",
       "      <td>0.350000</td>\n",
       "      <td>0.005833</td>\n",
       "      <td>2023-11-21</td>\n",
       "      <td>20</td>\n",
       "      <td>20</td>\n",
       "      <td>20.433333</td>\n",
       "      <td>2023-11-20</td>\n",
       "      <td>True</td>\n",
       "      <td>2023-11-21</td>\n",
       "    </tr>\n",
       "    <tr>\n",
       "      <th>2</th>\n",
       "      <td>1</td>\n",
       "      <td>7</td>\n",
       "      <td>2023-11-21 20:27:10</td>\n",
       "      <td>5</td>\n",
       "      <td>8</td>\n",
       "      <td>00001</td>\n",
       "      <td>0.083333</td>\n",
       "      <td>0.001389</td>\n",
       "      <td>2023-11-21</td>\n",
       "      <td>20</td>\n",
       "      <td>20</td>\n",
       "      <td>20.450000</td>\n",
       "      <td>2023-11-20</td>\n",
       "      <td>True</td>\n",
       "      <td>2023-11-21</td>\n",
       "    </tr>\n",
       "    <tr>\n",
       "      <th>3</th>\n",
       "      <td>1</td>\n",
       "      <td>8</td>\n",
       "      <td>2023-11-21 20:27:15</td>\n",
       "      <td>14</td>\n",
       "      <td>8</td>\n",
       "      <td>00001</td>\n",
       "      <td>0.233333</td>\n",
       "      <td>0.003889</td>\n",
       "      <td>2023-11-21</td>\n",
       "      <td>20</td>\n",
       "      <td>20</td>\n",
       "      <td>20.450000</td>\n",
       "      <td>2023-11-20</td>\n",
       "      <td>True</td>\n",
       "      <td>2023-11-21</td>\n",
       "    </tr>\n",
       "    <tr>\n",
       "      <th>4</th>\n",
       "      <td>2</td>\n",
       "      <td>5</td>\n",
       "      <td>2023-11-21 20:41:41</td>\n",
       "      <td>120</td>\n",
       "      <td>346</td>\n",
       "      <td>00002</td>\n",
       "      <td>2.000000</td>\n",
       "      <td>0.033333</td>\n",
       "      <td>2023-11-21</td>\n",
       "      <td>20</td>\n",
       "      <td>20</td>\n",
       "      <td>20.683333</td>\n",
       "      <td>2023-11-20</td>\n",
       "      <td>True</td>\n",
       "      <td>2023-11-27</td>\n",
       "    </tr>\n",
       "    <tr>\n",
       "      <th>5</th>\n",
       "      <td>2</td>\n",
       "      <td>5</td>\n",
       "      <td>2023-11-21 20:47:36</td>\n",
       "      <td>120</td>\n",
       "      <td>349</td>\n",
       "      <td>00002</td>\n",
       "      <td>2.000000</td>\n",
       "      <td>0.033333</td>\n",
       "      <td>2023-11-21</td>\n",
       "      <td>20</td>\n",
       "      <td>20</td>\n",
       "      <td>20.783333</td>\n",
       "      <td>2023-11-20</td>\n",
       "      <td>True</td>\n",
       "      <td>2023-11-27</td>\n",
       "    </tr>\n",
       "    <tr>\n",
       "      <th>6</th>\n",
       "      <td>2</td>\n",
       "      <td>5</td>\n",
       "      <td>2023-11-21 20:50:53</td>\n",
       "      <td>75</td>\n",
       "      <td>349</td>\n",
       "      <td>00002</td>\n",
       "      <td>1.250000</td>\n",
       "      <td>0.020833</td>\n",
       "      <td>2023-11-21</td>\n",
       "      <td>20</td>\n",
       "      <td>20</td>\n",
       "      <td>20.833333</td>\n",
       "      <td>2023-11-20</td>\n",
       "      <td>True</td>\n",
       "      <td>2023-11-27</td>\n",
       "    </tr>\n",
       "    <tr>\n",
       "      <th>7</th>\n",
       "      <td>2</td>\n",
       "      <td>5</td>\n",
       "      <td>2023-11-21 20:52:32</td>\n",
       "      <td>23</td>\n",
       "      <td>349</td>\n",
       "      <td>00002</td>\n",
       "      <td>0.383333</td>\n",
       "      <td>0.006389</td>\n",
       "      <td>2023-11-21</td>\n",
       "      <td>20</td>\n",
       "      <td>20</td>\n",
       "      <td>20.866667</td>\n",
       "      <td>2023-11-20</td>\n",
       "      <td>True</td>\n",
       "      <td>2023-11-27</td>\n",
       "    </tr>\n",
       "    <tr>\n",
       "      <th>8</th>\n",
       "      <td>2</td>\n",
       "      <td>6</td>\n",
       "      <td>2023-11-21 21:00:12</td>\n",
       "      <td>7</td>\n",
       "      <td>349</td>\n",
       "      <td>00002</td>\n",
       "      <td>0.116667</td>\n",
       "      <td>0.001944</td>\n",
       "      <td>2023-11-21</td>\n",
       "      <td>21</td>\n",
       "      <td>21</td>\n",
       "      <td>21.000000</td>\n",
       "      <td>2023-11-20</td>\n",
       "      <td>True</td>\n",
       "      <td>2023-11-27</td>\n",
       "    </tr>\n",
       "    <tr>\n",
       "      <th>9</th>\n",
       "      <td>2</td>\n",
       "      <td>7</td>\n",
       "      <td>2023-11-21 21:00:19</td>\n",
       "      <td>7</td>\n",
       "      <td>349</td>\n",
       "      <td>00002</td>\n",
       "      <td>0.116667</td>\n",
       "      <td>0.001944</td>\n",
       "      <td>2023-11-21</td>\n",
       "      <td>21</td>\n",
       "      <td>21</td>\n",
       "      <td>21.000000</td>\n",
       "      <td>2023-11-20</td>\n",
       "      <td>True</td>\n",
       "      <td>2023-11-27</td>\n",
       "    </tr>\n",
       "  </tbody>\n",
       "</table>\n",
       "</div>"
      ],
      "text/plain": [
       "   id_book  page      heure de début  Temps passé sur la page en seconde  \\\n",
       "0        1     1 2023-11-21 20:26:32                                  14   \n",
       "1        1     6 2023-11-21 20:26:46                                  21   \n",
       "2        1     7 2023-11-21 20:27:10                                   5   \n",
       "3        1     8 2023-11-21 20:27:15                                  14   \n",
       "4        2     5 2023-11-21 20:41:41                                 120   \n",
       "5        2     5 2023-11-21 20:47:36                                 120   \n",
       "6        2     5 2023-11-21 20:50:53                                  75   \n",
       "7        2     5 2023-11-21 20:52:32                                  23   \n",
       "8        2     6 2023-11-21 21:00:12                                   7   \n",
       "9        2     7 2023-11-21 21:00:19                                   7   \n",
       "\n",
       "   total_pages id_long  Temps de lecture en minute  Temps de lecture en heure  \\\n",
       "0            8   00001                    0.233333                   0.003889   \n",
       "1            8   00001                    0.350000                   0.005833   \n",
       "2            8   00001                    0.083333                   0.001389   \n",
       "3            8   00001                    0.233333                   0.003889   \n",
       "4          346   00002                    2.000000                   0.033333   \n",
       "5          349   00002                    2.000000                   0.033333   \n",
       "6          349   00002                    1.250000                   0.020833   \n",
       "7          349   00002                    0.383333                   0.006389   \n",
       "8          349   00002                    0.116667                   0.001944   \n",
       "9          349   00002                    0.116667                   0.001944   \n",
       "\n",
       "  date lecture Heure de début de lecture  Heure  Heure en décimal  \\\n",
       "0   2023-11-21                        20     20         20.433333   \n",
       "1   2023-11-21                        20     20         20.433333   \n",
       "2   2023-11-21                        20     20         20.450000   \n",
       "3   2023-11-21                        20     20         20.450000   \n",
       "4   2023-11-21                        20     20         20.683333   \n",
       "5   2023-11-21                        20     20         20.783333   \n",
       "6   2023-11-21                        20     20         20.833333   \n",
       "7   2023-11-21                        20     20         20.866667   \n",
       "8   2023-11-21                        21     21         21.000000   \n",
       "9   2023-11-21                        21     21         21.000000   \n",
       "\n",
       "  Jour Précédent  Est Consécutif date de fin de lecture  \n",
       "0     2023-11-20           False             2023-11-21  \n",
       "1     2023-11-20            True             2023-11-21  \n",
       "2     2023-11-20            True             2023-11-21  \n",
       "3     2023-11-20            True             2023-11-21  \n",
       "4     2023-11-20            True             2023-11-27  \n",
       "5     2023-11-20            True             2023-11-27  \n",
       "6     2023-11-20            True             2023-11-27  \n",
       "7     2023-11-20            True             2023-11-27  \n",
       "8     2023-11-20            True             2023-11-27  \n",
       "9     2023-11-20            True             2023-11-27  "
      ]
     },
     "execution_count": 43,
     "metadata": {},
     "output_type": "execute_result"
    }
   ],
   "source": [
    "df_stat.head(10)"
   ]
  },
  {
   "cell_type": "markdown",
   "metadata": {},
   "source": [
    "# visuel 1 : table avec la liste des livres lus dans l'année. --> DONE\n",
    "## step 1 : easy\n",
    "* trié du plus récent au plus ancien \n",
    "* uniquement les livres lus en entier\n",
    "\n",
    "## step 2 : \n",
    "* Récupérer le nombre de jour de lecture pour chaque livre \n",
    "* calculer le nombre de pages lues par jour de lecture\n",
    "* calculer le nombre d'heures de lecture par jour de lecture\n",
    "* calculer la vitesse de lecture : page /min"
   ]
  },
  {
   "cell_type": "code",
   "execution_count": 8,
   "metadata": {},
   "outputs": [],
   "source": [
    "# Ignorer les avertissements\n",
    "warnings.filterwarnings('ignore')\n",
    "\n",
    "# Assurez-vous que la colonne \"date lecture\" est bien de type datetime\n",
    "df_stat['date lecture'] = pd.to_datetime(df_stat['date lecture'])\n",
    "\n",
    "# Grouper df_stat par 'id_book' et calculer les valeurs souhaitées\n",
    "df_stat_grouped = df_stat.groupby('id_book').agg({\n",
    "    'Temps passé sur la page en seconde': 'sum',\n",
    "    'date lecture': ['nunique', 'min', 'max']\n",
    "}).reset_index()\n",
    "\n",
    "# Aplatir les colonnes multi-niveaux résultantes après l'aggrégation\n",
    "df_stat_grouped.columns = ['id', 'total_temps_sur_page_seconde', 'nb_dates_lecture_distinctes', 'start_date', 'end_date']\n",
    "\n",
    "# Calculer la durée de l'intervalle de lecture\n",
    "df_stat_grouped['intervalle_lecture_en_jour'] = 1 +(df_stat_grouped['end_date'] - df_stat_grouped['start_date']).dt.days\n",
    "\n",
    "# Fusionner les résultats avec df_book\n",
    "df_book_updated = df_book.merge(df_stat_grouped, how='left', on='id')\n",
    "\n",
    "# Remplacer les valeurs NaN pour les colonnes nouvellement calculées, si nécessaire\n",
    "df_book_updated['total_temps_sur_page_seconde'].fillna(0, inplace=True)\n",
    "df_book_updated['nb_dates_lecture_distinctes'].fillna(0, inplace=True)\n",
    "df_book_updated['intervalle_lecture_en_jour'].fillna(0, inplace=True)\n",
    "\n",
    "# nombre de page lue par jour de lecture (total Nbr de pages lues / nb_dates_lecture_distinctes), arrondi à 2 chiffres après la virgule\n",
    "\n",
    "df_book_updated['nb_pages_lues_par_jour_de_lecture'] = (df_book_updated['total Nbr de pages lues'] / df_book_updated['nb_dates_lecture_distinctes']).round(1)\n",
    "\n",
    "# heure de lecure par jour de lecture\n",
    "df_book_updated['heure_lecture_par_jour_de_lecture'] = (df_book_updated['total_temps_sur_page_seconde'] / df_book_updated['nb_dates_lecture_distinctes'] / 3600).round(2)\n",
    "df_book_updated['minutes_lecture_par_jour_de_lecture'] = (df_book_updated['total_temps_sur_page_seconde'] / df_book_updated['nb_dates_lecture_distinctes'] / 60).round(1)\n",
    "\n",
    "# Remplacer les valeurs NaN dans la colonne 'heure_lecture_par_jour_de_lecture' par 0\n",
    "df_book_updated['heure_lecture_par_jour_de_lecture'].fillna(0, inplace=True)\n",
    "\n",
    "# Convertir les heures de lecture en durée formatée (HH:MM:SS)\n",
    "df_book_updated['temps_lecture_par_jour_de_lecture_formatee(hh:mm:ss)'] = df_book_updated['heure_lecture_par_jour_de_lecture'].apply(\n",
    "    lambda x: str(timedelta(hours=x))\n",
    ")\n",
    "\n",
    "# passer temps_lecture_par_jour_de_lecture_formatee en hh:mm\n",
    "df_book_updated['temps_lecture_par_jour_de_lecture_formatee(hh:mm:ss)'] = df_book_updated['temps_lecture_par_jour_de_lecture_formatee(hh:mm:ss)'].str[:4]\n",
    "\n",
    "df_book_updated[\"total_temps_de_lecture_(hh:mm:ss)\"] = df_book_updated[\"total_temps_sur_page_seconde\"].apply(\n",
    "    lambda x: str(timedelta(seconds=x))\n",
    ")\n",
    "\n",
    "# drop les lignes ou \"nb_dates_lecture_distinctes\" est égale à 0\n",
    "df_book_updated = df_book_updated[df_book_updated['nb_dates_lecture_distinctes'] != 0]\n",
    "\n",
    "# order by \"Date dernière ouverture\"\n",
    "df_book_updated = df_book_updated.sort_values(by='Date dernière ouverture', ascending=False)\n",
    "\n",
    "# ajoute une colonne \"pourcent_lu\" : \"total Nbr de pages lues du livre\" / \"page\"\n",
    "df_book_updated['pourcent_lu'] = (df_book_updated['total Nbr de pages lues'] / df_book_updated['page'] * 100).round(0)\n",
    "\n",
    "df_book_updated[\"temps passé sur le livre en minute\"] = (df_book_updated[\"total_temps_sur_page_seconde\"] / 60).round(2)\n",
    "df_book_updated[\"temps passé sur le livre en heure\"] = (df_book_updated[\"total_temps_sur_page_seconde\"] / 3600).round(2)\n",
    "\n",
    "# rename colonnes page en page total livre\n",
    "df_book_updated.rename(columns={\n",
    "    'page': 'total Nbr de pages du livre',\n",
    "    \"total_temps_sur_page_seconde\":\"temps passé sur le livre en seconde\"\n",
    "\n",
    "    }, inplace=True)\n",
    "\n",
    "\n",
    "# diviser la colonne série en 2 : série et numéro de série, en utilisant \"#\" comme séparateur\n",
    "df_book_updated[['série', 'numéro_série']] = df_book_updated['Série'].str.split('#', expand=True)\n",
    "\n",
    "# changer le format de start_date et end_date en yyyy-mm-dd\n",
    "df_book_updated['start_date'] = df_book_updated['start_date'].dt.strftime('%Y-%m-%d')\n",
    "df_book_updated['end_date'] = df_book_updated['end_date'].dt.strftime('%Y-%m-%d')\n",
    "\n",
    "# pourcent lu en pourcentage avec 0 chiffre après la virgule\n",
    "df_book_updated['pourcent_lu'] = df_book_updated['pourcent_lu'].astype(int)\n",
    "df_book_updated['intervalle_lecture_en_jour'] = df_book_updated['intervalle_lecture_en_jour'].astype(int)\n",
    "df_book_updated['nb_dates_lecture_distinctes'] = df_book_updated['nb_dates_lecture_distinctes'].astype(int)\n",
    "\n",
    "# si pourcent_lu est supérieur à 92, le mettre à 100\n",
    "df_book_updated.loc[df_book_updated['pourcent_lu'] > 92, 'pourcent_lu'] = 100\n",
    "\n",
    "# drop colonnes\n",
    "df_book_updated.drop(columns=[\n",
    "    'total_read_time', \n",
    "    'id long',\n",
    "    \"notes\",\n",
    "    \"Série\",\n",
    "    \"format\"\n",
    "    ], inplace=True)\n",
    "\n",
    "df_book_updated[\"pages lues à la minute\"] = df_book_updated[\"total Nbr de pages lues\"] / df_book_updated[\"temps passé sur le livre en minute\"]\n",
    "\n",
    "# remettre les colonnes dans l'odre : \n",
    "\n",
    "ordered_columns = [\n",
    "    'id', 'Titre', 'Auteurs', 'Auteurs courts', 'Langue', \n",
    "    'categorie', 'série', 'numéro_série', 'oeuvre', 'First published date', \n",
    "    'Date dernière ouverture', 'total Nbr de pages du livre', 'total Nbr de pages lues',\"pages lues à la minute\", \n",
    "    'pourcent_lu', 'start_date', 'end_date', 'intervalle_lecture_en_jour', \n",
    "    'nb_dates_lecture_distinctes', 'nb_pages_lues_par_jour_de_lecture', \n",
    "    'temps passé sur le livre en seconde', 'temps passé sur le livre en minute', \n",
    "    'temps passé sur le livre en heure', 'heure_lecture_par_jour_de_lecture', \n",
    "    'minutes_lecture_par_jour_de_lecture', 'temps_lecture_par_jour_de_lecture_formatee(hh:mm:ss)', \n",
    "    'total_temps_de_lecture_(hh:mm:ss)'\n",
    "]\n",
    "\n",
    "# Réorganiser les colonnes dans le DataFrame\n",
    "df_book_updated = df_book_updated[ordered_columns]\n",
    "\n",
    "\n",
    "df_book_updated.to_parquet('df_book_updated.parquet', engine='pyarrow',index=False)\n",
    "df_book_updated.to_excel('df_book_updated.xlsx', index=False)\n",
    "\n",
    "# formatage pour STREAMLIT\n",
    "# redrop des colonnes : id, auteurs, Langue, oeuvre,\n",
    "df_book_streamlit = df_book_updated.drop(columns=[\n",
    "    'id',\n",
    "    'Auteurs',\n",
    "    'Langue',\n",
    "    'oeuvre',\n",
    "    \"temps passé sur le livre en seconde\",\n",
    "    \"temps passé sur le livre en minute\",\n",
    "    \"heure_lecture_par_jour_de_lecture\"\n",
    "    ])\n",
    "\n",
    "\n",
    "# renaming des colonnes : auteurs courts en Auteurs\n",
    "df_book_streamlit.rename(columns={\n",
    "    'Auteurs courts': 'Auteurs',\n",
    "    \"série\":\"Série\",\n",
    "    \"categorie\":\"Catégorie\",\n",
    "    \"numéro_série\":\"#\",\n",
    "    \"First published date\":\"Année publication\",\n",
    "    \"Date dernière ouverture\":\"Date de lecture\",\n",
    "    \"total Nbr de pages du livre\":\"# pages\",\n",
    "    \"total Nbr de pages lues\":\"# pages lues\",\n",
    "    \"pourcent_lu\":\"% lu\",\n",
    "    \"start_date\":\"Commencé\",\n",
    "    \"end_date\":\"Terminé\",\n",
    "    \"intervalle_lecture_en_jour\":\"Durée lecture (j)\",\n",
    "    \"nb_dates_lecture_distinctes\":\"jours de lecture effectifs (jl)\",\n",
    "    \"nb_pages_lues_par_jour_de_lecture\":\"# pages lues/jl\",\t\n",
    "    \"total_temps_de_lecture_(hh:mm:ss)\": \"Temps de lecture total (hh:mm:ss)\",\n",
    "    \"minutes_lecture_par_jour_de_lecture\":\"minutes de lecture/jl\",\n",
    "    \"temps_lecture_par_jour_de_lecture_formatee(hh:mm:ss)\": \"Temps de lecture h:m/jl\",\n",
    "    \"Temps de lecture total (hh:mm:ss)\": \"Temps de lecture total\"\n",
    "\n",
    "    }, inplace=True)\n",
    "\n",
    "\n",
    "# export en parquet sans la colonne index\n",
    "df_book_streamlit.to_parquet('df_book_streamlit.parquet', engine='pyarrow',index=False)\n",
    "# export en excel\n",
    "df_book_streamlit.to_excel('df_book_streamlit.xlsx', index=False)\n"
   ]
  },
  {
   "cell_type": "code",
   "execution_count": 34,
   "metadata": {},
   "outputs": [
    {
     "name": "stdout",
     "output_type": "stream",
     "text": [
      "<class 'pandas.core.frame.DataFrame'>\n",
      "Index: 63 entries, 63 to 0\n",
      "Data columns (total 18 columns):\n",
      " #   Column                             Non-Null Count  Dtype  \n",
      "---  ------                             --------------  -----  \n",
      " 0   Titre                              63 non-null     object \n",
      " 1   Auteurs                            63 non-null     object \n",
      " 2   Catégorie                          63 non-null     object \n",
      " 3   Série                              63 non-null     object \n",
      " 4   #                                  22 non-null     object \n",
      " 5   Année publication                  63 non-null     object \n",
      " 6   Date de lecture                    63 non-null     object \n",
      " 7   # pages                            63 non-null     int64  \n",
      " 8   # pages lues                       63 non-null     int64  \n",
      " 9   % lu                               63 non-null     int64  \n",
      " 10  Commencé                           63 non-null     object \n",
      " 11  Terminé                            63 non-null     object \n",
      " 12  Durée lecture (j)                  63 non-null     int64  \n",
      " 13  jours de lecture effectifs (jl)    63 non-null     int64  \n",
      " 14  # pages lues/jl                    63 non-null     float64\n",
      " 15  minutes de lecture/jl              63 non-null     float64\n",
      " 16  Temps de lecture h:m/jl            63 non-null     object \n",
      " 17  Temps de lecture total (hh:mm:ss)  63 non-null     object \n",
      "dtypes: float64(2), int64(5), object(11)\n",
      "memory usage: 9.4+ KB\n",
      "None\n",
      "<class 'pandas.core.frame.DataFrame'>\n",
      "Index: 63 entries, 63 to 0\n",
      "Data columns (total 26 columns):\n",
      " #   Column                                                Non-Null Count  Dtype  \n",
      "---  ------                                                --------------  -----  \n",
      " 0   id                                                    63 non-null     int64  \n",
      " 1   Titre                                                 63 non-null     object \n",
      " 2   Auteurs                                               63 non-null     object \n",
      " 3   Auteurs courts                                        63 non-null     object \n",
      " 4   Langue                                                63 non-null     object \n",
      " 5   categorie                                             63 non-null     object \n",
      " 6   série                                                 63 non-null     object \n",
      " 7   numéro_série                                          22 non-null     object \n",
      " 8   oeuvre                                                63 non-null     object \n",
      " 9   First published date                                  63 non-null     object \n",
      " 10  Date dernière ouverture                               63 non-null     object \n",
      " 11  total Nbr de pages du livre                           63 non-null     int64  \n",
      " 12  total Nbr de pages lues                               63 non-null     int64  \n",
      " 13  pourcent_lu                                           63 non-null     int64  \n",
      " 14  start_date                                            63 non-null     object \n",
      " 15  end_date                                              63 non-null     object \n",
      " 16  intervalle_lecture_en_jour                            63 non-null     int64  \n",
      " 17  nb_dates_lecture_distinctes                           63 non-null     int64  \n",
      " 18  nb_pages_lues_par_jour_de_lecture                     63 non-null     float64\n",
      " 19  temps passé sur le livre en seconde                   63 non-null     float64\n",
      " 20  temps passé sur le livre en minute                    63 non-null     float64\n",
      " 21  temps passé sur le livre en heure                     63 non-null     float64\n",
      " 22  heure_lecture_par_jour_de_lecture                     63 non-null     float64\n",
      " 23  minutes_lecture_par_jour_de_lecture                   63 non-null     float64\n",
      " 24  temps_lecture_par_jour_de_lecture_formatee(hh:mm:ss)  63 non-null     object \n",
      " 25  total_temps_de_lecture_(hh:mm:ss)                     63 non-null     object \n",
      "dtypes: float64(6), int64(6), object(14)\n",
      "memory usage: 13.3+ KB\n",
      "None\n"
     ]
    }
   ],
   "source": [
    "print(df_book_streamlit.info())\n",
    "print(df_book_updated.info())"
   ]
  },
  {
   "cell_type": "code",
   "execution_count": 7,
   "metadata": {},
   "outputs": [
    {
     "data": {
      "image/png": "[encoded data removed]",
      "text/plain": [
       "<Figure size 1200x600 with 1 Axes>"
      ]
     },
     "metadata": {},
     "output_type": "display_data"
    }
   ],
   "source": [
    "# plot avec seaborn en bar chhat le nombre de livre par categorie\n",
    "\n",
    "#TODO 1 couleur par categorie principale \"fiction\" ou \"non-fiction\"\n",
    "\n",
    "\n",
    "sns.set_theme(style=\"whitegrid\")\n",
    "plt.figure(figsize=(12, 6))\n",
    "ax = sns.countplot(y='Catégorie', data=df_book_streamlit, order=df_book_streamlit['Catégorie'].value_counts().index)\n",
    "plt.title('Nombre de livres par catégorie')\n",
    "plt.xlabel('Nombre de livres')\n",
    "plt.ylabel('Catégorie')\n",
    "plt.show()"
   ]
  },
  {
   "cell_type": "code",
   "execution_count": 28,
   "metadata": {},
   "outputs": [
    {
     "data": {
      "application/vnd.plotly.v1+json": {
       "config": {
        "plotlyServerURL": "https://plot.ly"
       },
       "data": [
        {
         "alignmentgroup": "True",
         "hovertemplate": "Nombre de livres=%{x}<br>Catégories=%{y}<extra></extra>",
         "legendgroup": "",
         "marker": {
          "color": "#636efa",
          "pattern": {
           "shape": ""
          }
         },
         "name": "",
         "offsetgroup": "",
         "orientation": "h",
         "showlegend": false,
         "textposition": "auto",
         "type": "bar",
         "x": [
          29,
          11,
          8,
          4,
          2,
          1,
          1
         ],
         "xaxis": "x",
         "y": [
          "fiction/SF",
          "fiction/fantasy",
          "fiction/fantastique",
          "non-fiction/parenting",
          "non-fiction/santé",
          "non-fiction/lifestyle",
          "non-fiction/histoire"
         ],
         "yaxis": "y"
        }
       ],
       "layout": {
        "barmode": "relative",
        "legend": {
         "tracegroupgap": 0
        },
        "template": {
         "data": {
          "bar": [
           {
            "error_x": {
             "color": "#2a3f5f"
            },
            "error_y": {
             "color": "#2a3f5f"
            },
            "marker": {
             "line": {
              "color": "#E5ECF6",
              "width": 0.5
             },
             "pattern": {
              "fillmode": "overlay",
              "size": 10,
              "solidity": 0.2
             }
            },
            "type": "bar"
           }
          ],
          "barpolar": [
           {
            "marker": {
             "line": {
              "color": "#E5ECF6",
              "width": 0.5
             },
             "pattern": {
              "fillmode": "overlay",
              "size": 10,
              "solidity": 0.2
             }
            },
            "type": "barpolar"
           }
          ],
          "carpet": [
           {
            "aaxis": {
             "endlinecolor": "#2a3f5f",
             "gridcolor": "white",
             "linecolor": "white",
             "minorgridcolor": "white",
             "startlinecolor": "#2a3f5f"
            },
            "baxis": {
             "endlinecolor": "#2a3f5f",
             "gridcolor": "white",
             "linecolor": "white",
             "minorgridcolor": "white",
             "startlinecolor": "#2a3f5f"
            },
            "type": "carpet"
           }
          ],
          "choropleth": [
           {
            "colorbar": {
             "outlinewidth": 0,
             "ticks": ""
            },
            "type": "choropleth"
           }
          ],
          "contour": [
           {
            "colorbar": {
             "outlinewidth": 0,
             "ticks": ""
            },
            "colorscale": [
             [
              0,
              "#0d0887"
             ],
             [
              0.1111111111111111,
              "#46039f"
             ],
             [
              0.2222222222222222,
              "#7201a8"
             ],
             [
              0.3333333333333333,
              "#9c179e"
             ],
             [
              0.4444444444444444,
              "#bd3786"
             ],
             [
              0.5555555555555556,
              "#d8576b"
             ],
             [
              0.6666666666666666,
              "#ed7953"
             ],
             [
              0.7777777777777778,
              "#fb9f3a"
             ],
             [
              0.8888888888888888,
              "#fdca26"
             ],
             [
              1,
              "#f0f921"
             ]
            ],
            "type": "contour"
           }
          ],
          "contourcarpet": [
           {
            "colorbar": {
             "outlinewidth": 0,
             "ticks": ""
            },
            "type": "contourcarpet"
           }
          ],
          "heatmap": [
           {
            "colorbar": {
             "outlinewidth": 0,
             "ticks": ""
            },
            "colorscale": [
             [
              0,
              "#0d0887"
             ],
             [
              0.1111111111111111,
              "#46039f"
             ],
             [
              0.2222222222222222,
              "#7201a8"
             ],
             [
              0.3333333333333333,
              "#9c179e"
             ],
             [
              0.4444444444444444,
              "#bd3786"
             ],
             [
              0.5555555555555556,
              "#d8576b"
             ],
             [
              0.6666666666666666,
              "#ed7953"
             ],
             [
              0.7777777777777778,
              "#fb9f3a"
             ],
             [
              0.8888888888888888,
              "#fdca26"
             ],
             [
              1,
              "#f0f921"
             ]
            ],
            "type": "heatmap"
           }
          ],
          "heatmapgl": [
           {
            "colorbar": {
             "outlinewidth": 0,
             "ticks": ""
            },
            "colorscale": [
             [
              0,
              "#0d0887"
             ],
             [
              0.1111111111111111,
              "#46039f"
             ],
             [
              0.2222222222222222,
              "#7201a8"
             ],
             [
              0.3333333333333333,
              "#9c179e"
             ],
             [
              0.4444444444444444,
              "#bd3786"
             ],
             [
              0.5555555555555556,
              "#d8576b"
             ],
             [
              0.6666666666666666,
              "#ed7953"
             ],
             [
              0.7777777777777778,
              "#fb9f3a"
             ],
             [
              0.8888888888888888,
              "#fdca26"
             ],
             [
              1,
              "#f0f921"
             ]
            ],
            "type": "heatmapgl"
           }
          ],
          "histogram": [
           {
            "marker": {
             "pattern": {
              "fillmode": "overlay",
              "size": 10,
              "solidity": 0.2
             }
            },
            "type": "histogram"
           }
          ],
          "histogram2d": [
           {
            "colorbar": {
             "outlinewidth": 0,
             "ticks": ""
            },
            "colorscale": [
             [
              0,
              "#0d0887"
             ],
             [
              0.1111111111111111,
              "#46039f"
             ],
             [
              0.2222222222222222,
              "#7201a8"
             ],
             [
              0.3333333333333333,
              "#9c179e"
             ],
             [
              0.4444444444444444,
              "#bd3786"
             ],
             [
              0.5555555555555556,
              "#d8576b"
             ],
             [
              0.6666666666666666,
              "#ed7953"
             ],
             [
              0.7777777777777778,
              "#fb9f3a"
             ],
             [
              0.8888888888888888,
              "#fdca26"
             ],
             [
              1,
              "#f0f921"
             ]
            ],
            "type": "histogram2d"
           }
          ],
          "histogram2dcontour": [
           {
            "colorbar": {
             "outlinewidth": 0,
             "ticks": ""
            },
            "colorscale": [
             [
              0,
              "#0d0887"
             ],
             [
              0.1111111111111111,
              "#46039f"
             ],
             [
              0.2222222222222222,
              "#7201a8"
             ],
             [
              0.3333333333333333,
              "#9c179e"
             ],
             [
              0.4444444444444444,
              "#bd3786"
             ],
             [
              0.5555555555555556,
              "#d8576b"
             ],
             [
              0.6666666666666666,
              "#ed7953"
             ],
             [
              0.7777777777777778,
              "#fb9f3a"
             ],
             [
              0.8888888888888888,
              "#fdca26"
             ],
             [
              1,
              "#f0f921"
             ]
            ],
            "type": "histogram2dcontour"
           }
          ],
          "mesh3d": [
           {
            "colorbar": {
             "outlinewidth": 0,
             "ticks": ""
            },
            "type": "mesh3d"
           }
          ],
          "parcoords": [
           {
            "line": {
             "colorbar": {
              "outlinewidth": 0,
              "ticks": ""
             }
            },
            "type": "parcoords"
           }
          ],
          "pie": [
           {
            "automargin": true,
            "type": "pie"
           }
          ],
          "scatter": [
           {
            "fillpattern": {
             "fillmode": "overlay",
             "size": 10,
             "solidity": 0.2
            },
            "type": "scatter"
           }
          ],
          "scatter3d": [
           {
            "line": {
             "colorbar": {
              "outlinewidth": 0,
              "ticks": ""
             }
            },
            "marker": {
             "colorbar": {
              "outlinewidth": 0,
              "ticks": ""
             }
            },
            "type": "scatter3d"
           }
          ],
          "scattercarpet": [
           {
            "marker": {
             "colorbar": {
              "outlinewidth": 0,
              "ticks": ""
             }
            },
            "type": "scattercarpet"
           }
          ],
          "scattergeo": [
           {
            "marker": {
             "colorbar": {
              "outlinewidth": 0,
              "ticks": ""
             }
            },
            "type": "scattergeo"
           }
          ],
          "scattergl": [
           {
            "marker": {
             "colorbar": {
              "outlinewidth": 0,
              "ticks": ""
             }
            },
            "type": "scattergl"
           }
          ],
          "scattermapbox": [
           {
            "marker": {
             "colorbar": {
              "outlinewidth": 0,
              "ticks": ""
             }
            },
            "type": "scattermapbox"
           }
          ],
          "scatterpolar": [
           {
            "marker": {
             "colorbar": {
              "outlinewidth": 0,
              "ticks": ""
             }
            },
            "type": "scatterpolar"
           }
          ],
          "scatterpolargl": [
           {
            "marker": {
             "colorbar": {
              "outlinewidth": 0,
              "ticks": ""
             }
            },
            "type": "scatterpolargl"
           }
          ],
          "scatterternary": [
           {
            "marker": {
             "colorbar": {
              "outlinewidth": 0,
              "ticks": ""
             }
            },
            "type": "scatterternary"
           }
          ],
          "surface": [
           {
            "colorbar": {
             "outlinewidth": 0,
             "ticks": ""
            },
            "colorscale": [
             [
              0,
              "#0d0887"
             ],
             [
              0.1111111111111111,
              "#46039f"
             ],
             [
              0.2222222222222222,
              "#7201a8"
             ],
             [
              0.3333333333333333,
              "#9c179e"
             ],
             [
              0.4444444444444444,
              "#bd3786"
             ],
             [
              0.5555555555555556,
              "#d8576b"
             ],
             [
              0.6666666666666666,
              "#ed7953"
             ],
             [
              0.7777777777777778,
              "#fb9f3a"
             ],
             [
              0.8888888888888888,
              "#fdca26"
             ],
             [
              1,
              "#f0f921"
             ]
            ],
            "type": "surface"
           }
          ],
          "table": [
           {
            "cells": {
             "fill": {
              "color": "#EBF0F8"
             },
             "line": {
              "color": "white"
             }
            },
            "header": {
             "fill": {
              "color": "#C8D4E3"
             },
             "line": {
              "color": "white"
             }
            },
            "type": "table"
           }
          ]
         },
         "layout": {
          "annotationdefaults": {
           "arrowcolor": "#2a3f5f",
           "arrowhead": 0,
           "arrowwidth": 1
          },
          "autotypenumbers": "strict",
          "coloraxis": {
           "colorbar": {
            "outlinewidth": 0,
            "ticks": ""
           }
          },
          "colorscale": {
           "diverging": [
            [
             0,
             "#8e0152"
            ],
            [
             0.1,
             "#c51b7d"
            ],
            [
             0.2,
             "#de77ae"
            ],
            [
             0.3,
             "#f1b6da"
            ],
            [
             0.4,
             "#fde0ef"
            ],
            [
             0.5,
             "#f7f7f7"
            ],
            [
             0.6,
             "#e6f5d0"
            ],
            [
             0.7,
             "#b8e186"
            ],
            [
             0.8,
             "#7fbc41"
            ],
            [
             0.9,
             "#4d9221"
            ],
            [
             1,
             "#276419"
            ]
           ],
           "sequential": [
            [
             0,
             "#0d0887"
            ],
            [
             0.1111111111111111,
             "#46039f"
            ],
            [
             0.2222222222222222,
             "#7201a8"
            ],
            [
             0.3333333333333333,
             "#9c179e"
            ],
            [
             0.4444444444444444,
             "#bd3786"
            ],
            [
             0.5555555555555556,
             "#d8576b"
            ],
            [
             0.6666666666666666,
             "#ed7953"
            ],
            [
             0.7777777777777778,
             "#fb9f3a"
            ],
            [
             0.8888888888888888,
             "#fdca26"
            ],
            [
             1,
             "#f0f921"
            ]
           ],
           "sequentialminus": [
            [
             0,
             "#0d0887"
            ],
            [
             0.1111111111111111,
             "#46039f"
            ],
            [
             0.2222222222222222,
             "#7201a8"
            ],
            [
             0.3333333333333333,
             "#9c179e"
            ],
            [
             0.4444444444444444,
             "#bd3786"
            ],
            [
             0.5555555555555556,
             "#d8576b"
            ],
            [
             0.6666666666666666,
             "#ed7953"
            ],
            [
             0.7777777777777778,
             "#fb9f3a"
            ],
            [
             0.8888888888888888,
             "#fdca26"
            ],
            [
             1,
             "#f0f921"
            ]
           ]
          },
          "colorway": [
           "#636efa",
           "#EF553B",
           "#00cc96",
           "#ab63fa",
           "#FFA15A",
           "#19d3f3",
           "#FF6692",
           "#B6E880",
           "#FF97FF",
           "#FECB52"
          ],
          "font": {
           "color": "#2a3f5f"
          },
          "geo": {
           "bgcolor": "white",
           "lakecolor": "white",
           "landcolor": "#E5ECF6",
           "showlakes": true,
           "showland": true,
           "subunitcolor": "white"
          },
          "hoverlabel": {
           "align": "left"
          },
          "hovermode": "closest",
          "mapbox": {
           "style": "light"
          },
          "paper_bgcolor": "white",
          "plot_bgcolor": "#E5ECF6",
          "polar": {
           "angularaxis": {
            "gridcolor": "white",
            "linecolor": "white",
            "ticks": ""
           },
           "bgcolor": "#E5ECF6",
           "radialaxis": {
            "gridcolor": "white",
            "linecolor": "white",
            "ticks": ""
           }
          },
          "scene": {
           "xaxis": {
            "backgroundcolor": "#E5ECF6",
            "gridcolor": "white",
            "gridwidth": 2,
            "linecolor": "white",
            "showbackground": true,
            "ticks": "",
            "zerolinecolor": "white"
           },
           "yaxis": {
            "backgroundcolor": "#E5ECF6",
            "gridcolor": "white",
            "gridwidth": 2,
            "linecolor": "white",
            "showbackground": true,
            "ticks": "",
            "zerolinecolor": "white"
           },
           "zaxis": {
            "backgroundcolor": "#E5ECF6",
            "gridcolor": "white",
            "gridwidth": 2,
            "linecolor": "white",
            "showbackground": true,
            "ticks": "",
            "zerolinecolor": "white"
           }
          },
          "shapedefaults": {
           "line": {
            "color": "#2a3f5f"
           }
          },
          "ternary": {
           "aaxis": {
            "gridcolor": "white",
            "linecolor": "white",
            "ticks": ""
           },
           "baxis": {
            "gridcolor": "white",
            "linecolor": "white",
            "ticks": ""
           },
           "bgcolor": "#E5ECF6",
           "caxis": {
            "gridcolor": "white",
            "linecolor": "white",
            "ticks": ""
           }
          },
          "title": {
           "x": 0.05
          },
          "xaxis": {
           "automargin": true,
           "gridcolor": "white",
           "linecolor": "white",
           "ticks": "",
           "title": {
            "standoff": 15
           },
           "zerolinecolor": "white",
           "zerolinewidth": 2
          },
          "yaxis": {
           "automargin": true,
           "gridcolor": "white",
           "linecolor": "white",
           "ticks": "",
           "title": {
            "standoff": 15
           },
           "zerolinecolor": "white",
           "zerolinewidth": 2
          }
         }
        },
        "title": {
         "text": "Nombre de livres par catégorie"
        },
        "xaxis": {
         "anchor": "y",
         "domain": [
          0,
          1
         ],
         "title": {
          "text": "Nombre de livres"
         }
        },
        "yaxis": {
         "anchor": "x",
         "domain": [
          0,
          1
         ],
         "title": {
          "text": "Catégories"
         }
        }
       }
      }
     },
     "metadata": {},
     "output_type": "display_data"
    }
   ],
   "source": [
    "# Calculer le nombre de livres par catégorie\n",
    "category_counts = df_book_streamlit['Catégorie'].value_counts().reset_index()\n",
    "category_counts.columns = ['Catégorie', 'nombre de livre']\n",
    "\n",
    "# Créer un graphique à barres horizontal\n",
    "fig = px.bar(category_counts,\n",
    "             x='nombre de livre', \n",
    "             y='Catégorie',\n",
    "             orientation='h',  # 'h' indique un bar chart horizontal\n",
    "             title='Nombre de livres par catégorie',\n",
    "             labels={'nombre de livre': 'Nombre de livres', 'Catégorie': 'Catégories'})\n",
    "\n",
    "# Afficher le graphique\n",
    "fig.show()"
   ]
  },
  {
   "cell_type": "markdown",
   "metadata": {},
   "source": [
    "# visuel 2\n",
    "heatmap heure de lecture et calendrier\n",
    "https://plotly.com/python/heatmaps/\n",
    "A retravailler mais on est pas loin"
   ]
  },
  {
   "cell_type": "code",
   "execution_count": 47,
   "metadata": {},
   "outputs": [
    {
     "data": {
      "application/vnd.plotly.v1+json": {
       "config": {
        "plotlyServerURL": "https://plot.ly"
       },
       "data": [
        {
         "coloraxis": "coloraxis",
         "hovertemplate": "Jour d'octobre: %{x}<br>Heure: %{y}<br>Pages lues: %{z}<extra></extra>",
         "name": "0",
         "type": "heatmap",
         "x": [
          1,
          2,
          3,
          4,
          6,
          7,
          8,
          9,
          10,
          12,
          13,
          14,
          15,
          16,
          18,
          19,
          21,
          22,
          23,
          24,
          25,
          26,
          27,
          31
         ],
         "xaxis": "x",
         "y": [
          0,
          6,
          7,
          8,
          10,
          11,
          12,
          13,
          15,
          17,
          18,
          19,
          20,
          21,
          22,
          23
         ],
         "yaxis": "y",
         "z": [
          [
           0,
           0,
           0,
           0,
           0,
           0,
           0,
           0,
           0,
           0,
           0,
           0,
           0,
           2187,
           3496,
           0,
           0,
           0,
           1706,
           0,
           0,
           0,
           8385,
           0
          ],
          [
           3294,
           0,
           0,
           1027,
           0,
           1683,
           0,
           0,
           0,
           0,
           0,
           0,
           579,
           1654,
           0,
           0,
           0,
           0,
           0,
           0,
           1740,
           0,
           0,
           0
          ],
          [
           5991,
           0,
           22884,
           0,
           0,
           1780,
           0,
           0,
           471,
           0,
           0,
           0,
           0,
           0,
           0,
           0,
           0,
           0,
           0,
           0,
           0,
           0,
           0,
           0
          ],
          [
           0,
           0,
           0,
           0,
           0,
           0,
           0,
           0,
           0,
           0,
           0,
           0,
           0,
           0,
           0,
           0,
           0,
           0,
           0,
           0,
           0,
           0,
           0,
           446
          ],
          [
           0,
           0,
           0,
           0,
           0,
           0,
           7110,
           0,
           0,
           0,
           0,
           0,
           0,
           0,
           0,
           0,
           0,
           0,
           0,
           0,
           0,
           0,
           0,
           1183
          ],
          [
           0,
           0,
           0,
           0,
           0,
           0,
           1257,
           0,
           0,
           0,
           1321,
           0,
           0,
           0,
           0,
           0,
           0,
           0,
           0,
           0,
           0,
           0,
           0,
           59
          ],
          [
           0,
           0,
           0,
           0,
           0,
           0,
           0,
           0,
           0,
           0,
           617,
           0,
           0,
           0,
           0,
           0,
           0,
           0,
           0,
           0,
           0,
           0,
           0,
           0
          ],
          [
           0,
           0,
           0,
           0,
           0,
           0,
           0,
           0,
           0,
           0,
           0,
           0,
           0,
           0,
           0,
           0,
           0,
           0,
           0,
           0,
           0,
           0,
           5404,
           0
          ],
          [
           0,
           0,
           740,
           0,
           0,
           2590,
           0,
           0,
           0,
           0,
           0,
           0,
           0,
           0,
           0,
           0,
           0,
           0,
           0,
           0,
           0,
           0,
           0,
           0
          ],
          [
           284,
           0,
           0,
           0,
           0,
           0,
           0,
           0,
           0,
           0,
           0,
           0,
           0,
           0,
           0,
           0,
           0,
           0,
           0,
           0,
           0,
           0,
           0,
           0
          ],
          [
           5273,
           0,
           0,
           0,
           133,
           0,
           239,
           0,
           0,
           0,
           0,
           3116,
           193,
           0,
           0,
           0,
           0,
           0,
           0,
           0,
           0,
           0,
           0,
           0
          ],
          [
           0,
           0,
           0,
           0,
           68,
           0,
           0,
           444,
           0,
           0,
           0,
           8558,
           193,
           0,
           0,
           0,
           0,
           425,
           0,
           0,
           0,
           0,
           0,
           0
          ],
          [
           0,
           32239,
           0,
           0,
           1306,
           0,
           0,
           0,
           0,
           0,
           0,
           0,
           0,
           0,
           0,
           239,
           7587,
           0,
           0,
           0,
           0,
           0,
           0,
           0
          ],
          [
           0,
           18533,
           0,
           0,
           0,
           855,
           0,
           0,
           0,
           496,
           0,
           0,
           0,
           0,
           0,
           17098,
           29471,
           0,
           6248,
           0,
           0,
           0,
           0,
           0
          ],
          [
           4968,
           0,
           98,
           0,
           0,
           3780,
           242,
           609,
           0,
           605,
           3038,
           0,
           0,
           0,
           0,
           0,
           6670,
           0,
           871,
           2489,
           8484,
           0,
           63,
           0
          ],
          [
           0,
           0,
           0,
           872,
           0,
           0,
           0,
           0,
           357,
           0,
           0,
           0,
           194,
           0,
           3006,
           0,
           0,
           0,
           0,
           2208,
           0,
           3164,
           0,
           0
          ]
         ]
        }
       ],
       "layout": {
        "coloraxis": {
         "colorbar": {
          "title": {
           "text": "Pages lues"
          }
         },
         "colorscale": [
          [
           0,
           "#440154"
          ],
          [
           0.1111111111111111,
           "#482878"
          ],
          [
           0.2222222222222222,
           "#3e4989"
          ],
          [
           0.3333333333333333,
           "#31688e"
          ],
          [
           0.4444444444444444,
           "#26828e"
          ],
          [
           0.5555555555555556,
           "#1f9e89"
          ],
          [
           0.6666666666666666,
           "#35b779"
          ],
          [
           0.7777777777777778,
           "#6ece58"
          ],
          [
           0.8888888888888888,
           "#b5de2b"
          ],
          [
           1,
           "#fde725"
          ]
         ]
        },
        "font": {
         "size": 14
        },
        "height": 800,
        "template": {
         "data": {
          "bar": [
           {
            "error_x": {
             "color": "#2a3f5f"
            },
            "error_y": {
             "color": "#2a3f5f"
            },
            "marker": {
             "line": {
              "color": "#E5ECF6",
              "width": 0.5
             },
             "pattern": {
              "fillmode": "overlay",
              "size": 10,
              "solidity": 0.2
             }
            },
            "type": "bar"
           }
          ],
          "barpolar": [
           {
            "marker": {
             "line": {
              "color": "#E5ECF6",
              "width": 0.5
             },
             "pattern": {
              "fillmode": "overlay",
              "size": 10,
              "solidity": 0.2
             }
            },
            "type": "barpolar"
           }
          ],
          "carpet": [
           {
            "aaxis": {
             "endlinecolor": "#2a3f5f",
             "gridcolor": "white",
             "linecolor": "white",
             "minorgridcolor": "white",
             "startlinecolor": "#2a3f5f"
            },
            "baxis": {
             "endlinecolor": "#2a3f5f",
             "gridcolor": "white",
             "linecolor": "white",
             "minorgridcolor": "white",
             "startlinecolor": "#2a3f5f"
            },
            "type": "carpet"
           }
          ],
          "choropleth": [
           {
            "colorbar": {
             "outlinewidth": 0,
             "ticks": ""
            },
            "type": "choropleth"
           }
          ],
          "contour": [
           {
            "colorbar": {
             "outlinewidth": 0,
             "ticks": ""
            },
            "colorscale": [
             [
              0,
              "#0d0887"
             ],
             [
              0.1111111111111111,
              "#46039f"
             ],
             [
              0.2222222222222222,
              "#7201a8"
             ],
             [
              0.3333333333333333,
              "#9c179e"
             ],
             [
              0.4444444444444444,
              "#bd3786"
             ],
             [
              0.5555555555555556,
              "#d8576b"
             ],
             [
              0.6666666666666666,
              "#ed7953"
             ],
             [
              0.7777777777777778,
              "#fb9f3a"
             ],
             [
              0.8888888888888888,
              "#fdca26"
             ],
             [
              1,
              "#f0f921"
             ]
            ],
            "type": "contour"
           }
          ],
          "contourcarpet": [
           {
            "colorbar": {
             "outlinewidth": 0,
             "ticks": ""
            },
            "type": "contourcarpet"
           }
          ],
          "heatmap": [
           {
            "colorbar": {
             "outlinewidth": 0,
             "ticks": ""
            },
            "colorscale": [
             [
              0,
              "#0d0887"
             ],
             [
              0.1111111111111111,
              "#46039f"
             ],
             [
              0.2222222222222222,
              "#7201a8"
             ],
             [
              0.3333333333333333,
              "#9c179e"
             ],
             [
              0.4444444444444444,
              "#bd3786"
             ],
             [
              0.5555555555555556,
              "#d8576b"
             ],
             [
              0.6666666666666666,
              "#ed7953"
             ],
             [
              0.7777777777777778,
              "#fb9f3a"
             ],
             [
              0.8888888888888888,
              "#fdca26"
             ],
             [
              1,
              "#f0f921"
             ]
            ],
            "type": "heatmap"
           }
          ],
          "heatmapgl": [
           {
            "colorbar": {
             "outlinewidth": 0,
             "ticks": ""
            },
            "colorscale": [
             [
              0,
              "#0d0887"
             ],
             [
              0.1111111111111111,
              "#46039f"
             ],
             [
              0.2222222222222222,
              "#7201a8"
             ],
             [
              0.3333333333333333,
              "#9c179e"
             ],
             [
              0.4444444444444444,
              "#bd3786"
             ],
             [
              0.5555555555555556,
              "#d8576b"
             ],
             [
              0.6666666666666666,
              "#ed7953"
             ],
             [
              0.7777777777777778,
              "#fb9f3a"
             ],
             [
              0.8888888888888888,
              "#fdca26"
             ],
             [
              1,
              "#f0f921"
             ]
            ],
            "type": "heatmapgl"
           }
          ],
          "histogram": [
           {
            "marker": {
             "pattern": {
              "fillmode": "overlay",
              "size": 10,
              "solidity": 0.2
             }
            },
            "type": "histogram"
           }
          ],
          "histogram2d": [
           {
            "colorbar": {
             "outlinewidth": 0,
             "ticks": ""
            },
            "colorscale": [
             [
              0,
              "#0d0887"
             ],
             [
              0.1111111111111111,
              "#46039f"
             ],
             [
              0.2222222222222222,
              "#7201a8"
             ],
             [
              0.3333333333333333,
              "#9c179e"
             ],
             [
              0.4444444444444444,
              "#bd3786"
             ],
             [
              0.5555555555555556,
              "#d8576b"
             ],
             [
              0.6666666666666666,
              "#ed7953"
             ],
             [
              0.7777777777777778,
              "#fb9f3a"
             ],
             [
              0.8888888888888888,
              "#fdca26"
             ],
             [
              1,
              "#f0f921"
             ]
            ],
            "type": "histogram2d"
           }
          ],
          "histogram2dcontour": [
           {
            "colorbar": {
             "outlinewidth": 0,
             "ticks": ""
            },
            "colorscale": [
             [
              0,
              "#0d0887"
             ],
             [
              0.1111111111111111,
              "#46039f"
             ],
             [
              0.2222222222222222,
              "#7201a8"
             ],
             [
              0.3333333333333333,
              "#9c179e"
             ],
             [
              0.4444444444444444,
              "#bd3786"
             ],
             [
              0.5555555555555556,
              "#d8576b"
             ],
             [
              0.6666666666666666,
              "#ed7953"
             ],
             [
              0.7777777777777778,
              "#fb9f3a"
             ],
             [
              0.8888888888888888,
              "#fdca26"
             ],
             [
              1,
              "#f0f921"
             ]
            ],
            "type": "histogram2dcontour"
           }
          ],
          "mesh3d": [
           {
            "colorbar": {
             "outlinewidth": 0,
             "ticks": ""
            },
            "type": "mesh3d"
           }
          ],
          "parcoords": [
           {
            "line": {
             "colorbar": {
              "outlinewidth": 0,
              "ticks": ""
             }
            },
            "type": "parcoords"
           }
          ],
          "pie": [
           {
            "automargin": true,
            "type": "pie"
           }
          ],
          "scatter": [
           {
            "fillpattern": {
             "fillmode": "overlay",
             "size": 10,
             "solidity": 0.2
            },
            "type": "scatter"
           }
          ],
          "scatter3d": [
           {
            "line": {
             "colorbar": {
              "outlinewidth": 0,
              "ticks": ""
             }
            },
            "marker": {
             "colorbar": {
              "outlinewidth": 0,
              "ticks": ""
             }
            },
            "type": "scatter3d"
           }
          ],
          "scattercarpet": [
           {
            "marker": {
             "colorbar": {
              "outlinewidth": 0,
              "ticks": ""
             }
            },
            "type": "scattercarpet"
           }
          ],
          "scattergeo": [
           {
            "marker": {
             "colorbar": {
              "outlinewidth": 0,
              "ticks": ""
             }
            },
            "type": "scattergeo"
           }
          ],
          "scattergl": [
           {
            "marker": {
             "colorbar": {
              "outlinewidth": 0,
              "ticks": ""
             }
            },
            "type": "scattergl"
           }
          ],
          "scattermapbox": [
           {
            "marker": {
             "colorbar": {
              "outlinewidth": 0,
              "ticks": ""
             }
            },
            "type": "scattermapbox"
           }
          ],
          "scatterpolar": [
           {
            "marker": {
             "colorbar": {
              "outlinewidth": 0,
              "ticks": ""
             }
            },
            "type": "scatterpolar"
           }
          ],
          "scatterpolargl": [
           {
            "marker": {
             "colorbar": {
              "outlinewidth": 0,
              "ticks": ""
             }
            },
            "type": "scatterpolargl"
           }
          ],
          "scatterternary": [
           {
            "marker": {
             "colorbar": {
              "outlinewidth": 0,
              "ticks": ""
             }
            },
            "type": "scatterternary"
           }
          ],
          "surface": [
           {
            "colorbar": {
             "outlinewidth": 0,
             "ticks": ""
            },
            "colorscale": [
             [
              0,
              "#0d0887"
             ],
             [
              0.1111111111111111,
              "#46039f"
             ],
             [
              0.2222222222222222,
              "#7201a8"
             ],
             [
              0.3333333333333333,
              "#9c179e"
             ],
             [
              0.4444444444444444,
              "#bd3786"
             ],
             [
              0.5555555555555556,
              "#d8576b"
             ],
             [
              0.6666666666666666,
              "#ed7953"
             ],
             [
              0.7777777777777778,
              "#fb9f3a"
             ],
             [
              0.8888888888888888,
              "#fdca26"
             ],
             [
              1,
              "#f0f921"
             ]
            ],
            "type": "surface"
           }
          ],
          "table": [
           {
            "cells": {
             "fill": {
              "color": "#EBF0F8"
             },
             "line": {
              "color": "white"
             }
            },
            "header": {
             "fill": {
              "color": "#C8D4E3"
             },
             "line": {
              "color": "white"
             }
            },
            "type": "table"
           }
          ]
         },
         "layout": {
          "annotationdefaults": {
           "arrowcolor": "#2a3f5f",
           "arrowhead": 0,
           "arrowwidth": 1
          },
          "autotypenumbers": "strict",
          "coloraxis": {
           "colorbar": {
            "outlinewidth": 0,
            "ticks": ""
           }
          },
          "colorscale": {
           "diverging": [
            [
             0,
             "#8e0152"
            ],
            [
             0.1,
             "#c51b7d"
            ],
            [
             0.2,
             "#de77ae"
            ],
            [
             0.3,
             "#f1b6da"
            ],
            [
             0.4,
             "#fde0ef"
            ],
            [
             0.5,
             "#f7f7f7"
            ],
            [
             0.6,
             "#e6f5d0"
            ],
            [
             0.7,
             "#b8e186"
            ],
            [
             0.8,
             "#7fbc41"
            ],
            [
             0.9,
             "#4d9221"
            ],
            [
             1,
             "#276419"
            ]
           ],
           "sequential": [
            [
             0,
             "#0d0887"
            ],
            [
             0.1111111111111111,
             "#46039f"
            ],
            [
             0.2222222222222222,
             "#7201a8"
            ],
            [
             0.3333333333333333,
             "#9c179e"
            ],
            [
             0.4444444444444444,
             "#bd3786"
            ],
            [
             0.5555555555555556,
             "#d8576b"
            ],
            [
             0.6666666666666666,
             "#ed7953"
            ],
            [
             0.7777777777777778,
             "#fb9f3a"
            ],
            [
             0.8888888888888888,
             "#fdca26"
            ],
            [
             1,
             "#f0f921"
            ]
           ],
           "sequentialminus": [
            [
             0,
             "#0d0887"
            ],
            [
             0.1111111111111111,
             "#46039f"
            ],
            [
             0.2222222222222222,
             "#7201a8"
            ],
            [
             0.3333333333333333,
             "#9c179e"
            ],
            [
             0.4444444444444444,
             "#bd3786"
            ],
            [
             0.5555555555555556,
             "#d8576b"
            ],
            [
             0.6666666666666666,
             "#ed7953"
            ],
            [
             0.7777777777777778,
             "#fb9f3a"
            ],
            [
             0.8888888888888888,
             "#fdca26"
            ],
            [
             1,
             "#f0f921"
            ]
           ]
          },
          "colorway": [
           "#636efa",
           "#EF553B",
           "#00cc96",
           "#ab63fa",
           "#FFA15A",
           "#19d3f3",
           "#FF6692",
           "#B6E880",
           "#FF97FF",
           "#FECB52"
          ],
          "font": {
           "color": "#2a3f5f"
          },
          "geo": {
           "bgcolor": "white",
           "lakecolor": "white",
           "landcolor": "#E5ECF6",
           "showlakes": true,
           "showland": true,
           "subunitcolor": "white"
          },
          "hoverlabel": {
           "align": "left"
          },
          "hovermode": "closest",
          "mapbox": {
           "style": "light"
          },
          "paper_bgcolor": "white",
          "plot_bgcolor": "#E5ECF6",
          "polar": {
           "angularaxis": {
            "gridcolor": "white",
            "linecolor": "white",
            "ticks": ""
           },
           "bgcolor": "#E5ECF6",
           "radialaxis": {
            "gridcolor": "white",
            "linecolor": "white",
            "ticks": ""
           }
          },
          "scene": {
           "xaxis": {
            "backgroundcolor": "#E5ECF6",
            "gridcolor": "white",
            "gridwidth": 2,
            "linecolor": "white",
            "showbackground": true,
            "ticks": "",
            "zerolinecolor": "white"
           },
           "yaxis": {
            "backgroundcolor": "#E5ECF6",
            "gridcolor": "white",
            "gridwidth": 2,
            "linecolor": "white",
            "showbackground": true,
            "ticks": "",
            "zerolinecolor": "white"
           },
           "zaxis": {
            "backgroundcolor": "#E5ECF6",
            "gridcolor": "white",
            "gridwidth": 2,
            "linecolor": "white",
            "showbackground": true,
            "ticks": "",
            "zerolinecolor": "white"
           }
          },
          "shapedefaults": {
           "line": {
            "color": "#2a3f5f"
           }
          },
          "ternary": {
           "aaxis": {
            "gridcolor": "white",
            "linecolor": "white",
            "ticks": ""
           },
           "baxis": {
            "gridcolor": "white",
            "linecolor": "white",
            "ticks": ""
           },
           "bgcolor": "#E5ECF6",
           "caxis": {
            "gridcolor": "white",
            "linecolor": "white",
            "ticks": ""
           }
          },
          "title": {
           "x": 0.05
          },
          "xaxis": {
           "automargin": true,
           "gridcolor": "white",
           "linecolor": "white",
           "ticks": "",
           "title": {
            "standoff": 15
           },
           "zerolinecolor": "white",
           "zerolinewidth": 2
          },
          "yaxis": {
           "automargin": true,
           "gridcolor": "white",
           "linecolor": "white",
           "ticks": "",
           "title": {
            "standoff": 15
           },
           "zerolinecolor": "white",
           "zerolinewidth": 2
          }
         }
        },
        "title": {
         "text": "Heatmap des pages lues par heure et par jour en octobre 2024",
         "x": 0.5
        },
        "width": 1200,
        "xaxis": {
         "anchor": "y",
         "constrain": "domain",
         "domain": [
          0,
          1
         ],
         "scaleanchor": "y",
         "title": {
          "text": "Jour d'octobre"
         }
        },
        "yaxis": {
         "anchor": "x",
         "autorange": "reversed",
         "constrain": "domain",
         "domain": [
          0,
          1
         ],
         "title": {
          "text": "Heure"
         }
        }
       }
      }
     },
     "metadata": {},
     "output_type": "display_data"
    }
   ],
   "source": [
    "# Convertir la colonne 'date lecture' en datetime\n",
    "df_stat['date lecture'] = pd.to_datetime(df_stat['date lecture'], format='%Y-%m-%d')\n",
    "\n",
    "# Filtrer les données pour le mois d'octobre 2024\n",
    "df_stat_octobre_2024 = df_stat[(df_stat['date lecture'].dt.year == 2024) & (df_stat['date lecture'].dt.month == 10)]\n",
    "\n",
    "# Assurer que la colonne Heure est en forme entière si ce n'est pas le cas\n",
    "if 'Heure' not in df_stat_octobre_2024.columns:\n",
    "    df_stat_octobre_2024['Heure'] = df_stat_octobre_2024['heure de début'].apply(lambda x: pd.to_datetime(x).hour)\n",
    "\n",
    "# Agréger le nombre de pages lues par jour et par heure\n",
    "agg_data = df_stat_octobre_2024.groupby([df_stat_octobre_2024['date lecture'].dt.day, 'Heure'])['page'].sum().reset_index()\n",
    "\n",
    "# Renommer les colonnes pour plus de clarté\n",
    "agg_data.columns = ['Jour', 'Heure', 'Pages lues']\n",
    "\n",
    "# Créer une table pivot pour la heatmap\n",
    "pivot_table = agg_data.pivot(index='Heure', columns='Jour', values='Pages lues').fillna(0)\n",
    "\n",
    "# Trier l'axe y de la heatmap du plus petit au plus grand\n",
    "pivot_table = pivot_table.sort_index(ascending=True)\n",
    "\n",
    "# Créer la heatmap avec Plotly\n",
    "fig = px.imshow(pivot_table,\n",
    "                labels=dict(x='Jour d\\'octobre', y='Heure', color='Pages lues'),\n",
    "                x=list(pivot_table.columns),\n",
    "                y=list(pivot_table.index),\n",
    "                color_continuous_scale='Viridis',\n",
    "                title='Heatmap des pages lues par heure et par jour en octobre 2024',\n",
    "                width=1200,  # Largeur de la heatmap\n",
    "                height=800  # Hauteur de la heatmap\n",
    "               )\n",
    "\n",
    "# Personnalisation de l'apparence de la heatmap\n",
    "fig.update_layout(\n",
    "    xaxis_title='Jour d\\'octobre',\n",
    "    yaxis_title='Heure',\n",
    "    title_x=0.5,\n",
    "    font=dict(size=14),\n",
    "    yaxis=dict(\n",
    "        autorange=\"reversed\"  # Inverser l'ordre des valeurs de l'axe y\n",
    "    )\n",
    ")\n",
    "\n",
    "# Afficher la heatmap\n",
    "fig.show()"
   ]
  },
  {
   "cell_type": "markdown",
   "metadata": {},
   "source": [
    "# 3 score card\n",
    "* plus longue lecture : heure de lecture max\n",
    "* le plus régulier : jour de lecture = intervalle de lecture\n",
    "* plus rapide : page lues à la minute\n",
    "* plus addictif : pages lues par jour"
   ]
  },
  {
   "cell_type": "markdown",
   "metadata": {},
   "source": [
    "## plus longue lecture"
   ]
  },
  {
   "cell_type": "code",
   "execution_count": 48,
   "metadata": {},
   "outputs": [
    {
     "name": "stdout",
     "output_type": "stream",
     "text": [
      "Livre le plus long à lire : La Chute d'Hypérion: Le cycle d'Hypérion - Tome 2 de Dan Simmons : 13.3\n"
     ]
    }
   ],
   "source": [
    "# le temps de lecture max\n",
    "temps_maxi = df_book_streamlit[df_book_streamlit[\"temps passé sur le livre en heure\"] == df_book_streamlit[\"temps passé sur le livre en heure\"].max()]\n",
    "\n",
    "# prisme livre\n",
    "titre_max_temps_lecture = df_book_streamlit[df_book_streamlit[\"temps passé sur le livre en heure\"] == df_book_streamlit[\"temps passé sur le livre en heure\"].max()][\"Titre\"].values[0]\n",
    "auteur_max_temps_lecture = df_book_streamlit[df_book_streamlit[\"temps passé sur le livre en heure\"] == df_book_streamlit[\"temps passé sur le livre en heure\"].max()][\"Auteurs\"].values[0]\n",
    "temps_max_lecture = df_book_streamlit[\"temps passé sur le livre en heure\"].max()\n",
    "\n",
    "\n",
    "print(f\"Livre le plus long à lire : {titre_max_temps_lecture} de {auteur_max_temps_lecture} : {temps_max_lecture}\")\n"
   ]
  },
  {
   "cell_type": "markdown",
   "metadata": {},
   "source": [
    "## plus régulier\n",
    "Trop de livre dans cette liste"
   ]
  },
  {
   "cell_type": "code",
   "execution_count": 50,
   "metadata": {},
   "outputs": [
    {
     "name": "stdout",
     "output_type": "stream",
     "text": [
      "27 livres lus tous les jours, les 3 derniers : [\"Projet secret T2 : Manuel de Survie du Sorcier Frugal dans l'Angleterre médiévale\"\n",
      " 'Voyageur 2 : Libration'\n",
      " \"Blackwater 1 - La crue: L'épique saga de la famille Caskey\"]\n"
     ]
    }
   ],
   "source": [
    "# Afficher les livres ou la durée de lecture est égale à la durée de lecture effective\n",
    "# df_book_streamlit[df_book_streamlit[\"jours de lecture effectifs (jl)\"] == df_book_streamlit[\"Durée lecture (j)\"]][[\"Titre\", \"Durée lecture (j)\", \"jours de lecture effectifs (jl)\"]]\n",
    "\n",
    "# Compter le nombre de lignes où \"jours de lecture effectifs (jl)\" est égal à \"Durée lecture (j)\"\n",
    "count = df_book_streamlit[df_book_streamlit[\"jours de lecture effectifs (jl)\"] == df_book_streamlit[\"Durée lecture (j)\"]].shape[0]\n",
    "\n",
    "# affiche le dernier, puis l'avant dernier, puis l'avant avant dernier\n",
    "df_book_streamlit[df_book_streamlit[\"jours de lecture effectifs (jl)\"] == df_book_streamlit[\"Durée lecture (j)\"]].sort_values(by=\"Date de lecture\", ascending\n",
    "=False).head(3)[[\"Titre\", \"Durée lecture (j)\", \"jours de lecture effectifs (jl)\", \"Date de lecture\"]]\n",
    "# enregistre les 3 titres dans une liste\n",
    "liste_livres = df_book_streamlit[df_book_streamlit[\"jours de lecture effectifs (jl)\"] == df_book_streamlit[\"Durée lecture (j)\"]].sort_values(by=\"Date de lecture\", ascending   =False).head(3)[\"Titre\"].values\n",
    "\n",
    "\n",
    "print(f\"{count} livres lus tous les jours, les 3 derniers : {liste_livres}\")\n"
   ]
  },
  {
   "cell_type": "markdown",
   "metadata": {},
   "source": [
    "## le plus rapide\n",
    "Utiliser le df non filtré"
   ]
  },
  {
   "cell_type": "code",
   "execution_count": 55,
   "metadata": {},
   "outputs": [
    {
     "name": "stdout",
     "output_type": "stream",
     "text": [
      "Livre lu avec la vitessse max : la route de Cormac McCarthy à 2.0 pages à la minute\n"
     ]
    }
   ],
   "source": [
    "livre_rapide = df_book_updated[df_book_updated[\"temps passé sur le livre en minute\"] > 35]\n",
    "livre_rapide = livre_rapide[livre_rapide[\"pages lues à la minute\"] == livre_rapide[\"pages lues à la minute\"].max()]\n",
    "\n",
    "titre_livre_rapide = livre_rapide[livre_rapide[\"pages lues à la minute\"] == livre_rapide[\"pages lues à la minute\"].max()][\"Titre\"].values[0]\n",
    "auteur_livre_rapide =livre_rapide[livre_rapide[\"pages lues à la minute\"] == livre_rapide[\"pages lues à la minute\"].max()][\"Auteurs\"].values[0]\n",
    "vitesse_livre_rapide =livre_rapide[livre_rapide[\"pages lues à la minute\"] == livre_rapide[\"pages lues à la minute\"].max()][\"pages lues à la minute\"].values[0].round(1)\n",
    "\n",
    "\n",
    "# titre_max_temps_lecture = df_book_streamlit[df_book_streamlit[\"Temps de lecture total (hh:mm:ss)\"] == df_book_streamlit[\"Temps de lecture total (hh:mm:ss)\"].max()][\"Titre\"].values[0]\n",
    "# auteur_max_temps_lecture = df_book_streamlit[df_book_streamlit[\"Temps de lecture total (hh:mm:ss)\"] == df_book_streamlit[\"Temps de lecture total (hh:mm:ss)\"].max()][\"Auteurs\"].values[0]\n",
    "# temps_max_lecture = df_book_streamlit[\"Temps de lecture total (hh:mm:ss)\"].max()\n",
    "\n",
    "\n",
    "\n",
    "print(f\"Livre lu avec la vitessse max : {titre_livre_rapide} de {auteur_livre_rapide} à {vitesse_livre_rapide} pages à la minute\")\n",
    "\n"
   ]
  },
  {
   "cell_type": "markdown",
   "metadata": {},
   "source": [
    "## plus addictif : max moyenne pages lues par jour"
   ]
  },
  {
   "cell_type": "code",
   "execution_count": 56,
   "metadata": {},
   "outputs": [
    {
     "name": "stdout",
     "output_type": "stream",
     "text": [
      "Livre lu avec la moyenne de temps de lecture par jour la plus élevée : la route de Cormac McCarthy avec 93.7 minutes de lecture par jour\n"
     ]
    }
   ],
   "source": [
    "livre_addict = df_book_updated[df_book_updated[\"minutes_lecture_par_jour_de_lecture\"] == df_book_updated[\"minutes_lecture_par_jour_de_lecture\"].max()]\n",
    "titre_livre_addict = livre_addict[\"Titre\"].values[0]\n",
    "auteur_livre_addict = livre_addict[\"Auteurs\"].values[0]\n",
    "minutes_livre_addict = livre_addict[\"minutes_lecture_par_jour_de_lecture\"].values[0]\n",
    "\n",
    "print(f\"Livre lu avec la moyenne de temps de lecture par jour la plus élevée : {titre_livre_addict} de {auteur_livre_addict} avec {minutes_livre_addict} minutes de lecture par jour\")"
   ]
  },
  {
   "cell_type": "markdown",
   "metadata": {},
   "source": [
    "## les stats depuis le prisme inversé : pic de vitesse (date et livre), page lu en 1 journée (date et livre), heure de lecture max en 1 journée (date et livre)"
   ]
  },
  {
   "cell_type": "markdown",
   "metadata": {},
   "source": [
    "### 1. Heure de lecture max dans la journée"
   ]
  },
  {
   "cell_type": "markdown",
   "metadata": {},
   "source": [
    "Partie 1 : group by date lecture\n",
    "* probleme : 1 journée peut avoir jusqu'à 6 livres different. Donc impossible de retrouver les livres correspondant."
   ]
  },
  {
   "cell_type": "code",
   "execution_count": 60,
   "metadata": {},
   "outputs": [
    {
     "data": {
      "text/html": [
       "<div>\n",
       "<style scoped>\n",
       "    .dataframe tbody tr th:only-of-type {\n",
       "        vertical-align: middle;\n",
       "    }\n",
       "\n",
       "    .dataframe tbody tr th {\n",
       "        vertical-align: top;\n",
       "    }\n",
       "\n",
       "    .dataframe thead th {\n",
       "        text-align: right;\n",
       "    }\n",
       "</style>\n",
       "<table border=\"1\" class=\"dataframe\">\n",
       "  <thead>\n",
       "    <tr style=\"text-align: right;\">\n",
       "      <th></th>\n",
       "      <th>id_book</th>\n",
       "      <th>page</th>\n",
       "      <th>heure de début</th>\n",
       "      <th>Temps passé sur la page en seconde</th>\n",
       "      <th>total_pages</th>\n",
       "      <th>id_long</th>\n",
       "      <th>Temps de lecture en minute</th>\n",
       "      <th>Temps de lecture en heure</th>\n",
       "      <th>date lecture</th>\n",
       "      <th>Heure de début de lecture</th>\n",
       "      <th>Heure</th>\n",
       "      <th>Heure en décimal</th>\n",
       "      <th>Jour Précédent</th>\n",
       "      <th>Est Consécutif</th>\n",
       "      <th>date de fin de lecture</th>\n",
       "    </tr>\n",
       "  </thead>\n",
       "  <tbody>\n",
       "    <tr>\n",
       "      <th>0</th>\n",
       "      <td>1</td>\n",
       "      <td>1</td>\n",
       "      <td>2023-11-21 20:26:32</td>\n",
       "      <td>14</td>\n",
       "      <td>8</td>\n",
       "      <td>00001</td>\n",
       "      <td>0.233333</td>\n",
       "      <td>0.003889</td>\n",
       "      <td>2023-11-21</td>\n",
       "      <td>20:26:32</td>\n",
       "      <td>20</td>\n",
       "      <td>20.433333</td>\n",
       "      <td>2023-11-20</td>\n",
       "      <td>False</td>\n",
       "      <td>2023-11-21</td>\n",
       "    </tr>\n",
       "    <tr>\n",
       "      <th>1</th>\n",
       "      <td>1</td>\n",
       "      <td>6</td>\n",
       "      <td>2023-11-21 20:26:46</td>\n",
       "      <td>21</td>\n",
       "      <td>8</td>\n",
       "      <td>00001</td>\n",
       "      <td>0.350000</td>\n",
       "      <td>0.005833</td>\n",
       "      <td>2023-11-21</td>\n",
       "      <td>20:26:46</td>\n",
       "      <td>20</td>\n",
       "      <td>20.433333</td>\n",
       "      <td>2023-11-20</td>\n",
       "      <td>True</td>\n",
       "      <td>2023-11-21</td>\n",
       "    </tr>\n",
       "    <tr>\n",
       "      <th>2</th>\n",
       "      <td>1</td>\n",
       "      <td>7</td>\n",
       "      <td>2023-11-21 20:27:10</td>\n",
       "      <td>5</td>\n",
       "      <td>8</td>\n",
       "      <td>00001</td>\n",
       "      <td>0.083333</td>\n",
       "      <td>0.001389</td>\n",
       "      <td>2023-11-21</td>\n",
       "      <td>20:27:10</td>\n",
       "      <td>20</td>\n",
       "      <td>20.450000</td>\n",
       "      <td>2023-11-20</td>\n",
       "      <td>True</td>\n",
       "      <td>2023-11-21</td>\n",
       "    </tr>\n",
       "    <tr>\n",
       "      <th>3</th>\n",
       "      <td>1</td>\n",
       "      <td>8</td>\n",
       "      <td>2023-11-21 20:27:15</td>\n",
       "      <td>14</td>\n",
       "      <td>8</td>\n",
       "      <td>00001</td>\n",
       "      <td>0.233333</td>\n",
       "      <td>0.003889</td>\n",
       "      <td>2023-11-21</td>\n",
       "      <td>20:27:15</td>\n",
       "      <td>20</td>\n",
       "      <td>20.450000</td>\n",
       "      <td>2023-11-20</td>\n",
       "      <td>True</td>\n",
       "      <td>2023-11-21</td>\n",
       "    </tr>\n",
       "    <tr>\n",
       "      <th>4</th>\n",
       "      <td>2</td>\n",
       "      <td>5</td>\n",
       "      <td>2023-11-21 20:41:41</td>\n",
       "      <td>120</td>\n",
       "      <td>346</td>\n",
       "      <td>00002</td>\n",
       "      <td>2.000000</td>\n",
       "      <td>0.033333</td>\n",
       "      <td>2023-11-21</td>\n",
       "      <td>20:41:41</td>\n",
       "      <td>20</td>\n",
       "      <td>20.683333</td>\n",
       "      <td>2023-11-20</td>\n",
       "      <td>True</td>\n",
       "      <td>2023-11-27</td>\n",
       "    </tr>\n",
       "  </tbody>\n",
       "</table>\n",
       "</div>"
      ],
      "text/plain": [
       "   id_book  page      heure de début  Temps passé sur la page en seconde  \\\n",
       "0        1     1 2023-11-21 20:26:32                                  14   \n",
       "1        1     6 2023-11-21 20:26:46                                  21   \n",
       "2        1     7 2023-11-21 20:27:10                                   5   \n",
       "3        1     8 2023-11-21 20:27:15                                  14   \n",
       "4        2     5 2023-11-21 20:41:41                                 120   \n",
       "\n",
       "   total_pages id_long  Temps de lecture en minute  Temps de lecture en heure  \\\n",
       "0            8   00001                    0.233333                   0.003889   \n",
       "1            8   00001                    0.350000                   0.005833   \n",
       "2            8   00001                    0.083333                   0.001389   \n",
       "3            8   00001                    0.233333                   0.003889   \n",
       "4          346   00002                    2.000000                   0.033333   \n",
       "\n",
       "  date lecture Heure de début de lecture  Heure  Heure en décimal  \\\n",
       "0   2023-11-21                  20:26:32     20         20.433333   \n",
       "1   2023-11-21                  20:26:46     20         20.433333   \n",
       "2   2023-11-21                  20:27:10     20         20.450000   \n",
       "3   2023-11-21                  20:27:15     20         20.450000   \n",
       "4   2023-11-21                  20:41:41     20         20.683333   \n",
       "\n",
       "  Jour Précédent  Est Consécutif date de fin de lecture  \n",
       "0     2023-11-20           False             2023-11-21  \n",
       "1     2023-11-20            True             2023-11-21  \n",
       "2     2023-11-20            True             2023-11-21  \n",
       "3     2023-11-20            True             2023-11-21  \n",
       "4     2023-11-20            True             2023-11-27  "
      ]
     },
     "execution_count": 60,
     "metadata": {},
     "output_type": "execute_result"
    }
   ],
   "source": [
    "df_stat.head()"
   ]
  },
  {
   "cell_type": "code",
   "execution_count": null,
   "metadata": {},
   "outputs": [
    {
     "data": {
      "text/html": [
       "<div>\n",
       "<style scoped>\n",
       "    .dataframe tbody tr th:only-of-type {\n",
       "        vertical-align: middle;\n",
       "    }\n",
       "\n",
       "    .dataframe tbody tr th {\n",
       "        vertical-align: top;\n",
       "    }\n",
       "\n",
       "    .dataframe thead th {\n",
       "        text-align: right;\n",
       "    }\n",
       "</style>\n",
       "<table border=\"1\" class=\"dataframe\">\n",
       "  <thead>\n",
       "    <tr style=\"text-align: right;\">\n",
       "      <th></th>\n",
       "      <th>date lecture</th>\n",
       "      <th>id_book</th>\n",
       "      <th>Temps passé sur la page en seconde</th>\n",
       "      <th>page</th>\n",
       "      <th>Temps passé sur la page en minute</th>\n",
       "    </tr>\n",
       "  </thead>\n",
       "  <tbody>\n",
       "    <tr>\n",
       "      <th>271</th>\n",
       "      <td>2024-08-11</td>\n",
       "      <td>62</td>\n",
       "      <td>13500</td>\n",
       "      <td>257</td>\n",
       "      <td>225.0</td>\n",
       "    </tr>\n",
       "    <tr>\n",
       "      <th>187</th>\n",
       "      <td>2024-05-26</td>\n",
       "      <td>40</td>\n",
       "      <td>13206</td>\n",
       "      <td>385</td>\n",
       "      <td>220.1</td>\n",
       "    </tr>\n",
       "    <tr>\n",
       "      <th>265</th>\n",
       "      <td>2024-08-05</td>\n",
       "      <td>62</td>\n",
       "      <td>11729</td>\n",
       "      <td>220</td>\n",
       "      <td>195.5</td>\n",
       "    </tr>\n",
       "    <tr>\n",
       "      <th>302</th>\n",
       "      <td>2024-09-23</td>\n",
       "      <td>67</td>\n",
       "      <td>11293</td>\n",
       "      <td>271</td>\n",
       "      <td>188.2</td>\n",
       "    </tr>\n",
       "    <tr>\n",
       "      <th>341</th>\n",
       "      <td>2024-11-03</td>\n",
       "      <td>72</td>\n",
       "      <td>10506</td>\n",
       "      <td>237</td>\n",
       "      <td>175.1</td>\n",
       "    </tr>\n",
       "    <tr>\n",
       "      <th>176</th>\n",
       "      <td>2024-05-15</td>\n",
       "      <td>38</td>\n",
       "      <td>10180</td>\n",
       "      <td>278</td>\n",
       "      <td>169.7</td>\n",
       "    </tr>\n",
       "    <tr>\n",
       "      <th>89</th>\n",
       "      <td>2024-02-26</td>\n",
       "      <td>24</td>\n",
       "      <td>9616</td>\n",
       "      <td>227</td>\n",
       "      <td>160.3</td>\n",
       "    </tr>\n",
       "    <tr>\n",
       "      <th>242</th>\n",
       "      <td>2024-07-14</td>\n",
       "      <td>57</td>\n",
       "      <td>9500</td>\n",
       "      <td>226</td>\n",
       "      <td>158.3</td>\n",
       "    </tr>\n",
       "    <tr>\n",
       "      <th>88</th>\n",
       "      <td>2024-02-25</td>\n",
       "      <td>24</td>\n",
       "      <td>9493</td>\n",
       "      <td>235</td>\n",
       "      <td>158.2</td>\n",
       "    </tr>\n",
       "    <tr>\n",
       "      <th>307</th>\n",
       "      <td>2024-09-29</td>\n",
       "      <td>67</td>\n",
       "      <td>9136</td>\n",
       "      <td>266</td>\n",
       "      <td>152.3</td>\n",
       "    </tr>\n",
       "  </tbody>\n",
       "</table>\n",
       "</div>"
      ],
      "text/plain": [
       "    date lecture  id_book  Temps passé sur la page en seconde  page  \\\n",
       "271   2024-08-11       62                               13500   257   \n",
       "187   2024-05-26       40                               13206   385   \n",
       "265   2024-08-05       62                               11729   220   \n",
       "302   2024-09-23       67                               11293   271   \n",
       "341   2024-11-03       72                               10506   237   \n",
       "176   2024-05-15       38                               10180   278   \n",
       "89    2024-02-26       24                                9616   227   \n",
       "242   2024-07-14       57                                9500   226   \n",
       "88    2024-02-25       24                                9493   235   \n",
       "307   2024-09-29       67                                9136   266   \n",
       "\n",
       "     Temps passé sur la page en minute  \n",
       "271                              225.0  \n",
       "187                              220.1  \n",
       "265                              195.5  \n",
       "302                              188.2  \n",
       "341                              175.1  \n",
       "176                              169.7  \n",
       "89                               160.3  \n",
       "242                              158.3  \n",
       "88                               158.2  \n",
       "307                              152.3  "
      ]
     },
     "execution_count": 57,
     "metadata": {},
     "output_type": "execute_result"
    }
   ],
   "source": [
    "# groupby statlecture par date lecture, garder les colonnes : id_book, \n",
    "df_stat_grouped_date_1 = df_stat.groupby(['date lecture',\"id_book\"]).agg({ # probleme ici, avec le double group by, on perd les lignes sur le meme jour\n",
    "    'Temps passé sur la page en seconde': 'sum',\n",
    "    \"page\":\"nunique\"\n",
    "}).reset_index()\n",
    "df_stat_grouped_date_1[\"Temps passé sur la page en minute\"] = (df_stat_grouped_date_1[\"Temps passé sur la page en seconde\"] / 60).round(1)\n",
    "\n",
    "df_stat_grouped_date_1.sort_values(\"Temps passé sur la page en minute\", ascending=False).head(10)\n",
    "# df_stat_grouped_date_1.sort_values(\"id_book\", ascending=False).head(10)   "
   ]
  },
  {
   "cell_type": "markdown",
   "metadata": {},
   "source": [
    "partie 2 : group by date lecture + id book\n",
    "* Fonctionne, mais on perd la notion de jours puisque une session de lecture sera divisée par ses differents livres."
   ]
  },
  {
   "cell_type": "code",
   "execution_count": 58,
   "metadata": {},
   "outputs": [
    {
     "data": {
      "text/html": [
       "<div>\n",
       "<style scoped>\n",
       "    .dataframe tbody tr th:only-of-type {\n",
       "        vertical-align: middle;\n",
       "    }\n",
       "\n",
       "    .dataframe tbody tr th {\n",
       "        vertical-align: top;\n",
       "    }\n",
       "\n",
       "    .dataframe thead th {\n",
       "        text-align: right;\n",
       "    }\n",
       "</style>\n",
       "<table border=\"1\" class=\"dataframe\">\n",
       "  <thead>\n",
       "    <tr style=\"text-align: right;\">\n",
       "      <th></th>\n",
       "      <th>date lecture</th>\n",
       "      <th>id_book</th>\n",
       "      <th>Temps passé sur la page en seconde</th>\n",
       "      <th>page</th>\n",
       "      <th>Temps passé à lire en minute</th>\n",
       "    </tr>\n",
       "  </thead>\n",
       "  <tbody>\n",
       "    <tr>\n",
       "      <th>271</th>\n",
       "      <td>2024-08-11</td>\n",
       "      <td>62</td>\n",
       "      <td>13500</td>\n",
       "      <td>257</td>\n",
       "      <td>225.0</td>\n",
       "    </tr>\n",
       "    <tr>\n",
       "      <th>187</th>\n",
       "      <td>2024-05-26</td>\n",
       "      <td>40</td>\n",
       "      <td>13206</td>\n",
       "      <td>385</td>\n",
       "      <td>220.1</td>\n",
       "    </tr>\n",
       "    <tr>\n",
       "      <th>265</th>\n",
       "      <td>2024-08-05</td>\n",
       "      <td>62</td>\n",
       "      <td>11729</td>\n",
       "      <td>220</td>\n",
       "      <td>195.5</td>\n",
       "    </tr>\n",
       "    <tr>\n",
       "      <th>302</th>\n",
       "      <td>2024-09-23</td>\n",
       "      <td>67</td>\n",
       "      <td>11293</td>\n",
       "      <td>271</td>\n",
       "      <td>188.2</td>\n",
       "    </tr>\n",
       "    <tr>\n",
       "      <th>341</th>\n",
       "      <td>2024-11-03</td>\n",
       "      <td>72</td>\n",
       "      <td>10506</td>\n",
       "      <td>237</td>\n",
       "      <td>175.1</td>\n",
       "    </tr>\n",
       "    <tr>\n",
       "      <th>176</th>\n",
       "      <td>2024-05-15</td>\n",
       "      <td>38</td>\n",
       "      <td>10180</td>\n",
       "      <td>278</td>\n",
       "      <td>169.7</td>\n",
       "    </tr>\n",
       "    <tr>\n",
       "      <th>89</th>\n",
       "      <td>2024-02-26</td>\n",
       "      <td>24</td>\n",
       "      <td>9616</td>\n",
       "      <td>227</td>\n",
       "      <td>160.3</td>\n",
       "    </tr>\n",
       "    <tr>\n",
       "      <th>242</th>\n",
       "      <td>2024-07-14</td>\n",
       "      <td>57</td>\n",
       "      <td>9500</td>\n",
       "      <td>226</td>\n",
       "      <td>158.3</td>\n",
       "    </tr>\n",
       "    <tr>\n",
       "      <th>88</th>\n",
       "      <td>2024-02-25</td>\n",
       "      <td>24</td>\n",
       "      <td>9493</td>\n",
       "      <td>235</td>\n",
       "      <td>158.2</td>\n",
       "    </tr>\n",
       "    <tr>\n",
       "      <th>307</th>\n",
       "      <td>2024-09-29</td>\n",
       "      <td>67</td>\n",
       "      <td>9136</td>\n",
       "      <td>266</td>\n",
       "      <td>152.3</td>\n",
       "    </tr>\n",
       "  </tbody>\n",
       "</table>\n",
       "</div>"
      ],
      "text/plain": [
       "    date lecture  id_book  Temps passé sur la page en seconde  page  \\\n",
       "271   2024-08-11       62                               13500   257   \n",
       "187   2024-05-26       40                               13206   385   \n",
       "265   2024-08-05       62                               11729   220   \n",
       "302   2024-09-23       67                               11293   271   \n",
       "341   2024-11-03       72                               10506   237   \n",
       "176   2024-05-15       38                               10180   278   \n",
       "89    2024-02-26       24                                9616   227   \n",
       "242   2024-07-14       57                                9500   226   \n",
       "88    2024-02-25       24                                9493   235   \n",
       "307   2024-09-29       67                                9136   266   \n",
       "\n",
       "     Temps passé à lire en minute  \n",
       "271                         225.0  \n",
       "187                         220.1  \n",
       "265                         195.5  \n",
       "302                         188.2  \n",
       "341                         175.1  \n",
       "176                         169.7  \n",
       "89                          160.3  \n",
       "242                         158.3  \n",
       "88                          158.2  \n",
       "307                         152.3  "
      ]
     },
     "execution_count": 58,
     "metadata": {},
     "output_type": "execute_result"
    }
   ],
   "source": [
    "df_stat_grouped_date_2 = df_stat.groupby(['date lecture', 'id_book']).agg({\n",
    "    'Temps passé sur la page en seconde': 'sum',\n",
    "    'page': 'nunique',\n",
    "}).reset_index()\n",
    "\n",
    "# Calcul du temps passé en minutes\n",
    "df_stat_grouped_date_2[\"Temps passé à lire en minute\"] = (df_stat_grouped_date_2[\"Temps passé sur la page en seconde\"] / 60).round(1)\n",
    "\n",
    "\n",
    "\n",
    "df_stat_grouped_date_2.sort_values(\"Temps passé à lire en minute\", ascending=False).head(10)\n"
   ]
  },
  {
   "cell_type": "code",
   "execution_count": 65,
   "metadata": {},
   "outputs": [
    {
     "data": {
      "text/html": [
       "<div>\n",
       "<style scoped>\n",
       "    .dataframe tbody tr th:only-of-type {\n",
       "        vertical-align: middle;\n",
       "    }\n",
       "\n",
       "    .dataframe tbody tr th {\n",
       "        vertical-align: top;\n",
       "    }\n",
       "\n",
       "    .dataframe thead th {\n",
       "        text-align: right;\n",
       "    }\n",
       "</style>\n",
       "<table border=\"1\" class=\"dataframe\">\n",
       "  <thead>\n",
       "    <tr style=\"text-align: right;\">\n",
       "      <th></th>\n",
       "      <th>id</th>\n",
       "      <th>Titre</th>\n",
       "      <th>Auteurs</th>\n",
       "      <th>Auteurs courts</th>\n",
       "      <th>Langue</th>\n",
       "      <th>categorie</th>\n",
       "      <th>série</th>\n",
       "      <th>numéro_série</th>\n",
       "      <th>oeuvre</th>\n",
       "      <th>First published date</th>\n",
       "      <th>Date dernière ouverture</th>\n",
       "      <th>total Nbr de pages du livre</th>\n",
       "      <th>total Nbr de pages lues</th>\n",
       "      <th>pages lues à la minute</th>\n",
       "      <th>pourcent_lu</th>\n",
       "      <th>start_date</th>\n",
       "      <th>end_date</th>\n",
       "      <th>intervalle_lecture_en_jour</th>\n",
       "      <th>nb_dates_lecture_distinctes</th>\n",
       "      <th>nb_pages_lues_par_jour_de_lecture</th>\n",
       "      <th>temps passé sur le livre en seconde</th>\n",
       "      <th>temps passé sur le livre en minute</th>\n",
       "      <th>temps passé sur le livre en heure</th>\n",
       "      <th>heure_lecture_par_jour_de_lecture</th>\n",
       "      <th>minutes_lecture_par_jour_de_lecture</th>\n",
       "      <th>temps_lecture_par_jour_de_lecture_formatee(hh:mm:ss)</th>\n",
       "      <th>total_temps_de_lecture_(hh:mm:ss)</th>\n",
       "    </tr>\n",
       "  </thead>\n",
       "  <tbody>\n",
       "    <tr>\n",
       "      <th>0</th>\n",
       "      <td>73</td>\n",
       "      <td>Projet secret T2 : Manuel de Survie du Sorcier...</td>\n",
       "      <td>Brandon Sanderson</td>\n",
       "      <td>Brandon Sanderson</td>\n",
       "      <td>fr</td>\n",
       "      <td>fiction/fantasy</td>\n",
       "      <td>N/A</td>\n",
       "      <td>None</td>\n",
       "      <td>Projet secret T2 : Manuel de Survie du Sorcier...</td>\n",
       "      <td>2023</td>\n",
       "      <td>2024-11-06</td>\n",
       "      <td>636</td>\n",
       "      <td>114</td>\n",
       "      <td>1.665449</td>\n",
       "      <td>18</td>\n",
       "      <td>2024-11-04</td>\n",
       "      <td>2024-11-06</td>\n",
       "      <td>3</td>\n",
       "      <td>3</td>\n",
       "      <td>38.0</td>\n",
       "      <td>4107</td>\n",
       "      <td>68.45</td>\n",
       "      <td>1.14</td>\n",
       "      <td>0.38</td>\n",
       "      <td>22.8</td>\n",
       "      <td>0:22</td>\n",
       "      <td>1:08:27</td>\n",
       "    </tr>\n",
       "    <tr>\n",
       "      <th>1</th>\n",
       "      <td>72</td>\n",
       "      <td>Voyageur 4 : La Galaxie vue du sol</td>\n",
       "      <td>Becky Chambers</td>\n",
       "      <td>Becky Chambers</td>\n",
       "      <td>fr</td>\n",
       "      <td>fiction/SF</td>\n",
       "      <td>Les voyageurs</td>\n",
       "      <td>4</td>\n",
       "      <td>Voyageur 4 : La Galaxie vue du sol - Becky Cha...</td>\n",
       "      <td>2021</td>\n",
       "      <td>2024-11-04</td>\n",
       "      <td>400</td>\n",
       "      <td>382</td>\n",
       "      <td>1.299452</td>\n",
       "      <td>100</td>\n",
       "      <td>2024-10-27</td>\n",
       "      <td>2024-11-04</td>\n",
       "      <td>9</td>\n",
       "      <td>6</td>\n",
       "      <td>63.7</td>\n",
       "      <td>17638</td>\n",
       "      <td>293.97</td>\n",
       "      <td>4.90</td>\n",
       "      <td>0.82</td>\n",
       "      <td>49.0</td>\n",
       "      <td>0:49</td>\n",
       "      <td>4:53:58</td>\n",
       "    </tr>\n",
       "    <tr>\n",
       "      <th>2</th>\n",
       "      <td>71</td>\n",
       "      <td>Blackwater 4 – La Guerre: L'épique saga de la ...</td>\n",
       "      <td>Michael McDowell</td>\n",
       "      <td>Michael McDowell</td>\n",
       "      <td>fr</td>\n",
       "      <td>fiction/fantastique</td>\n",
       "      <td>Blackwater</td>\n",
       "      <td>4</td>\n",
       "      <td>Blackwater 4 – La Guerre: L'épique saga de la ...</td>\n",
       "      <td>1983</td>\n",
       "      <td>2024-11-02</td>\n",
       "      <td>257</td>\n",
       "      <td>249</td>\n",
       "      <td>1.741624</td>\n",
       "      <td>100</td>\n",
       "      <td>2024-10-23</td>\n",
       "      <td>2024-11-02</td>\n",
       "      <td>11</td>\n",
       "      <td>6</td>\n",
       "      <td>41.5</td>\n",
       "      <td>8578</td>\n",
       "      <td>142.97</td>\n",
       "      <td>2.38</td>\n",
       "      <td>0.40</td>\n",
       "      <td>23.8</td>\n",
       "      <td>0:24</td>\n",
       "      <td>2:22:58</td>\n",
       "    </tr>\n",
       "    <tr>\n",
       "      <th>3</th>\n",
       "      <td>70</td>\n",
       "      <td>Voyageur 3 : Archives de l'exode</td>\n",
       "      <td>Becky Chambers</td>\n",
       "      <td>Becky Chambers</td>\n",
       "      <td>fr</td>\n",
       "      <td>fiction/SF</td>\n",
       "      <td>Les voyageurs</td>\n",
       "      <td>3</td>\n",
       "      <td>Voyageur 3 : Archives de l'exode - Becky Chambers</td>\n",
       "      <td>2018</td>\n",
       "      <td>2024-10-23</td>\n",
       "      <td>441</td>\n",
       "      <td>422</td>\n",
       "      <td>1.137773</td>\n",
       "      <td>100</td>\n",
       "      <td>2024-10-08</td>\n",
       "      <td>2024-10-23</td>\n",
       "      <td>16</td>\n",
       "      <td>13</td>\n",
       "      <td>32.5</td>\n",
       "      <td>22254</td>\n",
       "      <td>370.90</td>\n",
       "      <td>6.18</td>\n",
       "      <td>0.48</td>\n",
       "      <td>28.5</td>\n",
       "      <td>0:28</td>\n",
       "      <td>6:10:54</td>\n",
       "    </tr>\n",
       "    <tr>\n",
       "      <th>4</th>\n",
       "      <td>69</td>\n",
       "      <td>Blackwater 3 – La Maison: L'épique saga de la ...</td>\n",
       "      <td>Michael McDowell</td>\n",
       "      <td>Michael McDowell</td>\n",
       "      <td>fr</td>\n",
       "      <td>fiction/fantastique</td>\n",
       "      <td>Blackwater</td>\n",
       "      <td>3</td>\n",
       "      <td>Blackwater 3 – La Maison: L'épique saga de la ...</td>\n",
       "      <td>1983</td>\n",
       "      <td>2024-10-08</td>\n",
       "      <td>213</td>\n",
       "      <td>206</td>\n",
       "      <td>1.441870</td>\n",
       "      <td>100</td>\n",
       "      <td>2024-10-03</td>\n",
       "      <td>2024-10-08</td>\n",
       "      <td>6</td>\n",
       "      <td>5</td>\n",
       "      <td>41.2</td>\n",
       "      <td>8572</td>\n",
       "      <td>142.87</td>\n",
       "      <td>2.38</td>\n",
       "      <td>0.48</td>\n",
       "      <td>28.6</td>\n",
       "      <td>0:28</td>\n",
       "      <td>2:22:52</td>\n",
       "    </tr>\n",
       "  </tbody>\n",
       "</table>\n",
       "</div>"
      ],
      "text/plain": [
       "   id                                              Titre            Auteurs  \\\n",
       "0  73  Projet secret T2 : Manuel de Survie du Sorcier...  Brandon Sanderson   \n",
       "1  72                 Voyageur 4 : La Galaxie vue du sol     Becky Chambers   \n",
       "2  71  Blackwater 4 – La Guerre: L'épique saga de la ...   Michael McDowell   \n",
       "3  70                   Voyageur 3 : Archives de l'exode     Becky Chambers   \n",
       "4  69  Blackwater 3 – La Maison: L'épique saga de la ...   Michael McDowell   \n",
       "\n",
       "      Auteurs courts Langue            categorie           série numéro_série  \\\n",
       "0  Brandon Sanderson     fr      fiction/fantasy             N/A         None   \n",
       "1     Becky Chambers     fr           fiction/SF  Les voyageurs             4   \n",
       "2   Michael McDowell     fr  fiction/fantastique     Blackwater             4   \n",
       "3     Becky Chambers     fr           fiction/SF  Les voyageurs             3   \n",
       "4   Michael McDowell     fr  fiction/fantastique     Blackwater             3   \n",
       "\n",
       "                                              oeuvre First published date  \\\n",
       "0  Projet secret T2 : Manuel de Survie du Sorcier...                 2023   \n",
       "1  Voyageur 4 : La Galaxie vue du sol - Becky Cha...                 2021   \n",
       "2  Blackwater 4 – La Guerre: L'épique saga de la ...                 1983   \n",
       "3  Voyageur 3 : Archives de l'exode - Becky Chambers                 2018   \n",
       "4  Blackwater 3 – La Maison: L'épique saga de la ...                 1983   \n",
       "\n",
       "  Date dernière ouverture  total Nbr de pages du livre  \\\n",
       "0              2024-11-06                          636   \n",
       "1              2024-11-04                          400   \n",
       "2              2024-11-02                          257   \n",
       "3              2024-10-23                          441   \n",
       "4              2024-10-08                          213   \n",
       "\n",
       "   total Nbr de pages lues  pages lues à la minute  pourcent_lu  start_date  \\\n",
       "0                      114                1.665449           18  2024-11-04   \n",
       "1                      382                1.299452          100  2024-10-27   \n",
       "2                      249                1.741624          100  2024-10-23   \n",
       "3                      422                1.137773          100  2024-10-08   \n",
       "4                      206                1.441870          100  2024-10-03   \n",
       "\n",
       "     end_date  intervalle_lecture_en_jour  nb_dates_lecture_distinctes  \\\n",
       "0  2024-11-06                           3                            3   \n",
       "1  2024-11-04                           9                            6   \n",
       "2  2024-11-02                          11                            6   \n",
       "3  2024-10-23                          16                           13   \n",
       "4  2024-10-08                           6                            5   \n",
       "\n",
       "   nb_pages_lues_par_jour_de_lecture  temps passé sur le livre en seconde  \\\n",
       "0                               38.0                                 4107   \n",
       "1                               63.7                                17638   \n",
       "2                               41.5                                 8578   \n",
       "3                               32.5                                22254   \n",
       "4                               41.2                                 8572   \n",
       "\n",
       "   temps passé sur le livre en minute  temps passé sur le livre en heure  \\\n",
       "0                               68.45                               1.14   \n",
       "1                              293.97                               4.90   \n",
       "2                              142.97                               2.38   \n",
       "3                              370.90                               6.18   \n",
       "4                              142.87                               2.38   \n",
       "\n",
       "   heure_lecture_par_jour_de_lecture  minutes_lecture_par_jour_de_lecture  \\\n",
       "0                               0.38                                 22.8   \n",
       "1                               0.82                                 49.0   \n",
       "2                               0.40                                 23.8   \n",
       "3                               0.48                                 28.5   \n",
       "4                               0.48                                 28.6   \n",
       "\n",
       "  temps_lecture_par_jour_de_lecture_formatee(hh:mm:ss)  \\\n",
       "0                                               0:22     \n",
       "1                                               0:49     \n",
       "2                                               0:24     \n",
       "3                                               0:28     \n",
       "4                                               0:28     \n",
       "\n",
       "  total_temps_de_lecture_(hh:mm:ss)  \n",
       "0                           1:08:27  \n",
       "1                           4:53:58  \n",
       "2                           2:22:58  \n",
       "3                           6:10:54  \n",
       "4                           2:22:52  "
      ]
     },
     "execution_count": 65,
     "metadata": {},
     "output_type": "execute_result"
    }
   ],
   "source": [
    "df_book_updated.head()"
   ]
  },
  {
   "cell_type": "markdown",
   "metadata": {},
   "source": [
    "Solution : \n",
    "\n",
    "Faire un group by, date lecture : \n",
    "* sum : temps passé sur la page\n",
    "* sum id_book\n",
    "* concatenate la liste des id_book de chaque ligne ? (ou les titres de livre directement)\n",
    "\n",
    "\n",
    "--> Permet d'identifier le jour avec le plus longtemps en lecture, et les livres identifiés"
   ]
  },
  {
   "cell_type": "code",
   "execution_count": 66,
   "metadata": {},
   "outputs": [
    {
     "name": "stdout",
     "output_type": "stream",
     "text": [
      "    date lecture  Temps de lecture en minute  Nombre de pages  \\\n",
      "0     2012-05-01                   36.900000               52   \n",
      "1     2023-11-21                   33.833333               40   \n",
      "2     2023-11-22                   21.166667               36   \n",
      "3     2023-11-23                   91.300000              160   \n",
      "4     2023-11-24                    9.500000               11   \n",
      "..           ...                         ...              ...   \n",
      "265   2024-11-02                   69.783333               92   \n",
      "266   2024-11-03                  175.100000              237   \n",
      "267   2024-11-04                   36.633333               69   \n",
      "268   2024-11-05                   22.150000               31   \n",
      "269   2024-11-06                    9.816667               15   \n",
      "\n",
      "     Nombre de livres                                              Books  \n",
      "0                   2  57 (Légendes et lattes), 58 (Roman secret 3 - ...  \n",
      "1                   2          1 (nan), 2 (Le crime de l'Orient-Express)  \n",
      "2                   1                   2 (Le crime de l'Orient-Express)  \n",
      "3                   1                   2 (Le crime de l'Orient-Express)  \n",
      "4                   1                   2 (Le crime de l'Orient-Express)  \n",
      "..                ...                                                ...  \n",
      "265                 2  71 (Blackwater 4 – La Guerre: L'épique saga de...  \n",
      "266                 1            72 (Voyageur 4 : La Galaxie vue du sol)  \n",
      "267                 2  72 (Voyageur 4 : La Galaxie vue du sol), 73 (P...  \n",
      "268                 1  73 (Projet secret T2 : Manuel de Survie du Sor...  \n",
      "269                 1  73 (Projet secret T2 : Manuel de Survie du Sor...  \n",
      "\n",
      "[270 rows x 5 columns]\n"
     ]
    },
    {
     "name": "stderr",
     "output_type": "stream",
     "text": [
      "C:\\Users\\chric\\AppData\\Local\\Temp\\ipykernel_21332\\4005772689.py:15: DeprecationWarning:\n",
      "\n",
      "DataFrameGroupBy.apply operated on the grouping columns. This behavior is deprecated, and in a future version of pandas the grouping columns will be excluded from the operation. Either pass `include_groups=False` to exclude the groupings or explicitly select the grouping columns after groupby to silence this warning.\n",
      "\n"
     ]
    }
   ],
   "source": [
    "# Convertir la colonne 'date lecture' en datetime\n",
    "df_stat['date lecture'] = pd.to_datetime(df_stat['date lecture'], format='%Y-%m-%d')\n",
    "\n",
    "# Joindre df_stat avec df_book_updated pour inclure le nom des livres\n",
    "df_stat = df_stat.merge(df_book_updated, left_on='id_book', right_on='id', how='left')\n",
    "\n",
    "# Agréger les données par 'date lecture'\n",
    "agg_data = df_stat.groupby('date lecture').agg({\n",
    "    'Temps de lecture en minute': 'sum',\n",
    "    'page': 'nunique',\n",
    "    'id_book': 'nunique'\n",
    "}).reset_index()\n",
    "\n",
    "# Ajouter la liste des id_book et des titres pour chaque date de lecture\n",
    "book_ids_titles_by_date = df_stat.groupby('date lecture').apply(\n",
    "    lambda x: ', '.join(sorted(set(f\"{row['id_book']} ({row['Titre']})\" for _, row in x.iterrows())))\n",
    ").reset_index()\n",
    "\n",
    "# Fusionner les deux DataFrames\n",
    "merged_data = pd.merge(agg_data, book_ids_titles_by_date, on='date lecture')\n",
    "\n",
    "# Renommer pour plus de clarté\n",
    "merged_data.columns = ['date lecture', 'Temps de lecture en minute', 'Nombre de pages', 'Nombre de livres', 'Books']\n",
    "\n",
    "# Afficher le résultat\n",
    "print(merged_data)"
   ]
  },
  {
   "cell_type": "code",
   "execution_count": 67,
   "metadata": {},
   "outputs": [
    {
     "data": {
      "text/html": [
       "<div>\n",
       "<style scoped>\n",
       "    .dataframe tbody tr th:only-of-type {\n",
       "        vertical-align: middle;\n",
       "    }\n",
       "\n",
       "    .dataframe tbody tr th {\n",
       "        vertical-align: top;\n",
       "    }\n",
       "\n",
       "    .dataframe thead th {\n",
       "        text-align: right;\n",
       "    }\n",
       "</style>\n",
       "<table border=\"1\" class=\"dataframe\">\n",
       "  <thead>\n",
       "    <tr style=\"text-align: right;\">\n",
       "      <th></th>\n",
       "      <th>date lecture</th>\n",
       "      <th>Temps de lecture en minute</th>\n",
       "      <th>Nombre de pages</th>\n",
       "      <th>Nombre de livres</th>\n",
       "      <th>Books</th>\n",
       "    </tr>\n",
       "  </thead>\n",
       "  <tbody>\n",
       "    <tr>\n",
       "      <th>238</th>\n",
       "      <td>2024-09-29</td>\n",
       "      <td>294.883333</td>\n",
       "      <td>428</td>\n",
       "      <td>2</td>\n",
       "      <td>67 (Voyageur 1 : L'Espace d'un an), 68 (Voyage...</td>\n",
       "    </tr>\n",
       "    <tr>\n",
       "      <th>206</th>\n",
       "      <td>2024-08-11</td>\n",
       "      <td>231.566667</td>\n",
       "      <td>267</td>\n",
       "      <td>2</td>\n",
       "      <td>62 (Leviathan Wakes - the expanse 1), 63 (Blac...</td>\n",
       "    </tr>\n",
       "    <tr>\n",
       "      <th>142</th>\n",
       "      <td>2024-05-26</td>\n",
       "      <td>220.100000</td>\n",
       "      <td>385</td>\n",
       "      <td>1</td>\n",
       "      <td>40 (Des fleurs pour Algernon)</td>\n",
       "    </tr>\n",
       "    <tr>\n",
       "      <th>209</th>\n",
       "      <td>2024-08-14</td>\n",
       "      <td>195.566667</td>\n",
       "      <td>233</td>\n",
       "      <td>2</td>\n",
       "      <td>63 (Blackwater 1 - La crue: L'épique saga de l...</td>\n",
       "    </tr>\n",
       "    <tr>\n",
       "      <th>201</th>\n",
       "      <td>2024-08-05</td>\n",
       "      <td>195.483333</td>\n",
       "      <td>220</td>\n",
       "      <td>1</td>\n",
       "      <td>62 (Leviathan Wakes - the expanse 1)</td>\n",
       "    </tr>\n",
       "    <tr>\n",
       "      <th>233</th>\n",
       "      <td>2024-09-23</td>\n",
       "      <td>188.216667</td>\n",
       "      <td>271</td>\n",
       "      <td>1</td>\n",
       "      <td>67 (Voyageur 1 : L'Espace d'un an)</td>\n",
       "    </tr>\n",
       "    <tr>\n",
       "      <th>132</th>\n",
       "      <td>2024-05-15</td>\n",
       "      <td>178.200000</td>\n",
       "      <td>290</td>\n",
       "      <td>2</td>\n",
       "      <td>38 (Trois corps – 01 – Le problème à trois cor...</td>\n",
       "    </tr>\n",
       "    <tr>\n",
       "      <th>266</th>\n",
       "      <td>2024-11-03</td>\n",
       "      <td>175.100000</td>\n",
       "      <td>237</td>\n",
       "      <td>1</td>\n",
       "      <td>72 (Voyageur 4 : La Galaxie vue du sol)</td>\n",
       "    </tr>\n",
       "    <tr>\n",
       "      <th>59</th>\n",
       "      <td>2024-02-25</td>\n",
       "      <td>169.483333</td>\n",
       "      <td>235</td>\n",
       "      <td>2</td>\n",
       "      <td>19 (Il n'y a pas de parent parfait), 24 (Red R...</td>\n",
       "    </tr>\n",
       "    <tr>\n",
       "      <th>60</th>\n",
       "      <td>2024-02-26</td>\n",
       "      <td>160.266667</td>\n",
       "      <td>227</td>\n",
       "      <td>1</td>\n",
       "      <td>24 (Red Rising)</td>\n",
       "    </tr>\n",
       "  </tbody>\n",
       "</table>\n",
       "</div>"
      ],
      "text/plain": [
       "    date lecture  Temps de lecture en minute  Nombre de pages  \\\n",
       "238   2024-09-29                  294.883333              428   \n",
       "206   2024-08-11                  231.566667              267   \n",
       "142   2024-05-26                  220.100000              385   \n",
       "209   2024-08-14                  195.566667              233   \n",
       "201   2024-08-05                  195.483333              220   \n",
       "233   2024-09-23                  188.216667              271   \n",
       "132   2024-05-15                  178.200000              290   \n",
       "266   2024-11-03                  175.100000              237   \n",
       "59    2024-02-25                  169.483333              235   \n",
       "60    2024-02-26                  160.266667              227   \n",
       "\n",
       "     Nombre de livres                                              Books  \n",
       "238                 2  67 (Voyageur 1 : L'Espace d'un an), 68 (Voyage...  \n",
       "206                 2  62 (Leviathan Wakes - the expanse 1), 63 (Blac...  \n",
       "142                 1                      40 (Des fleurs pour Algernon)  \n",
       "209                 2  63 (Blackwater 1 - La crue: L'épique saga de l...  \n",
       "201                 1               62 (Leviathan Wakes - the expanse 1)  \n",
       "233                 1                 67 (Voyageur 1 : L'Espace d'un an)  \n",
       "132                 2  38 (Trois corps – 01 – Le problème à trois cor...  \n",
       "266                 1            72 (Voyageur 4 : La Galaxie vue du sol)  \n",
       "59                  2  19 (Il n'y a pas de parent parfait), 24 (Red R...  \n",
       "60                  1                                    24 (Red Rising)  "
      ]
     },
     "execution_count": 67,
     "metadata": {},
     "output_type": "execute_result"
    }
   ],
   "source": [
    "# print les 10 premières lignes, triées par 'Temps de lecture en minute' de manière décroissante\n",
    "merged_data.sort_values('Temps de lecture en minute', ascending=False).head(10)\n",
    "\n"
   ]
  },
  {
   "cell_type": "markdown",
   "metadata": {},
   "source": [
    "### Pic de vitesse : "
   ]
  },
  {
   "cell_type": "markdown",
   "metadata": {},
   "source": []
  },
  {
   "cell_type": "code",
   "execution_count": null,
   "metadata": {},
   "outputs": [],
   "source": []
  }
 ],
 "metadata": {
  "kernelspec": {
   "display_name": ".venv",
   "language": "python",
   "name": "python3"
  },
  "language_info": {
   "codemirror_mode": {
    "name": "ipython",
    "version": 3
   },
   "file_extension": ".py",
   "mimetype": "text/x-python",
   "name": "python",
   "nbconvert_exporter": "python",
   "pygments_lexer": "ipython3",
   "version": "3.12.3"
  }
 },
 "nbformat": 4,
 "nbformat_minor": 2
}
